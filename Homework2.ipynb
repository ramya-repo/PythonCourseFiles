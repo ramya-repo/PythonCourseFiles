{
 "cells": [
  {
   "cell_type": "code",
   "execution_count": 1,
   "metadata": {},
   "outputs": [
    {
     "ename": "ModuleNotFoundError",
     "evalue": "No module named 'otter'",
     "output_type": "error",
     "traceback": [
      "\u001b[1;31m---------------------------------------------------------------------------\u001b[0m",
      "\u001b[1;31mModuleNotFoundError\u001b[0m                       Traceback (most recent call last)",
      "Cell \u001b[1;32mIn[1], line 2\u001b[0m\n\u001b[0;32m      1\u001b[0m \u001b[38;5;66;03m# Run this cell first!\u001b[39;00m\n\u001b[1;32m----> 2\u001b[0m \u001b[38;5;28;01mimport\u001b[39;00m \u001b[38;5;21;01motter\u001b[39;00m\n\u001b[0;32m      3\u001b[0m \u001b[38;5;28;01mimport\u001b[39;00m \u001b[38;5;21;01minspect\u001b[39;00m\n\u001b[0;32m      4\u001b[0m \u001b[38;5;28;01mimport\u001b[39;00m \u001b[38;5;21;01msys\u001b[39;00m\n",
      "\u001b[1;31mModuleNotFoundError\u001b[0m: No module named 'otter'"
     ]
    }
   ],
   "source": [
    "# Run this cell first!\n",
    "import otter\n",
    "import inspect\n",
    "import sys\n",
    "from io import StringIO\n",
    "import ast\n",
    "from IPython.display import display, Javascript\n",
    "grader = otter.Notebook(\"Homework2.ipynb\")\n",
    "\n",
    "def capture_output():\n",
    "    # Backup the original stdout\n",
    "    original_stdout = sys.stdout\n",
    "\n",
    "    # Create a StringIO object to capture the output\n",
    "    sys.stdout = StringIO()\n",
    "\n",
    "    return original_stdout\n",
    "\n",
    "def restore_output(original_stdout):\n",
    "    # Capture the output and restore the original stdout\n",
    "    captured_output = sys.stdout.getvalue()\n",
    "    \n",
    "    sys.stdout = original_stdout\n",
    "    \n",
    "    return captured_output"
   ]
  },
  {
   "cell_type": "markdown",
   "metadata": {},
   "source": [
    "# Data Programming in Python | BAIS:6040\n",
    "# Homework 2. Python Basics Part 2"
   ]
  },
  {
   "cell_type": "markdown",
   "metadata": {},
   "source": [
    "10 questions, 6 points in total"
   ]
  },
  {
   "cell_type": "markdown",
   "metadata": {},
   "source": [
    "## Instructions"
   ]
  },
  {
   "cell_type": "markdown",
   "metadata": {},
   "source": [
    "- Fill in the Python statements needed to complete all the questions below. \n",
    "- Program everything inside this notebook. \n",
    "- Use only one cell per question. \n",
    "- Each code cell must be run with no errors.\n",
    "- Do not contain any unnecessary code in your answer. (Only the final outcome will be regarded as your answer.)\n",
    "- If the question requests that you store information in a certain variable, use the specific variables name (case sensitive).\n",
    "- All problems must be solved in a programmable way.\n",
    "- When you are done, make sure to save your notebook and then click Restart & Run All before subimission to create a clean version."
   ]
  },
  {
   "cell_type": "markdown",
   "metadata": {},
   "source": [
    "## Questions"
   ]
  },
  {
   "cell_type": "markdown",
   "metadata": {
    "deletable": false,
    "editable": false
   },
   "source": [
    "1\\. (0.6 pts) You have a string `s`. Write a <b>for</b> loop that appends each letter in `s` in reverse order with no space between letters. The printed output should look as follows:"
   ]
  },
  {
   "cell_type": "raw",
   "metadata": {
    "deletable": false,
    "editable": false
   },
   "source": [
    "zyxwvutsrqponmlkjihgfedcba"
   ]
  },
  {
   "cell_type": "code",
   "execution_count": 3,
   "metadata": {
    "deletable": false,
    "editable": false
   },
   "outputs": [],
   "source": [
    "# Run this cell. Do not modify anything in this cell.\n",
    "s = \"abcdefghijklmnopqrstuvwxyz\""
   ]
  },
  {
   "cell_type": "code",
   "execution_count": 4,
   "metadata": {},
   "outputs": [
    {
     "name": "stdout",
     "output_type": "stream",
     "text": [
      "zyxwvutsrqponmlkjihgfedcba"
     ]
    }
   ],
   "source": [
    "for letter in reversed(s):\n",
    "    print(letter, end=\"\")"
   ]
  },
  {
   "cell_type": "code",
   "execution_count": null,
   "metadata": {},
   "outputs": [],
   "source": [
    "\n",
    "    "
   ]
  },
  {
   "cell_type": "code",
   "execution_count": null,
   "metadata": {
    "tags": []
   },
   "outputs": [],
   "source": [
    "# DO NOT MODIFY THE NEXT LINE\n",
    "original_stdout = capture_output()\n",
    "\n",
    "# Your answer starts here\n",
    "for letter in reversed(s):\n",
    "    print(letter, end=\"\")\n",
    "\n",
    "# DO NOT MODIFY ANYTHING BELOW THIS LINE\n",
    "print_capture_q1 = restore_output(original_stdout)\n",
    "print(print_capture_q1)"
   ]
  },
  {
   "cell_type": "code",
   "execution_count": null,
   "metadata": {
    "deletable": false,
    "editable": false
   },
   "outputs": [],
   "source": [
    "grader.check(\"Question01\")"
   ]
  },
  {
   "cell_type": "markdown",
   "metadata": {
    "deletable": false,
    "editable": false
   },
   "source": [
    "<!-- BEGIN QUESTION -->\n",
    "\n",
    "2\\. (0.6 pts) Write a <b>for</b> loop that prints all multiples of 3 between 1 and 100 (i.e., 3, 6, 9, ..., 99), separated by a tab between numbers. The output should match the next cell."
   ]
  },
  {
   "cell_type": "raw",
   "metadata": {
    "deletable": false,
    "editable": false
   },
   "source": [
    "3\t6\t9\t12\t15\t18\t21\t24\t27\t30\t33\t36\t39\t42\t45\t48\t51\t54\t57\t60\t63\t66\t69\t72\t75\t78\t81\t84\t87\t90\t93\t96\t99"
   ]
  },
  {
   "cell_type": "code",
   "execution_count": null,
   "metadata": {
    "tags": []
   },
   "outputs": [],
   "source": [
    "# DO NOT MODIFY THE NEXT LINE\n",
    "original_stdout = capture_output()\n",
    "\n",
    "# Your answer starts here\n",
    "...\n",
    "\n",
    "# DO NOT MODIFY ANYTHING BELOW THIS LINE\n",
    "print_capture_q2 = restore_output(original_stdout)\n",
    "print(print_capture_q2)"
   ]
  },
  {
   "cell_type": "code",
   "execution_count": null,
   "metadata": {
    "deletable": false,
    "editable": false
   },
   "outputs": [],
   "source": [
    "grader.check(\"Question02\")"
   ]
  },
  {
   "cell_type": "markdown",
   "metadata": {
    "deletable": false,
    "editable": false
   },
   "source": [
    "<!-- END QUESTION -->\n",
    "\n",
    "3\\. (0.6 pts) Write a <b>for</b> loop that adds all 2-digit integers (i.e., 10, 11, 12, ..., 99) one after another. After the <b>for</b> loop, print the final sum, which will be 4905."
   ]
  },
  {
   "cell_type": "code",
   "execution_count": null,
   "metadata": {
    "tags": []
   },
   "outputs": [],
   "source": [
    "# DO NOT MODIFY THE NEXT LINE\n",
    "original_stdout = capture_output()\n",
    "\n",
    "# Your answer starts here\n",
    "...\n",
    "\n",
    "# DO NOT MODIFY ANYTHING BELOW THIS LINE\n",
    "print_capture_q3 = restore_output(original_stdout)\n",
    "print(print_capture_q3)"
   ]
  },
  {
   "cell_type": "code",
   "execution_count": null,
   "metadata": {
    "deletable": false,
    "editable": false
   },
   "outputs": [],
   "source": [
    "grader.check(\"Question03\")"
   ]
  },
  {
   "cell_type": "markdown",
   "metadata": {
    "deletable": false,
    "editable": false
   },
   "source": [
    "4\\. (0.6 pts) Write a <b>for</b> loop that adds all 2-digit integers one after another, printing the intermediate sum for every 10th index position starting with the first position (e.g., 0, 10, 20, ..., 80), separated by a new line, in the format \"[INDEX] SUM\" where INDEX is the current index position and SUM is the current sum. Print the final sum after the <b>for</b> loop. The first and last three lines in the printed output should look follows:"
   ]
  },
  {
   "cell_type": "raw",
   "metadata": {
    "deletable": false,
    "editable": false
   },
   "source": [
    "[0] 10\n",
    "[10] 165\n",
    "[20] 420"
   ]
  },
  {
   "cell_type": "raw",
   "metadata": {
    "deletable": false,
    "editable": false
   },
   "source": [
    "[70] 3195\n",
    "[80] 4050\n",
    "4905"
   ]
  },
  {
   "cell_type": "code",
   "execution_count": null,
   "metadata": {
    "tags": []
   },
   "outputs": [],
   "source": [
    "# DO NOT MODIFY THE NEXT LINE\n",
    "original_stdout = capture_output()\n",
    "\n",
    "# Your answer here\n",
    "...\n",
    "\n",
    "# DO NOT MODIFY ANYTHING BELOW THIS LINE\n",
    "print_capture_q4 = restore_output(original_stdout)\n",
    "print(print_capture_q4)"
   ]
  },
  {
   "cell_type": "code",
   "execution_count": null,
   "metadata": {
    "deletable": false,
    "editable": false
   },
   "outputs": [],
   "source": [
    "grader.check(\"Question04\")"
   ]
  },
  {
   "cell_type": "markdown",
   "metadata": {
    "deletable": false,
    "editable": false
   },
   "source": [
    "5\\. (0.6 pts) You have a list `names` of strings. "
   ]
  },
  {
   "cell_type": "code",
   "execution_count": null,
   "metadata": {
    "deletable": false,
    "editable": false
   },
   "outputs": [],
   "source": [
    "# Make sure to run this cell. (Do not make any change to this cell.)\n",
    "names = [\"Alice\", \"Bob\", \"Mary\", \"Sam\", \"Sarah\", \"Tom\", \"Susan\"]"
   ]
  },
  {
   "cell_type": "markdown",
   "metadata": {
    "deletable": false,
    "editable": false
   },
   "source": [
    "Write a <b>for</b> loop that iterates over `names` to find a name that meets the following two conditions: a) it starts with *S* and b) its length is 5. The loop stops when it finds the first occurrence of the name, printing the name found along with its index position in the format \"[INDEX] NAME\", where INDEX is the current index position and NAME is the name found. The printed output should look as follows:"
   ]
  },
  {
   "cell_type": "raw",
   "metadata": {
    "deletable": false,
    "editable": false
   },
   "source": [
    "[4] Sarah"
   ]
  },
  {
   "cell_type": "code",
   "execution_count": null,
   "metadata": {
    "tags": []
   },
   "outputs": [],
   "source": [
    "# DO NOT MODIFY THE NEXT LINE\n",
    "original_stdout = capture_output()\n",
    "\n",
    "# Your answer here\n",
    "...\n",
    "\n",
    "# DO NOT MODIFY ANYTHING BELOW THIS LINE\n",
    "print_capture_q5 = restore_output(original_stdout)\n",
    "print(print_capture_q5)"
   ]
  },
  {
   "cell_type": "code",
   "execution_count": null,
   "metadata": {
    "deletable": false,
    "editable": false
   },
   "outputs": [],
   "source": [
    "grader.check(\"Question05\")"
   ]
  },
  {
   "cell_type": "markdown",
   "metadata": {
    "deletable": false,
    "editable": false
   },
   "source": [
    "6\\. (0.6 pts) You have a dictionary `states`. "
   ]
  },
  {
   "cell_type": "code",
   "execution_count": null,
   "metadata": {
    "deletable": false,
    "editable": false
   },
   "outputs": [],
   "source": [
    "# Make sure to run this cell. (Do not make any change to this cell.)\n",
    "states = {\"IL\": \"Illinois\", \"WI\": \"Wisconsin\", \"IA\": \"Iowa\", \"NE\": \"Nebraska\", \"MN\": \"Minnesota\"}"
   ]
  },
  {
   "cell_type": "markdown",
   "metadata": {
    "deletable": false,
    "editable": false
   },
   "source": [
    "Write a <b>for</b> loop that prints all key-value pairs in `states`, separated by a space between pairs, in the format \"(KEY: VALUE)\", where KEY is the key and VALUE is its value. The printed output should look as follows: "
   ]
  },
  {
   "cell_type": "raw",
   "metadata": {
    "deletable": false,
    "editable": false
   },
   "source": [
    "(IL: Illinois) (WI: Wisconsin) (IA: Iowa) (NE: Nebraska) (MN: Minnesota)"
   ]
  },
  {
   "cell_type": "code",
   "execution_count": null,
   "metadata": {
    "tags": []
   },
   "outputs": [],
   "source": [
    "# DO NOT MODIFY THE NEXT LINE\n",
    "original_stdout = capture_output()\n",
    "\n",
    "# Your answer starts here\n",
    "...\n",
    "\n",
    "\n",
    "# DO NOT MODIFY ANYTHING BELOW THIS LINE\n",
    "print_capture_q6 = restore_output(original_stdout)\n",
    "print(print_capture_q6)"
   ]
  },
  {
   "cell_type": "code",
   "execution_count": null,
   "metadata": {
    "deletable": false,
    "editable": false
   },
   "outputs": [],
   "source": [
    "grader.check(\"Question06\")"
   ]
  },
  {
   "cell_type": "markdown",
   "metadata": {
    "deletable": false,
    "editable": false
   },
   "source": [
    "7\\. (0.6 pts) You have two lists `l1` and `l2` of integers. "
   ]
  },
  {
   "cell_type": "code",
   "execution_count": null,
   "metadata": {
    "deletable": false,
    "editable": false
   },
   "outputs": [],
   "source": [
    "# Make sure to run this cell. (Do not make any change to this cell.)\n",
    "l1 = list(range(5))\n",
    "l2 = list(reversed(l1))\n",
    "l1, l2"
   ]
  },
  {
   "cell_type": "markdown",
   "metadata": {
    "deletable": false,
    "editable": false
   },
   "source": [
    "Using a basic nested <b>for</b> loop, not using list comprehension, create a list `ans7` of all possible lists, each of which contains a number from `l1`, a number from `l2`, and the product of the two numbers. For example, `ans7` should contain the elements as follows:"
   ]
  },
  {
   "cell_type": "raw",
   "metadata": {
    "deletable": false,
    "editable": false
   },
   "source": [
    "[[0, 4, 0], \n",
    " [0, 3, 0], \n",
    " [0, 2, 0], \n",
    " [0, 1, 0], \n",
    " [0, 0, 0], \n",
    " [1, 4, 4], \n",
    " ..., \n",
    " [4, 0, 0]]"
   ]
  },
  {
   "cell_type": "markdown",
   "metadata": {
    "deletable": false,
    "editable": false
   },
   "source": [
    "Note: Do not use the <b>print</b> function in this question. This question does not ask you to print anything."
   ]
  },
  {
   "cell_type": "code",
   "execution_count": null,
   "metadata": {
    "tags": []
   },
   "outputs": [],
   "source": [
    "# DO NOT MODIFY THE NEXT LINE\n",
    "original_stdout = capture_output()\n",
    "\n",
    "# Your answer here\n",
    "...\n",
    "\n",
    "# DO NOT MODIFY ANYTHING BELOW THIS LINE\n",
    "print(ans7)\n",
    "print_capture_q7 = restore_output(original_stdout)\n",
    "print(print_capture_q7)"
   ]
  },
  {
   "cell_type": "code",
   "execution_count": null,
   "metadata": {
    "deletable": false,
    "editable": false
   },
   "outputs": [],
   "source": [
    "grader.check(\"Question07\")"
   ]
  },
  {
   "cell_type": "markdown",
   "metadata": {
    "deletable": false,
    "editable": false
   },
   "source": [
    "8\\. (0.6 pts) Using list comprehension this time, create a list `ans8` that has the same elements as `ans7`."
   ]
  },
  {
   "cell_type": "markdown",
   "metadata": {
    "deletable": false,
    "editable": false
   },
   "source": [
    "Note: Do not use the <b>print</b> function in this question. This question does not ask you to print anything. "
   ]
  },
  {
   "cell_type": "code",
   "execution_count": null,
   "metadata": {
    "tags": []
   },
   "outputs": [],
   "source": [
    "# Your answer starts here\n",
    "ans8 = ..."
   ]
  },
  {
   "cell_type": "code",
   "execution_count": null,
   "metadata": {
    "deletable": false,
    "editable": false
   },
   "outputs": [],
   "source": [
    "grader.check(\"Question08\")"
   ]
  },
  {
   "cell_type": "markdown",
   "metadata": {
    "deletable": false,
    "editable": false
   },
   "source": [
    "<!-- BEGIN QUESTION -->\n",
    "\n",
    "9\\. (0.6 pts) You have three lists `names`, `ages`, and `genders`. "
   ]
  },
  {
   "cell_type": "code",
   "execution_count": null,
   "metadata": {
    "deletable": false,
    "editable": false
   },
   "outputs": [],
   "source": [
    "# Make sure to run this cell. (Do not make any change to this cell.)\n",
    "names = [\"Alice\", \"Bob\", \"Mary\", \"Sam\", \"Sarah\", \"Tom\"]\n",
    "ages = [30, 25, 27, 31, 39, 34]\n",
    "genders = [\"female\", \"male\", \"female\", \"male\", \"female\", \"male\"] "
   ]
  },
  {
   "cell_type": "markdown",
   "metadata": {
    "deletable": false,
    "editable": false
   },
   "source": [
    "Using a basic <b>for</b> loop, not using list comprehension, create a list `ans9` of tuples, each of which contains the name from `names`, the age from `ages`, and the gender from `genders` at the same index position. For example, `ans9` should contain the elements as follows:"
   ]
  },
  {
   "cell_type": "raw",
   "metadata": {
    "deletable": false,
    "editable": false
   },
   "source": [
    "[('Alice', 30, 'female'),\n",
    " ('Bob', 25, 'male'), \n",
    " ..., \n",
    " ('Tom', 34, 'male')]"
   ]
  },
  {
   "cell_type": "markdown",
   "metadata": {
    "deletable": false,
    "editable": false
   },
   "source": [
    "Note: Do not use the <b>print</b> function in this question. This question does not ask you to print anything. "
   ]
  },
  {
   "cell_type": "code",
   "execution_count": null,
   "metadata": {
    "cell_id": "q9",
    "tags": []
   },
   "outputs": [],
   "source": [
    "# Your answer here\n",
    "..."
   ]
  },
  {
   "cell_type": "code",
   "execution_count": null,
   "metadata": {
    "deletable": false,
    "editable": false
   },
   "outputs": [],
   "source": [
    "# Check your answer here. (Do not make any change to this cell. Just run this cell.)\n",
    "ans9"
   ]
  },
  {
   "cell_type": "code",
   "execution_count": null,
   "metadata": {
    "deletable": false,
    "editable": false
   },
   "outputs": [],
   "source": [
    "grader.check(\"Question09\")"
   ]
  },
  {
   "cell_type": "markdown",
   "metadata": {
    "deletable": false,
    "editable": false
   },
   "source": [
    "<!-- END QUESTION -->\n",
    "\n",
    "<!-- BEGIN QUESTION -->\n",
    "\n",
    "10\\. (0.6 pts) Using list comprehension this time, create a list `ans10` that has the same elements as `ans9`."
   ]
  },
  {
   "cell_type": "markdown",
   "metadata": {
    "deletable": false,
    "editable": false
   },
   "source": [
    "Note: do not use the <b>print</b> function in this question. This question does not ask you to print anything. "
   ]
  },
  {
   "cell_type": "code",
   "execution_count": null,
   "metadata": {
    "tags": []
   },
   "outputs": [],
   "source": [
    "# Your answer here\n",
    "ans10 = ..."
   ]
  },
  {
   "cell_type": "code",
   "execution_count": null,
   "metadata": {
    "deletable": false,
    "editable": false
   },
   "outputs": [],
   "source": [
    "# Check your answer here. (Do not make any change to this cell. Just run this cell.)\n",
    "ans10"
   ]
  },
  {
   "cell_type": "code",
   "execution_count": null,
   "metadata": {
    "deletable": false,
    "editable": false
   },
   "outputs": [],
   "source": [
    "grader.check(\"Question10\")"
   ]
  },
  {
   "cell_type": "markdown",
   "metadata": {
    "deletable": false,
    "editable": false
   },
   "source": [
    "<!-- END QUESTION -->\n",
    "\n",
    "### Now that you have completed all the questions, click Kernel > Restart & Run All Cells to and check if all cells have run as expected. "
   ]
  },
  {
   "cell_type": "markdown",
   "metadata": {},
   "source": [
    "## Quick Survey"
   ]
  },
  {
   "cell_type": "markdown",
   "metadata": {},
   "source": [
    "How long did it take you to complete the homework?"
   ]
  },
  {
   "cell_type": "markdown",
   "metadata": {},
   "source": [
    ": X minutes"
   ]
  }
 ],
 "metadata": {
  "kernelspec": {
   "display_name": "Python 3 (ipykernel)",
   "language": "python",
   "name": "python3"
  },
  "language_info": {
   "codemirror_mode": {
    "name": "ipython",
    "version": 3
   },
   "file_extension": ".py",
   "mimetype": "text/x-python",
   "name": "python",
   "nbconvert_exporter": "python",
   "pygments_lexer": "ipython3",
   "version": "3.12.6"
  },
  "otter": {
   "OK_FORMAT": true,
   "assignment_name": "Homework2",
   "tests": {
    "Question01": {
     "name": "Question01",
     "points": 0.6,
     "suites": [
      {
       "cases": [
        {
         "code": ">>> def test_solution_q1():\n...     try:\n...         assert print_capture_q1 == 'zyxwvutsrqponmlkjihgfedcba', 'The output is incorrect.'\n...         print('Test passed!')\n...     except AssertionError as e:\n...         print(e)\n>>> test_solution_q1()\nTest passed!\n",
         "hidden": false,
         "locked": false
        }
       ],
       "scored": true,
       "setup": "",
       "teardown": "",
       "type": "doctest"
      }
     ]
    },
    "Question02": {
     "name": "Question02",
     "points": 0.6,
     "suites": [
      {
       "cases": [
        {
         "code": ">>> def test_solution_q2():\n...     expected_output = '\\t'.join((str(num) for num in range(3, 100, 3))) + '\\t'\n...     try:\n...         assert print_capture_q2 == expected_output, 'The output is incorrect.'\n...         print('Test passed!')\n...     except AssertionError as e:\n...         print(e)\n>>> test_solution_q2()\nTest passed!\n",
         "hidden": false,
         "locked": false
        }
       ],
       "scored": true,
       "setup": "",
       "teardown": "",
       "type": "doctest"
      }
     ]
    },
    "Question03": {
     "name": "Question03",
     "points": 0.6,
     "suites": [
      {
       "cases": [
        {
         "code": ">>> def test_solution_q3():\n...     expected_output = '4905\\n'\n...     try:\n...         assert print_capture_q3 == expected_output, 'The output is incorrect.'\n...         print('Test passed!')\n...     except AssertionError as e:\n...         print(e)\n>>> test_solution_q3()\nTest passed!\n",
         "hidden": false,
         "locked": false
        }
       ],
       "scored": true,
       "setup": "",
       "teardown": "",
       "type": "doctest"
      }
     ]
    },
    "Question04": {
     "name": "Question04",
     "points": 0.6,
     "suites": [
      {
       "cases": [
        {
         "code": ">>> def test_solution_q4():\n...     expected_output = '[0] 10\\n[10] 165\\n[20] 420\\n[30] 775\\n[40] 1230\\n[50] 1785\\n[60] 2440\\n[70] 3195\\n[80] 4050\\n4905\\n'\n...     try:\n...         assert print_capture_q4 == expected_output, 'The output is incorrect.'\n...         print('Test passed!')\n...     except AssertionError as e:\n...         print(e)\n>>> test_solution_q4()\nTest passed!\n",
         "hidden": false,
         "locked": false
        }
       ],
       "scored": true,
       "setup": "",
       "teardown": "",
       "type": "doctest"
      }
     ]
    },
    "Question05": {
     "name": "Question05",
     "points": 0.6,
     "suites": [
      {
       "cases": [
        {
         "code": ">>> def test_solution_q5():\n...     expected_output = '[4] Sarah\\n'\n...     try:\n...         assert print_capture_q5 == expected_output, 'The output is incorrect.'\n...         print('Test passed!')\n...     except AssertionError as e:\n...         print(e)\n>>> test_solution_q5()\nTest passed!\n",
         "hidden": false,
         "locked": false
        }
       ],
       "scored": true,
       "setup": "",
       "teardown": "",
       "type": "doctest"
      }
     ]
    },
    "Question06": {
     "name": "Question06",
     "points": 0.6,
     "suites": [
      {
       "cases": [
        {
         "code": ">>> def test_solution_q6():\n...     expected_output = '(IL: Illinois) (WI: Wisconsin) (IA: Iowa) (NE: Nebraska) (MN: Minnesota) '\n...     try:\n...         assert print_capture_q6 == expected_output, 'The output is incorrect.'\n...         print('Test passed!')\n...     except AssertionError as e:\n...         print(e)\n>>> test_solution_q6()\nTest passed!\n",
         "hidden": false,
         "locked": false
        }
       ],
       "scored": true,
       "setup": "",
       "teardown": "",
       "type": "doctest"
      }
     ]
    },
    "Question07": {
     "name": "Question07",
     "points": 0.6,
     "suites": [
      {
       "cases": [
        {
         "code": ">>> def test_solution_q7():\n...     expected_output = '[[0, 4, 0], [0, 3, 0], [0, 2, 0], [0, 1, 0], [0, 0, 0], [1, 4, 4], [1, 3, 3], [1, 2, 2], [1, 1, 1], [1, 0, 0], [2, 4, 8], [2, 3, 6], [2, 2, 4], [2, 1, 2], [2, 0, 0], [3, 4, 12], [3, 3, 9], [3, 2, 6], [3, 1, 3], [3, 0, 0], [4, 4, 16], [4, 3, 12], [4, 2, 8], [4, 1, 4], [4, 0, 0]]\\n'\n...     try:\n...         assert print_capture_q7 == expected_output, 'The output is incorrect.'\n...         print('Test passed!')\n...     except AssertionError as e:\n...         print(e)\n>>> test_solution_q7()\nTest passed!\n",
         "hidden": false,
         "locked": false
        }
       ],
       "scored": true,
       "setup": "",
       "teardown": "",
       "type": "doctest"
      }
     ]
    },
    "Question08": {
     "name": "Question08",
     "points": 0.6,
     "suites": [
      {
       "cases": [
        {
         "code": ">>> def test_solution_q8():\n...     expected_output = [[0, 4, 0], [0, 3, 0], [0, 2, 0], [0, 1, 0], [0, 0, 0], [1, 4, 4], [1, 3, 3], [1, 2, 2], [1, 1, 1], [1, 0, 0], [2, 4, 8], [2, 3, 6], [2, 2, 4], [2, 1, 2], [2, 0, 0], [3, 4, 12], [3, 3, 9], [3, 2, 6], [3, 1, 3], [3, 0, 0], [4, 4, 16], [4, 3, 12], [4, 2, 8], [4, 1, 4], [4, 0, 0]]\n...     try:\n...         assert ans8 == expected_output, 'The output is incorrect.'\n...         print('Test passed!')\n...     except AssertionError as e:\n...         print(e)\n>>> test_solution_q8()\nTest passed!\n",
         "hidden": false,
         "locked": false
        }
       ],
       "scored": true,
       "setup": "",
       "teardown": "",
       "type": "doctest"
      }
     ]
    },
    "Question09": {
     "name": "Question09",
     "points": 0.6,
     "suites": [
      {
       "cases": [
        {
         "code": ">>> def test_solution_q9():\n...     expected_output = [('Alice', 30, 'female'), ('Bob', 25, 'male'), ('Mary', 27, 'female'), ('Sam', 31, 'male'), ('Sarah', 39, 'female'), ('Tom', 34, 'male')]\n...     try:\n...         assert ans9 == expected_output, 'The output is incorrect.'\n...         print('Test passed!')\n...     except AssertionError as e:\n...         print(e)\n>>> test_solution_q9()\nTest passed!\n",
         "hidden": false,
         "locked": false
        }
       ],
       "scored": true,
       "setup": "",
       "teardown": "",
       "type": "doctest"
      }
     ]
    },
    "Question10": {
     "name": "Question10",
     "points": 0.6,
     "suites": [
      {
       "cases": [
        {
         "code": ">>> def test_solution_q10():\n...     expected_output = [('Alice', 30, 'female'), ('Bob', 25, 'male'), ('Mary', 27, 'female'), ('Sam', 31, 'male'), ('Sarah', 39, 'female'), ('Tom', 34, 'male')]\n...     try:\n...         assert ans10 == expected_output, 'The output is incorrect.'\n...         print('Test passed!')\n...     except AssertionError as e:\n...         print(e)\n>>> test_solution_q10()\nTest passed!\n",
         "hidden": false,
         "locked": false
        }
       ],
       "scored": true,
       "setup": "",
       "teardown": "",
       "type": "doctest"
      }
     ]
    }
   }
  }
 },
 "nbformat": 4,
 "nbformat_minor": 4
}
