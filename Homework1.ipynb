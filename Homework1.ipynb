{
 "cells": [
  {
   "cell_type": "code",
   "execution_count": 1,
   "metadata": {
    "deletable": false,
    "editable": false
   },
   "outputs": [],
   "source": [
    "# Initialize Otter\n",
    "import otter\n",
    "grader = otter.Notebook(\"Homework1.ipynb\")"
   ]
  },
  {
   "cell_type": "markdown",
   "metadata": {},
   "source": [
    "# Data Programming in Python | BAIS:6040\n",
    "# Homework 1. Python Basics Part 1"
   ]
  },
  {
   "cell_type": "markdown",
   "metadata": {},
   "source": [
    "20 questions, 3 points in total"
   ]
  },
  {
   "cell_type": "markdown",
   "metadata": {},
   "source": [
    "## Instructions"
   ]
  },
  {
   "cell_type": "markdown",
   "metadata": {},
   "source": [
    "- Fill in the Python statements needed to complete all the questions below. \n",
    "- Program everything inside this notebook. \n",
    "- Use only one cell per question. \n",
    "- Each code cell must be run with no errors.\n",
    "- Do not contain any unnecessary code in your answer. (Only the final outcome will be regarded as your answer.)\n",
    "- If the question requests that you store information in a certain variable, use the specific variables name (case sensitive).\n",
    "- All problems must be solved in a programmable way.\n",
    "- When you are done, make sure to save your notebook and then click Restart & Run All before subimission to create a clean version."
   ]
  },
  {
   "cell_type": "markdown",
   "metadata": {},
   "source": [
    "### Important\n",
    "If you haven't installed the `otter` package, please follow these steps:\n",
    "1. <b>Uncomment</b> the line below by reomving the `#` at the beginning.\n",
    "2. <b>Run</b> the cell to install the package. You only need to do this once.\n",
    "3. After installation, <b>re-comment</b> the line or delete to prevent it from running again in future executions of this notebook."
   ]
  },
  {
   "cell_type": "code",
   "execution_count": 2,
   "metadata": {},
   "outputs": [],
   "source": [
    "#pip install otter-grader"
   ]
  },
  {
   "cell_type": "markdown",
   "metadata": {},
   "source": [
    "## Questions"
   ]
  },
  {
   "cell_type": "markdown",
   "metadata": {},
   "source": [
    "Suppose you have a string `s` as below. Do not change the value of `s` while working on the questions. "
   ]
  },
  {
   "cell_type": "code",
   "execution_count": 3,
   "metadata": {},
   "outputs": [
    {
     "data": {
      "text/plain": [
       "\"I'm taking the Data Programming in Python course in this semester.\""
      ]
     },
     "execution_count": 3,
     "metadata": {},
     "output_type": "execute_result"
    }
   ],
   "source": [
    "# Make sure to run this cell. (Do not make any change to this cell.)\n",
    "s = \"I'm taking the Data Programming in Python course in this semester.\"\n",
    "s"
   ]
  },
  {
   "cell_type": "markdown",
   "metadata": {
    "deletable": false,
    "editable": false
   },
   "source": [
    "1\\. (0.1 pts) Get the length of `s` and save it in the variable `ans1`. Remember to assign an object, e.g., an integer, to a variable you need to use the assignment operator, \"=\", e.g., `ans1 = myanswer`."
   ]
  },
  {
   "cell_type": "code",
   "execution_count": 4,
   "metadata": {
    "tags": []
   },
   "outputs": [],
   "source": [
    "# Your answer here\n",
    "ans1=len(s)"
   ]
  },
  {
   "cell_type": "code",
   "execution_count": 5,
   "metadata": {
    "deletable": false,
    "editable": false
   },
   "outputs": [
    {
     "data": {
      "text/html": [
       "<p><strong><pre style='display: inline;'>Question01</pre></strong> passed! 🙌</p>"
      ],
      "text/plain": [
       "Question01 results: All test cases passed!"
      ]
     },
     "execution_count": 5,
     "metadata": {},
     "output_type": "execute_result"
    }
   ],
   "source": [
    "grader.check(\"Question01\")"
   ]
  },
  {
   "cell_type": "markdown",
   "metadata": {
    "deletable": false,
    "editable": false
   },
   "source": [
    "2\\. (0.1 pts) Get the first 3 characters in `s` and save it in the variable `ans2`."
   ]
  },
  {
   "cell_type": "code",
   "execution_count": 6,
   "metadata": {
    "tags": []
   },
   "outputs": [],
   "source": [
    "# Your answer here \n",
    "ans2=s[:3]"
   ]
  },
  {
   "cell_type": "code",
   "execution_count": 7,
   "metadata": {
    "deletable": false,
    "editable": false
   },
   "outputs": [
    {
     "data": {
      "text/html": [
       "<p><strong><pre style='display: inline;'>Question02</pre></strong> passed! ✨</p>"
      ],
      "text/plain": [
       "Question02 results: All test cases passed!"
      ]
     },
     "execution_count": 7,
     "metadata": {},
     "output_type": "execute_result"
    }
   ],
   "source": [
    "grader.check(\"Question02\")"
   ]
  },
  {
   "cell_type": "markdown",
   "metadata": {
    "deletable": false,
    "editable": false
   },
   "source": [
    "3\\. (0.1 pts) Get the last 10 characters in `s` and save it in the variable `ans3`."
   ]
  },
  {
   "cell_type": "code",
   "execution_count": 8,
   "metadata": {
    "tags": []
   },
   "outputs": [],
   "source": [
    "# Your answer here\n",
    "ans3=s[-10:]"
   ]
  },
  {
   "cell_type": "code",
   "execution_count": 9,
   "metadata": {
    "deletable": false,
    "editable": false
   },
   "outputs": [
    {
     "data": {
      "text/html": [
       "<p><strong><pre style='display: inline;'>Question03</pre></strong> passed! 💯</p>"
      ],
      "text/plain": [
       "Question03 results: All test cases passed!"
      ]
     },
     "execution_count": 9,
     "metadata": {},
     "output_type": "execute_result"
    }
   ],
   "source": [
    "grader.check(\"Question03\")"
   ]
  },
  {
   "cell_type": "markdown",
   "metadata": {
    "deletable": false,
    "editable": false
   },
   "source": [
    "4\\. (0.1 pts) Check if the string '*Python*' is in `s` and save the outcome in the variable `ans4`. The outcome must be either True or False."
   ]
  },
  {
   "cell_type": "code",
   "execution_count": 10,
   "metadata": {
    "tags": []
   },
   "outputs": [],
   "source": [
    "# Check your answer here. (Do not make any change to this cell. Just run this cell.)\n",
    "ans4=\"Python\" in s "
   ]
  },
  {
   "cell_type": "code",
   "execution_count": 11,
   "metadata": {
    "deletable": false,
    "editable": false
   },
   "outputs": [
    {
     "data": {
      "text/html": [
       "<p><strong><pre style='display: inline;'>Question04</pre></strong> passed! 🎉</p>"
      ],
      "text/plain": [
       "Question04 results: All test cases passed!"
      ]
     },
     "execution_count": 11,
     "metadata": {},
     "output_type": "execute_result"
    }
   ],
   "source": [
    "grader.check(\"Question04\")"
   ]
  },
  {
   "cell_type": "markdown",
   "metadata": {
    "deletable": false,
    "editable": false
   },
   "source": [
    "5\\. (0.1 pts) Replace '*Data Programming in Python*' in `s` with '*Text Analytics*' and save the resulting string in the variable `ans5`. The new string must look like this: \"*I'm taking the Text Analytics course in this semester.*\""
   ]
  },
  {
   "cell_type": "code",
   "execution_count": 12,
   "metadata": {
    "tags": []
   },
   "outputs": [],
   "source": [
    "# Your answer here\n",
    "ans5=s.replace(\"Data Programming in Python\", \"Text Analytics\")"
   ]
  },
  {
   "cell_type": "code",
   "execution_count": 13,
   "metadata": {
    "deletable": false,
    "editable": false
   },
   "outputs": [
    {
     "data": {
      "text/html": [
       "<p><strong><pre style='display: inline;'>Question05</pre></strong> passed! 🚀</p>"
      ],
      "text/plain": [
       "Question05 results: All test cases passed!"
      ]
     },
     "execution_count": 13,
     "metadata": {},
     "output_type": "execute_result"
    }
   ],
   "source": [
    "grader.check(\"Question05\")"
   ]
  },
  {
   "cell_type": "markdown",
   "metadata": {
    "deletable": false,
    "editable": false
   },
   "source": [
    "6\\. (0.1 pts) Get the frequency of the string '*the*' in `s` and save it in the variable `ans6`."
   ]
  },
  {
   "cell_type": "code",
   "execution_count": 14,
   "metadata": {
    "tags": []
   },
   "outputs": [],
   "source": [
    "# Your answer here\n",
    "ans6=s.count(\"the\")"
   ]
  },
  {
   "cell_type": "code",
   "execution_count": 15,
   "metadata": {
    "deletable": false,
    "editable": false
   },
   "outputs": [
    {
     "data": {
      "text/html": [
       "<p><strong><pre style='display: inline;'>Question06</pre></strong> passed! 🚀</p>"
      ],
      "text/plain": [
       "Question06 results: All test cases passed!"
      ]
     },
     "execution_count": 15,
     "metadata": {},
     "output_type": "execute_result"
    }
   ],
   "source": [
    "grader.check(\"Question06\")"
   ]
  },
  {
   "cell_type": "markdown",
   "metadata": {},
   "source": [
    "<hr>"
   ]
  },
  {
   "cell_type": "markdown",
   "metadata": {},
   "source": [
    "Suppose you have a list `heroes` as follows:"
   ]
  },
  {
   "cell_type": "code",
   "execution_count": 16,
   "metadata": {},
   "outputs": [],
   "source": [
    "# Make sure to run this cell.\n",
    "heroes = [\"Superman\", \"Ant-Man\", \"Spider-Man\", \"Iron Man\", \"Bat Man\"]"
   ]
  },
  {
   "cell_type": "markdown",
   "metadata": {
    "deletable": false,
    "editable": false
   },
   "source": [
    "7\\. (0.1 pts) Append a new item '*Aquaman*' to `heroes`. You do not have to save the outcome in a variable. "
   ]
  },
  {
   "cell_type": "code",
   "execution_count": 17,
   "metadata": {
    "tags": []
   },
   "outputs": [],
   "source": [
    "# Your answer here\n",
    "\n",
    "heroes.append(\"Aquaman\")"
   ]
  },
  {
   "cell_type": "code",
   "execution_count": 18,
   "metadata": {
    "deletable": false,
    "editable": false
   },
   "outputs": [
    {
     "data": {
      "text/html": [
       "<p><strong><pre style='display: inline;'>Question07</pre></strong> passed! 💯</p>"
      ],
      "text/plain": [
       "Question07 results: All test cases passed!"
      ]
     },
     "execution_count": 18,
     "metadata": {},
     "output_type": "execute_result"
    }
   ],
   "source": [
    "grader.check(\"Question07\")"
   ]
  },
  {
   "cell_type": "markdown",
   "metadata": {
    "deletable": false,
    "editable": false
   },
   "source": [
    "8\\. (0.1 pts) Insert a new item '*Captain America*' at the first index position (i.e., index 0) in `heroes`. You do not have to save the outcome in a variable. "
   ]
  },
  {
   "cell_type": "code",
   "execution_count": 19,
   "metadata": {
    "tags": []
   },
   "outputs": [],
   "source": [
    "# Your answer here\n",
    "\n",
    "newentry='Captain America'\n",
    "heroes.insert(0,newentry )"
   ]
  },
  {
   "cell_type": "code",
   "execution_count": 20,
   "metadata": {
    "deletable": false,
    "editable": false
   },
   "outputs": [
    {
     "data": {
      "text/html": [
       "<p><strong><pre style='display: inline;'>Question08</pre></strong> passed! 💯</p>"
      ],
      "text/plain": [
       "Question08 results: All test cases passed!"
      ]
     },
     "execution_count": 20,
     "metadata": {},
     "output_type": "execute_result"
    }
   ],
   "source": [
    "grader.check(\"Question08\")"
   ]
  },
  {
   "cell_type": "markdown",
   "metadata": {
    "deletable": false,
    "editable": false
   },
   "source": [
    "9\\. (0.1 pts) Get the number of items in `heroes` and save it in the variable `ans9`."
   ]
  },
  {
   "cell_type": "code",
   "execution_count": 21,
   "metadata": {
    "tags": []
   },
   "outputs": [],
   "source": [
    "# Your answer here\n",
    "ans9=len(heroes)"
   ]
  },
  {
   "cell_type": "code",
   "execution_count": 22,
   "metadata": {
    "deletable": false,
    "editable": false
   },
   "outputs": [
    {
     "data": {
      "text/html": [
       "<p><strong><pre style='display: inline;'>Question09</pre></strong> passed! 🚀</p>"
      ],
      "text/plain": [
       "Question09 results: All test cases passed!"
      ]
     },
     "execution_count": 22,
     "metadata": {},
     "output_type": "execute_result"
    }
   ],
   "source": [
    "grader.check(\"Question09\")"
   ]
  },
  {
   "cell_type": "markdown",
   "metadata": {
    "deletable": false,
    "editable": false
   },
   "source": [
    "10\\. (0.1 pts) Get a new sorted list of `heroes` in reverse alphabetical order and save it in the variable `ans10`. Do not change the value of `heroes`."
   ]
  },
  {
   "cell_type": "code",
   "execution_count": 23,
   "metadata": {
    "tags": []
   },
   "outputs": [],
   "source": [
    "# Your answer here\n",
    "ans10=sorted(heroes, reverse=True)"
   ]
  },
  {
   "cell_type": "code",
   "execution_count": 24,
   "metadata": {
    "deletable": false,
    "editable": false
   },
   "outputs": [
    {
     "data": {
      "text/html": [
       "<p><strong><pre style='display: inline;'>Question10</pre></strong> passed! 🎉</p>"
      ],
      "text/plain": [
       "Question10 results: All test cases passed!"
      ]
     },
     "execution_count": 24,
     "metadata": {},
     "output_type": "execute_result"
    }
   ],
   "source": [
    "grader.check(\"Question10\")"
   ]
  },
  {
   "cell_type": "markdown",
   "metadata": {},
   "source": [
    "<hr>"
   ]
  },
  {
   "cell_type": "markdown",
   "metadata": {},
   "source": [
    "Suppose you have a dictionary `states` as follows."
   ]
  },
  {
   "cell_type": "code",
   "execution_count": 25,
   "metadata": {},
   "outputs": [],
   "source": [
    "# Make sure to run this cell\n",
    "states = {\"Iowa\": \"IA\", \"Illinois\": \"IL\", \"Minnesota\": \"MN\", \"Nebraska\": \"NE\", \"Wisconsin\": \"WI\"}"
   ]
  },
  {
   "cell_type": "markdown",
   "metadata": {
    "deletable": false,
    "editable": false
   },
   "source": [
    "11\\. (0.2 pts) Get the abbreviation for '*Iowa*' using `states` and save it in the variable `ans11`."
   ]
  },
  {
   "cell_type": "code",
   "execution_count": 26,
   "metadata": {
    "tags": []
   },
   "outputs": [],
   "source": [
    "# Your answer here\n",
    "ans11 = states[\"Iowa\"]"
   ]
  },
  {
   "cell_type": "code",
   "execution_count": 27,
   "metadata": {
    "deletable": false,
    "editable": false
   },
   "outputs": [
    {
     "data": {
      "text/html": [
       "<p><strong><pre style='display: inline;'>Question11</pre></strong> passed! 🌟</p>"
      ],
      "text/plain": [
       "Question11 results: All test cases passed!"
      ]
     },
     "execution_count": 27,
     "metadata": {},
     "output_type": "execute_result"
    }
   ],
   "source": [
    "grader.check(\"Question11\")"
   ]
  },
  {
   "cell_type": "markdown",
   "metadata": {
    "deletable": false,
    "editable": false
   },
   "source": [
    "12\\. (0.2 pts) Check if the key '*Missouri*' is in `states` and save the outcome in the variable `ans12`. The outcome must be either True or False."
   ]
  },
  {
   "cell_type": "code",
   "execution_count": 28,
   "metadata": {
    "tags": []
   },
   "outputs": [],
   "source": [
    "# Your answer here\n",
    "ans12=\"Missouri\" in states"
   ]
  },
  {
   "cell_type": "code",
   "execution_count": 29,
   "metadata": {
    "deletable": false,
    "editable": false
   },
   "outputs": [
    {
     "data": {
      "text/html": [
       "<p><strong><pre style='display: inline;'>Question12</pre></strong> passed! ✨</p>"
      ],
      "text/plain": [
       "Question12 results: All test cases passed!"
      ]
     },
     "execution_count": 29,
     "metadata": {},
     "output_type": "execute_result"
    }
   ],
   "source": [
    "grader.check(\"Question12\")"
   ]
  },
  {
   "cell_type": "markdown",
   "metadata": {
    "deletable": false,
    "editable": false
   },
   "source": [
    "13\\. (0.2 pts) Add '*Missouri*' and its abbreviation '*MO*' to `states`. You do not have to save the outcome in a variable. "
   ]
  },
  {
   "cell_type": "code",
   "execution_count": 30,
   "metadata": {
    "tags": []
   },
   "outputs": [],
   "source": [
    "# Your answer here\n",
    "\n",
    "states[\"Missouri\"] = \"MO\""
   ]
  },
  {
   "cell_type": "code",
   "execution_count": 31,
   "metadata": {
    "deletable": false,
    "editable": false
   },
   "outputs": [
    {
     "data": {
      "text/html": [
       "<p><strong><pre style='display: inline;'>Question13</pre></strong> passed! 🚀</p>"
      ],
      "text/plain": [
       "Question13 results: All test cases passed!"
      ]
     },
     "execution_count": 31,
     "metadata": {},
     "output_type": "execute_result"
    }
   ],
   "source": [
    "grader.check(\"Question13\")"
   ]
  },
  {
   "cell_type": "markdown",
   "metadata": {
    "deletable": false,
    "editable": false
   },
   "source": [
    "14\\. (0.2 pts) Get the list of all keys (only the keys, not the key-value pairs) in `states` and save it in the variable `ans14`."
   ]
  },
  {
   "cell_type": "code",
   "execution_count": 32,
   "metadata": {
    "tags": []
   },
   "outputs": [],
   "source": [
    "# Your answer here\n",
    "ans14 = list(states.keys())"
   ]
  },
  {
   "cell_type": "code",
   "execution_count": 33,
   "metadata": {
    "deletable": false,
    "editable": false
   },
   "outputs": [
    {
     "data": {
      "text/html": [
       "<p><strong><pre style='display: inline;'>Question14</pre></strong> passed! 🚀</p>"
      ],
      "text/plain": [
       "Question14 results: All test cases passed!"
      ]
     },
     "execution_count": 33,
     "metadata": {},
     "output_type": "execute_result"
    }
   ],
   "source": [
    "grader.check(\"Question14\")"
   ]
  },
  {
   "cell_type": "markdown",
   "metadata": {},
   "source": [
    "<hr>"
   ]
  },
  {
   "cell_type": "markdown",
   "metadata": {},
   "source": [
    "Suppose you have a list `grades` as follows. "
   ]
  },
  {
   "cell_type": "code",
   "execution_count": 34,
   "metadata": {},
   "outputs": [],
   "source": [
    "# Make sure to run this cell\n",
    "grades = [\"A\", \"C\", \"A\", \"B\", \"B\", \"C\", \"A\", \"B\", \"A\", \"A\"]"
   ]
  },
  {
   "cell_type": "markdown",
   "metadata": {
    "deletable": false,
    "editable": false
   },
   "source": [
    "15\\. (0.2 pts) Convert the list `grades` to a set and save the resulting set in the variable `grades_set`. Do not change the value of `grades` for later use."
   ]
  },
  {
   "cell_type": "code",
   "execution_count": 35,
   "metadata": {
    "tags": []
   },
   "outputs": [],
   "source": [
    "# Your answer here\n",
    "grades_set = set(grades)"
   ]
  },
  {
   "cell_type": "code",
   "execution_count": 36,
   "metadata": {
    "deletable": false,
    "editable": false
   },
   "outputs": [
    {
     "data": {
      "text/html": [
       "<p><strong><pre style='display: inline;'>Question15</pre></strong> passed! 🍀</p>"
      ],
      "text/plain": [
       "Question15 results: All test cases passed!"
      ]
     },
     "execution_count": 36,
     "metadata": {},
     "output_type": "execute_result"
    }
   ],
   "source": [
    "grader.check(\"Question15\")"
   ]
  },
  {
   "cell_type": "markdown",
   "metadata": {
    "deletable": false,
    "editable": false
   },
   "source": [
    "16\\. (0.2 pts) Get the number of unique items in `grades` and save it in the variable `ans16`. Use `grades_set`."
   ]
  },
  {
   "cell_type": "code",
   "execution_count": 37,
   "metadata": {
    "tags": []
   },
   "outputs": [],
   "source": [
    "# Your answer here\n",
    "\n",
    "ans16 = len(grades_set)"
   ]
  },
  {
   "cell_type": "code",
   "execution_count": 38,
   "metadata": {
    "deletable": false,
    "editable": false
   },
   "outputs": [
    {
     "data": {
      "text/html": [
       "<p><strong><pre style='display: inline;'>Question16</pre></strong> passed! 🎉</p>"
      ],
      "text/plain": [
       "Question16 results: All test cases passed!"
      ]
     },
     "execution_count": 38,
     "metadata": {},
     "output_type": "execute_result"
    }
   ],
   "source": [
    "grader.check(\"Question16\")"
   ]
  },
  {
   "cell_type": "markdown",
   "metadata": {
    "deletable": false,
    "editable": false
   },
   "source": [
    "17\\. (0.2 pts) Check if the length of `grades` is greater than or equal to the length of `grades_set` and save the outcome in the variable `ans17`. The outcome must be either True or False."
   ]
  },
  {
   "cell_type": "code",
   "execution_count": 39,
   "metadata": {
    "tags": []
   },
   "outputs": [],
   "source": [
    "# Your answer here\n",
    "ans17 = len(grades) >= len(grades_set)"
   ]
  },
  {
   "cell_type": "code",
   "execution_count": 40,
   "metadata": {
    "deletable": false,
    "editable": false
   },
   "outputs": [
    {
     "data": {
      "text/html": [
       "<p><strong><pre style='display: inline;'>Question17</pre></strong> passed! 🎉</p>"
      ],
      "text/plain": [
       "Question17 results: All test cases passed!"
      ]
     },
     "execution_count": 40,
     "metadata": {},
     "output_type": "execute_result"
    }
   ],
   "source": [
    "grader.check(\"Question17\")"
   ]
  },
  {
   "cell_type": "markdown",
   "metadata": {},
   "source": [
    "<hr>"
   ]
  },
  {
   "cell_type": "markdown",
   "metadata": {
    "deletable": false,
    "editable": false
   },
   "source": [
    "18\\. (0.2 pts) Calculate the remainder of 283 divided by 10 and save it in the variable `ans18`."
   ]
  },
  {
   "cell_type": "code",
   "execution_count": 41,
   "metadata": {
    "tags": []
   },
   "outputs": [],
   "source": [
    "# Your answer here\n",
    "ans18 = 283 % 10"
   ]
  },
  {
   "cell_type": "code",
   "execution_count": 42,
   "metadata": {
    "deletable": false,
    "editable": false
   },
   "outputs": [
    {
     "data": {
      "text/html": [
       "<p><strong><pre style='display: inline;'>Question18</pre></strong> passed! 🌟</p>"
      ],
      "text/plain": [
       "Question18 results: All test cases passed!"
      ]
     },
     "execution_count": 42,
     "metadata": {},
     "output_type": "execute_result"
    }
   ],
   "source": [
    "grader.check(\"Question18\")"
   ]
  },
  {
   "cell_type": "markdown",
   "metadata": {
    "deletable": false,
    "editable": false
   },
   "source": [
    "19\\. (0.2 pts) Calculate the value of 5 to the power of 4 and save it in the variable `ans19`."
   ]
  },
  {
   "cell_type": "code",
   "execution_count": 43,
   "metadata": {
    "tags": []
   },
   "outputs": [],
   "source": [
    "# Your answer here\n",
    "ans19 = 5 ** 4"
   ]
  },
  {
   "cell_type": "code",
   "execution_count": 44,
   "metadata": {
    "deletable": false,
    "editable": false
   },
   "outputs": [
    {
     "data": {
      "text/html": [
       "<p><strong><pre style='display: inline;'>Question19</pre></strong> passed! 🚀</p>"
      ],
      "text/plain": [
       "Question19 results: All test cases passed!"
      ]
     },
     "execution_count": 44,
     "metadata": {},
     "output_type": "execute_result"
    }
   ],
   "source": [
    "grader.check(\"Question19\")"
   ]
  },
  {
   "cell_type": "markdown",
   "metadata": {
    "deletable": false,
    "editable": false
   },
   "source": [
    "20\\. (0.2 pts) Delete the variable `grades`. You do not have to save the outcome in a variable. "
   ]
  },
  {
   "cell_type": "code",
   "execution_count": 45,
   "metadata": {
    "tags": []
   },
   "outputs": [],
   "source": [
    "# Your answer here\n",
    "del grades"
   ]
  },
  {
   "cell_type": "code",
   "execution_count": 46,
   "metadata": {
    "deletable": false,
    "editable": false
   },
   "outputs": [
    {
     "data": {
      "text/html": [
       "<p><strong><pre style='display: inline;'>Question20</pre></strong> passed! 🎉</p>"
      ],
      "text/plain": [
       "Question20 results: All test cases passed!"
      ]
     },
     "execution_count": 46,
     "metadata": {},
     "output_type": "execute_result"
    }
   ],
   "source": [
    "grader.check(\"Question20\")"
   ]
  },
  {
   "cell_type": "markdown",
   "metadata": {},
   "source": [
    "## Quick Survey"
   ]
  },
  {
   "cell_type": "markdown",
   "metadata": {},
   "source": [
    "How long did it take you to complete this homework? (This will not affect your score. Your answer will be very helpful for the instructor to design the homewok assignments and exams. Thank you!)"
   ]
  },
  {
   "cell_type": "markdown",
   "metadata": {},
   "source": [
    ": 15 minutes"
   ]
  },
  {
   "cell_type": "markdown",
   "metadata": {
    "deletable": false,
    "editable": false
   },
   "source": [
    "## Submission\n",
    "\n",
    "Make sure you have run all cells in your notebook in order before running the cell below, so that all images/graphs appear in the output. The cell below will generate a zip file for you to submit. **Please save before exporting!**"
   ]
  },
  {
   "cell_type": "code",
   "execution_count": 47,
   "metadata": {
    "deletable": false,
    "editable": false
   },
   "outputs": [
    {
     "name": "stdout",
     "output_type": "stream",
     "text": [
      "Running your submission against local test cases...\n",
      "\n",
      "\n",
      "Your submission received the following results when run against available test cases:\n",
      "\n",
      "    Question01 results: All test cases passed!\n",
      "\n",
      "    Question02 results: All test cases passed!\n",
      "\n",
      "    Question03 results: All test cases passed!\n",
      "\n",
      "    Question04 results: All test cases passed!\n",
      "\n",
      "    Question05 results: All test cases passed!\n",
      "\n",
      "    Question06 results: All test cases passed!\n",
      "\n",
      "    Question07 results: All test cases passed!\n",
      "\n",
      "    Question08 results: All test cases passed!\n",
      "\n",
      "    Question09 results: All test cases passed!\n",
      "\n",
      "    Question10 results: All test cases passed!\n",
      "\n",
      "    Question11 results: All test cases passed!\n",
      "\n",
      "    Question12 results: All test cases passed!\n",
      "\n",
      "    Question13 results: All test cases passed!\n",
      "\n",
      "    Question14 results: All test cases passed!\n",
      "\n",
      "    Question15 results: All test cases passed!\n",
      "\n",
      "    Question16 results: All test cases passed!\n",
      "\n",
      "    Question17 results: All test cases passed!\n",
      "\n",
      "    Question18 results: All test cases passed!\n",
      "\n",
      "    Question19 results: All test cases passed!\n",
      "\n",
      "    Question20 results: All test cases passed!\n"
     ]
    },
    {
     "data": {
      "text/html": [
       "\n",
       "                    <p>\n",
       "                        Your submission has been exported. Click\n",
       "                        <a href=\"Homework1_2024_09_03T17_28_24_094648.zip\" download=\"Homework1_2024_09_03T17_28_24_094648.zip\" target=\"_blank\">here</a> to download\n",
       "                        the zip file.\n",
       "                    </p>\n",
       "                "
      ],
      "text/plain": [
       "<IPython.core.display.HTML object>"
      ]
     },
     "metadata": {},
     "output_type": "display_data"
    }
   ],
   "source": [
    "# Save your notebook first, then run this cell to export your submission.\n",
    "grader.export(pdf=False, run_tests=True)"
   ]
  },
  {
   "cell_type": "markdown",
   "metadata": {},
   "source": [
    " "
   ]
  }
 ],
 "metadata": {
  "kernelspec": {
   "display_name": "IDAS Python 3.11",
   "language": "python",
   "name": "python3"
  },
  "language_info": {
   "codemirror_mode": {
    "name": "ipython",
    "version": 3
   },
   "file_extension": ".py",
   "mimetype": "text/x-python",
   "name": "python",
   "nbconvert_exporter": "python",
   "pygments_lexer": "ipython3",
   "version": "3.11.4"
  },
  "otter": {
   "OK_FORMAT": true,
   "assignment_name": "Homework1",
   "tests": {
    "Question01": {
     "name": "Question01",
     "points": 0.1,
     "suites": [
      {
       "cases": [
        {
         "code": ">>> def test_q1():\n...     try:\n...         assert ans1 == 66\n...         print('Test passed!')\n...     except AssertionError as e:\n...         print(e)\n>>> test_q1()\nTest passed!\n",
         "hidden": false,
         "locked": false
        }
       ],
       "scored": true,
       "setup": "",
       "teardown": "",
       "type": "doctest"
      }
     ]
    },
    "Question02": {
     "name": "Question02",
     "points": 0.1,
     "suites": [
      {
       "cases": [
        {
         "code": ">>> def test_q2():\n...     try:\n...         assert ans2 == \"I'm\"\n...         print('Test passed!')\n...     except AssertionError as e:\n...         print(e)\n>>> test_q2()\nTest passed!\n",
         "hidden": false,
         "locked": false
        }
       ],
       "scored": true,
       "setup": "",
       "teardown": "",
       "type": "doctest"
      }
     ]
    },
    "Question03": {
     "name": "Question03",
     "points": 0.1,
     "suites": [
      {
       "cases": [
        {
         "code": ">>> def test_q3():\n...     try:\n...         assert ans3 == ' semester.'\n...         print('Test passed!')\n...     except AssertionError as e:\n...         print(e)\n>>> test_q3()\nTest passed!\n",
         "hidden": false,
         "locked": false
        }
       ],
       "scored": true,
       "setup": "",
       "teardown": "",
       "type": "doctest"
      }
     ]
    },
    "Question04": {
     "name": "Question04",
     "points": 0.1,
     "suites": [
      {
       "cases": [
        {
         "code": ">>> def test_q4():\n...     try:\n...         assert ans4 == True\n...         print('Test passed!')\n...     except AssertionError as e:\n...         print(e)\n>>> test_q4()\nTest passed!\n",
         "hidden": false,
         "locked": false
        },
        {
         "code": ">>> ans4\nTrue",
         "hidden": false,
         "locked": false
        }
       ],
       "scored": true,
       "setup": "",
       "teardown": "",
       "type": "doctest"
      }
     ]
    },
    "Question05": {
     "name": "Question05",
     "points": 0.1,
     "suites": [
      {
       "cases": [
        {
         "code": ">>> def test_q5():\n...     try:\n...         assert ans5 == \"I'm taking the Text Analytics course in this semester.\", 'The replacement string is incorrect.'\n...         print('Test passed!')\n...     except AssertionError as e:\n...         print(e)\n>>> test_q5()\nTest passed!\n",
         "hidden": false,
         "locked": false
        }
       ],
       "scored": true,
       "setup": "",
       "teardown": "",
       "type": "doctest"
      }
     ]
    },
    "Question06": {
     "name": "Question06",
     "points": 0.1,
     "suites": [
      {
       "cases": [
        {
         "code": ">>> def test_q6():\n...     try:\n...         assert ans6 == 1, \"The frequency of 'the' is incorrect.\"\n...         print('Test passed!')\n...     except AssertionError as e:\n...         print(e)\n>>> test_q6()\nTest passed!\n",
         "hidden": false,
         "locked": false
        }
       ],
       "scored": true,
       "setup": "",
       "teardown": "",
       "type": "doctest"
      }
     ]
    },
    "Question07": {
     "name": "Question07",
     "points": 0.1,
     "suites": [
      {
       "cases": [
        {
         "code": ">>> def test_q7():\n...     try:\n...         assert heroes[-1] == 'Aquaman', \"The item 'Aquaman' was not appended correctly.\"\n...         print('Test passed!')\n...     except AssertionError as e:\n...         print(e)\n>>> test_q7()\nTest passed!\n",
         "hidden": false,
         "locked": false
        }
       ],
       "scored": true,
       "setup": "",
       "teardown": "",
       "type": "doctest"
      }
     ]
    },
    "Question08": {
     "name": "Question08",
     "points": 0.1,
     "suites": [
      {
       "cases": [
        {
         "code": ">>> def test_q8():\n...     try:\n...         assert heroes[0] == 'Captain America', \"The item 'Captain America' was not inserted correctly.\"\n...         print('Test passed!')\n...     except AssertionError as e:\n...         print(e)\n>>> test_q8()\nTest passed!\n",
         "hidden": false,
         "locked": false
        }
       ],
       "scored": true,
       "setup": "",
       "teardown": "",
       "type": "doctest"
      }
     ]
    },
    "Question09": {
     "name": "Question09",
     "points": 0.1,
     "suites": [
      {
       "cases": [
        {
         "code": ">>> def test_q9():\n...     try:\n...         assert ans9 == 7, 'The number of items in heroes is incorrect.'\n...         print('Test passed!')\n...     except AssertionError as e:\n...         print(e)\n>>> test_q9()\nTest passed!\n",
         "hidden": false,
         "locked": false
        }
       ],
       "scored": true,
       "setup": "",
       "teardown": "",
       "type": "doctest"
      }
     ]
    },
    "Question10": {
     "name": "Question10",
     "points": 0.1,
     "suites": [
      {
       "cases": [
        {
         "code": ">>> def test_q10():\n...     try:\n...         assert ans10 == ['Superman', 'Spider-Man', 'Iron Man', 'Captain America', 'Bat Man', 'Aquaman', 'Ant-Man'], 'The sorted list in reverse alphabetical order is incorrect.'\n...         print('Test passed!')\n...     except AssertionError as e:\n...         print(e)\n>>> test_q10()\nTest passed!\n",
         "hidden": false,
         "locked": false
        }
       ],
       "scored": true,
       "setup": "",
       "teardown": "",
       "type": "doctest"
      }
     ]
    },
    "Question11": {
     "name": "Question11",
     "points": 0.2,
     "suites": [
      {
       "cases": [
        {
         "code": ">>> def test_q11():\n...     try:\n...         assert ans11 == 'IA', \"The abbreviation for 'Iowa' is incorrect.\"\n...         print('Test passed!')\n...     except AssertionError as e:\n...         print(e)\n>>> test_q11()\nTest passed!\n",
         "hidden": false,
         "locked": false
        }
       ],
       "scored": true,
       "setup": "",
       "teardown": "",
       "type": "doctest"
      }
     ]
    },
    "Question12": {
     "name": "Question12",
     "points": 0.2,
     "suites": [
      {
       "cases": [
        {
         "code": ">>> def test_q12():\n...     try:\n...         assert ans12 == False, \"The presence of 'Missouri' in states is incorrect.\"\n...         print('Test passed!')\n...     except AssertionError as e:\n...         print(e)\n>>> test_q12()\nTest passed!\n",
         "hidden": false,
         "locked": false
        }
       ],
       "scored": true,
       "setup": "",
       "teardown": "",
       "type": "doctest"
      }
     ]
    },
    "Question13": {
     "name": "Question13",
     "points": 0.2,
     "suites": [
      {
       "cases": [
        {
         "code": ">>> def test_q13():\n...     try:\n...         assert states['Missouri'] == 'MO', \"The key-value pair for 'Missouri' was not added correctly.\"\n...         print('Test passed!')\n...     except AssertionError as e:\n...         print(e)\n>>> test_q13()\nTest passed!\n",
         "hidden": false,
         "locked": false
        }
       ],
       "scored": true,
       "setup": "",
       "teardown": "",
       "type": "doctest"
      }
     ]
    },
    "Question14": {
     "name": "Question14",
     "points": 0.2,
     "suites": [
      {
       "cases": [
        {
         "code": ">>> def test_q14():\n...     try:\n...         assert list(ans14) == ['Iowa', 'Illinois', 'Minnesota', 'Nebraska', 'Wisconsin', 'Missouri'], 'The list of keys is incorrect.'\n...         print('Test passed!')\n...     except AssertionError as e:\n...         print(e)\n>>> test_q14()\nTest passed!\n",
         "hidden": false,
         "locked": false
        }
       ],
       "scored": true,
       "setup": "",
       "teardown": "",
       "type": "doctest"
      }
     ]
    },
    "Question15": {
     "name": "Question15",
     "points": 0.2,
     "suites": [
      {
       "cases": [
        {
         "code": ">>> def test_q15():\n...     try:\n...         assert grades_set == {'A', 'B', 'C'}, 'The set conversion is incorrect.'\n...         print('Test passed!')\n...     except AssertionError as e:\n...         print(e)\n>>> test_q15()\nTest passed!\n",
         "hidden": false,
         "locked": false
        }
       ],
       "scored": true,
       "setup": "",
       "teardown": "",
       "type": "doctest"
      }
     ]
    },
    "Question16": {
     "name": "Question16",
     "points": 0.2,
     "suites": [
      {
       "cases": [
        {
         "code": ">>> def test_q16():\n...     try:\n...         assert ans16 == 3, 'The number of unique items is incorrect.'\n...         print('Test passed!')\n...     except AssertionError as e:\n...         print(e)\n>>> test_q16()\nTest passed!\n",
         "hidden": false,
         "locked": false
        }
       ],
       "scored": true,
       "setup": "",
       "teardown": "",
       "type": "doctest"
      }
     ]
    },
    "Question17": {
     "name": "Question17",
     "points": 0.2,
     "suites": [
      {
       "cases": [
        {
         "code": ">>> def test_q17():\n...     try:\n...         assert ans17 == True, 'The comparison of lengths is incorrect.'\n...         print('Test passed!')\n...     except AssertionError as e:\n...         print(e)\n>>> test_q17()\nTest passed!\n",
         "hidden": false,
         "locked": false
        }
       ],
       "scored": true,
       "setup": "",
       "teardown": "",
       "type": "doctest"
      }
     ]
    },
    "Question18": {
     "name": "Question18",
     "points": 0.2,
     "suites": [
      {
       "cases": [
        {
         "code": ">>> def test_q18():\n...     try:\n...         assert ans18 == 3, 'The remainder calculation is incorrect.'\n...         print('Test passed!')\n...     except AssertionError as e:\n...         print(e)\n>>> test_q18()\nTest passed!\n",
         "hidden": false,
         "locked": false
        }
       ],
       "scored": true,
       "setup": "",
       "teardown": "",
       "type": "doctest"
      }
     ]
    },
    "Question19": {
     "name": "Question19",
     "points": 0.2,
     "suites": [
      {
       "cases": [
        {
         "code": ">>> def test_q19():\n...     try:\n...         assert ans19 == 625, 'The power calculation is incorrect.'\n...         print('Test passed!')\n...     except AssertionError as e:\n...         print(e)\n>>> test_q19()\nTest passed!\n",
         "hidden": false,
         "locked": false
        }
       ],
       "scored": true,
       "setup": "",
       "teardown": "",
       "type": "doctest"
      }
     ]
    },
    "Question20": {
     "name": "Question20",
     "points": 0.2,
     "suites": [
      {
       "cases": [
        {
         "code": ">>> def test_q20():\n...     try:\n...         assert 'grades' not in globals(), \"The variable 'grades' was not deleted.\"\n...         print('Test passed!')\n...     except AssertionError as e:\n...         print(e)\n>>> test_q20()\nTest passed!\n",
         "hidden": false,
         "locked": false
        }
       ],
       "scored": true,
       "setup": "",
       "teardown": "",
       "type": "doctest"
      }
     ]
    }
   }
  }
 },
 "nbformat": 4,
 "nbformat_minor": 4
}
