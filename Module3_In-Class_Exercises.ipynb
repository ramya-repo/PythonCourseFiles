{
 "cells": [
  {
   "cell_type": "markdown",
   "metadata": {},
   "source": [
    "# Data Programming in Python | BAIS:6040\n",
    "# Module 3 - Python Basics Part 2 In-Class Exercises"
   ]
  },
  {
   "cell_type": "markdown",
   "metadata": {},
   "source": [
    "## Exercises for For Loops"
   ]
  },
  {
   "cell_type": "markdown",
   "metadata": {},
   "source": [
    "1\\. Write a <b>for</b> loop that prints all integers from 1 to 50, separated by a comma. Use the <b>range</b> function to generate numbers."
   ]
  },
  {
   "cell_type": "code",
   "execution_count": 20,
   "metadata": {},
   "outputs": [
    {
     "name": "stdout",
     "output_type": "stream",
     "text": [
      "1, 2, 3, 4, 5, 6, 7, 8, 9, 10, 11, 12, 13, 14, 15, 16, 17, 18, 19, 20, 21, 22, 23, 24, 25, 26, 27, 28, 29, 30, 31, 32, 33, 34, 35, 36, 37, 38, 39, 40, 41, 42, 43, 44, 45, 46, 47, 48, 49, 50\n",
      "1, 2, 3, 4, 5, 6, 7, 8, 9, 10, 11, 12, 13, 14, 15, 16, 17, 18, 19, 20, 21, 22, 23, 24, 25, 26, 27, 28, 29, 30, 31, 32, 33, 34, 35, 36, 37, 38, 39, 40, 41, 42, 43, 44, 45, 46, 47, 48, 49, 50\n"
     ]
    }
   ],
   "source": [
    "# Your answer here\n",
    "for i in range(1, 51):\n",
    "    if i <50:\n",
    "        print(i, end=', ')\n",
    "    else:\n",
    "        print(i)\n",
    "\n",
    "#2nd way\n",
    "my_list = []\n",
    "for i in range(1, 51):\n",
    "    my_list.append(i)\n",
    "result = ', '.join(map(str, my_list)) \n",
    "print(result)"
   ]
  },
  {
   "cell_type": "markdown",
   "metadata": {},
   "source": [
    "2\\. Write a <b>for</b> loop that prints all characters in the string `quote` below, separated by a space."
   ]
  },
  {
   "cell_type": "code",
   "execution_count": 2,
   "metadata": {},
   "outputs": [],
   "source": [
    "quote = \"To be or not to be, that is the question\""
   ]
  },
  {
   "cell_type": "code",
   "execution_count": 3,
   "metadata": {},
   "outputs": [
    {
     "name": "stdout",
     "output_type": "stream",
     "text": [
      "T o   b e   o r   n o t   t o   b e ,   t h a t   i s   t h e   q u e s t i o n "
     ]
    }
   ],
   "source": [
    "# Your answer here\n",
    "for i in quote:\n",
    "    print(i, end=' ')"
   ]
  },
  {
   "cell_type": "markdown",
   "metadata": {},
   "source": [
    "3\\. Write a <b>for</b> loop that prints the same as above, but this time using the index of `quote`."
   ]
  },
  {
   "cell_type": "code",
   "execution_count": 5,
   "metadata": {},
   "outputs": [
    {
     "name": "stdout",
     "output_type": "stream",
     "text": [
      "T o   b e   o r   n o t   t o   b e ,   t h a t   i s   t h e   q u e s t i o n "
     ]
    }
   ],
   "source": [
    "# Your answer here\n",
    "for i in range(len(quote)):\n",
    "    print(quote[i], end=' ')"
   ]
  },
  {
   "cell_type": "markdown",
   "metadata": {},
   "source": [
    "4\\. Write a <b>for</b> loop that prints the same as above, except that the letters at odd index positions are printed in upper case, while the other letters are printed as they are."
   ]
  },
  {
   "cell_type": "code",
   "execution_count": 6,
   "metadata": {},
   "outputs": [
    {
     "name": "stdout",
     "output_type": "stream",
     "text": [
      "T O   B e   o R   N o T   T o   b E ,   t H a T   I s   t H e   q U e S t I o N "
     ]
    }
   ],
   "source": [
    "# Your answer here\n",
    "for i in range(len(quote)):\n",
    "    if i % 2 == 1:\n",
    "        # Print the character in uppercase if the index is odd\n",
    "        print(quote[i].upper(), end=' ')\n",
    "    else:\n",
    "        # Print the character as it is if the index is even\n",
    "        print(quote[i], end=' ')"
   ]
  },
  {
   "cell_type": "markdown",
   "metadata": {},
   "source": [
    "5\\. Write a <b>for</b> loop that prints \"NAME is AGE years old.\" for each tuple in `students`, separated by a new line, where NAME is the first value in each tuple and AGE the second. For example, the first line in the output must look as follows:"
   ]
  },
  {
   "cell_type": "raw",
   "metadata": {},
   "source": [
    "Alice is 20 years old."
   ]
  },
  {
   "cell_type": "code",
   "execution_count": 7,
   "metadata": {},
   "outputs": [],
   "source": [
    "students = [(\"Alice\", 20), (\"Bob\", 22), (\"Charlie\", 19)]"
   ]
  },
  {
   "cell_type": "code",
   "execution_count": 13,
   "metadata": {},
   "outputs": [
    {
     "name": "stdout",
     "output_type": "stream",
     "text": [
      " Alice is 20 years old.\n",
      " Bob is 22 years old.\n",
      " Charlie is 19 years old.\n"
     ]
    }
   ],
   "source": [
    "# Your answer here\n",
    "for name, age in students:\n",
    "    # Print the formatted string\n",
    "    #print(f\"{name} is {age} years old.\")\n",
    "    #print(name + \" is \" + str(age) + \" years old.\")\n",
    "    print(' {} is {} years old.'.format(name, age))"
   ]
  },
  {
   "cell_type": "markdown",
   "metadata": {},
   "source": [
    "## Exercises for List Comprehension"
   ]
  },
  {
   "cell_type": "markdown",
   "metadata": {},
   "source": [
    "1\\. Not using and using list comprehension, create a list `temperatures_f` of temperatures in Fahrenheit converted from the list `temperatures_c` in Celsius. You can use the following formula to convert from Celsius to Fahrenheit: **`temp * 9/5 + 32`**"
   ]
  },
  {
   "cell_type": "code",
   "execution_count": 14,
   "metadata": {},
   "outputs": [],
   "source": [
    "temperatures_c = [0, 10, 20, 30, 40]"
   ]
  },
  {
   "cell_type": "code",
   "execution_count": 22,
   "metadata": {},
   "outputs": [
    {
     "data": {
      "text/plain": [
       "[32.0, 50.0, 68.0, 86.0, 104.0]"
      ]
     },
     "execution_count": 22,
     "metadata": {},
     "output_type": "execute_result"
    }
   ],
   "source": [
    "# Your answer here NOT using list comprehension\n",
    "temperatures_f = []\n",
    "\n",
    "for temp in temperatures_c:\n",
    "    temperatures_f.append(temp * 9/5 + 32)\n",
    "\n",
    "print(temperatures_f)"
   ]
  },
  {
   "cell_type": "code",
   "execution_count": 23,
   "metadata": {},
   "outputs": [
    {
     "data": {
      "text/plain": [
       "[32.0, 50.0, 68.0, 86.0, 104.0]"
      ]
     },
     "execution_count": 23,
     "metadata": {},
     "output_type": "execute_result"
    }
   ],
   "source": [
    "# Your answer here USING list comprehension\n",
    "temperatures_f = [temp * 9/5 + 32 for temp in temperatures_c]\n",
    " \n",
    "print(temperatures_f)"
   ]
  },
  {
   "cell_type": "markdown",
   "metadata": {},
   "source": [
    "2\\. Not using and using  list comprehension, create a list `lengths` of of the the lengths of each word in the list `words`."
   ]
  },
  {
   "cell_type": "code",
   "execution_count": 15,
   "metadata": {},
   "outputs": [],
   "source": [
    "words = [\"apple\", \"banana\", \"cherry\", \"date\", \"elderberry\"]"
   ]
  },
  {
   "cell_type": "code",
   "execution_count": 16,
   "metadata": {},
   "outputs": [
    {
     "name": "stdout",
     "output_type": "stream",
     "text": [
      "[5, 6, 6, 4, 10]\n"
     ]
    }
   ],
   "source": [
    "# Your answer here NOT using list comprehension \n",
    "lengths = []\n",
    " \n",
    "for word in words: \n",
    "    lengths.append(len(word))\n",
    " \n",
    "print(lengths)"
   ]
  },
  {
   "cell_type": "code",
   "execution_count": 17,
   "metadata": {},
   "outputs": [
    {
     "name": "stdout",
     "output_type": "stream",
     "text": [
      "[5, 6, 6, 4, 10]\n"
     ]
    }
   ],
   "source": [
    "# Your answer here using list comprehension \n",
    "lengths = [len(word) for word in words] \n",
    "print(lengths)"
   ]
  },
  {
   "cell_type": "markdown",
   "metadata": {},
   "source": [
    "3\\. Using list comprehension, create a list `initials` of the first letter of each word in `words`."
   ]
  },
  {
   "cell_type": "code",
   "execution_count": 26,
   "metadata": {},
   "outputs": [
    {
     "data": {
      "text/plain": [
       "['a', 'b', 'c', 'd', 'e']"
      ]
     },
     "execution_count": 26,
     "metadata": {},
     "output_type": "execute_result"
    }
   ],
   "source": [
    "# Your answer here\n",
    "initials = [word[0] for word in words]"
   ]
  },
  {
   "cell_type": "markdown",
   "metadata": {},
   "source": [
    "4\\. Using list comprehension, create a list `upper_words` of the words in `words` converted to uppercase. "
   ]
  },
  {
   "cell_type": "code",
   "execution_count": 18,
   "metadata": {},
   "outputs": [
    {
     "name": "stdout",
     "output_type": "stream",
     "text": [
      "['APPLE', 'BANANA', 'CHERRY', 'DATE', 'ELDERBERRY']\n"
     ]
    }
   ],
   "source": [
    "# Your answer here\n",
    "upper_words = [word.upper() for word in words]\n",
    " \n",
    "print(upper_words)"
   ]
  },
  {
   "cell_type": "markdown",
   "metadata": {},
   "source": [
    "5\\. Using list comprehension, create a list `even_numbers` of all even numbers from 1 to 50. "
   ]
  },
  {
   "cell_type": "code",
   "execution_count": 19,
   "metadata": {},
   "outputs": [
    {
     "name": "stdout",
     "output_type": "stream",
     "text": [
      "[2, 4, 6, 8, 10, 12, 14, 16, 18, 20, 22, 24, 26, 28, 30, 32, 34, 36, 38, 40, 42, 44, 46, 48, 50]\n"
     ]
    }
   ],
   "source": [
    "# Your answer here\n",
    "even_numbers = [num for num in range(1, 51) if num % 2 == 0] \n",
    "print(even_numbers)"
   ]
  }
 ],
 "metadata": {
  "kernelspec": {
   "display_name": "Python 3 (ipykernel)",
   "language": "python",
   "name": "python3"
  },
  "language_info": {
   "codemirror_mode": {
    "name": "ipython",
    "version": 3
   },
   "file_extension": ".py",
   "mimetype": "text/x-python",
   "name": "python",
   "nbconvert_exporter": "python",
   "pygments_lexer": "ipython3",
   "version": "3.12.6"
  }
 },
 "nbformat": 4,
 "nbformat_minor": 4
}
