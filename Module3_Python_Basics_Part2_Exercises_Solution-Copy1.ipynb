{
 "cells": [
  {
   "cell_type": "markdown",
   "metadata": {},
   "source": [
    "# Data Programming in Python | BAIS:6040\n",
    "# Module 3 - Python Basics Part 2"
   ]
  },
  {
   "cell_type": "markdown",
   "metadata": {},
   "source": [
    "Written by Kang-Pyo Lee "
   ]
  },
  {
   "cell_type": "markdown",
   "metadata": {},
   "source": [
    "## Exercises for Branches"
   ]
  },
  {
   "cell_type": "code",
   "execution_count": 1,
   "metadata": {},
   "outputs": [],
   "source": [
    "x, y = 3, 5"
   ]
  },
  {
   "cell_type": "markdown",
   "metadata": {},
   "source": [
    "1\\. Write an <b>if</b> statement that prints \"*Integer*\" if `x` is an integer, \"*Float*\" if `x` is a floating point number, \"*Complex*\" if `x` is a complex number, and \"*Not a number*\" otherwise. Use the <b>type</b> function to check the type of a variable. "
   ]
  },
  {
   "cell_type": "code",
   "execution_count": 1,
   "metadata": {},
   "outputs": [
    {
     "ename": "NameError",
     "evalue": "name 'x' is not defined",
     "output_type": "error",
     "traceback": [
      "\u001b[1;31m---------------------------------------------------------------------------\u001b[0m",
      "\u001b[1;31mNameError\u001b[0m                                 Traceback (most recent call last)",
      "Cell \u001b[1;32mIn[1], line 2\u001b[0m\n\u001b[0;32m      1\u001b[0m \u001b[38;5;66;03m# Your answer here\u001b[39;00m\n\u001b[1;32m----> 2\u001b[0m \u001b[38;5;28;01mif\u001b[39;00m \u001b[38;5;28mtype\u001b[39m(\u001b[43mx\u001b[49m) \u001b[38;5;241m==\u001b[39m \u001b[38;5;28mint\u001b[39m:\n\u001b[0;32m      3\u001b[0m     \u001b[38;5;28mprint\u001b[39m(\u001b[38;5;124m\"\u001b[39m\u001b[38;5;124mInteger\u001b[39m\u001b[38;5;124m\"\u001b[39m)\n\u001b[0;32m      4\u001b[0m \u001b[38;5;28;01melif\u001b[39;00m \u001b[38;5;28mtype\u001b[39m(x) \u001b[38;5;241m==\u001b[39m \u001b[38;5;28mfloat\u001b[39m:\n",
      "\u001b[1;31mNameError\u001b[0m: name 'x' is not defined"
     ]
    }
   ],
   "source": [
    "# Your answer here\n",
    "if type(x) == int:\n",
    "    print(\"Integer\")\n",
    "elif type(x) == float:\n",
    "    print(\"Float\")\n",
    "elif type(x) == complex:\n",
    "    print(\"Complex\")\n",
    "else:\n",
    "    print(\"Not a number\")"
   ]
  },
  {
   "cell_type": "markdown",
   "metadata": {},
   "source": [
    "2\\. Write an <b>if</b> statement that prints \"*Even*\" if `x` is an even number and \"*Odd*\" if `x` is an odd number. In order to check if a number is either even or odd, divide it by 2 and if the remainder is 0, you can say it is even, otherwise, it is odd. Use the % operator to get the remainder of a division. "
   ]
  },
  {
   "cell_type": "code",
   "execution_count": 3,
   "metadata": {},
   "outputs": [
    {
     "name": "stdout",
     "output_type": "stream",
     "text": [
      "Odd\n"
     ]
    }
   ],
   "source": [
    "# Your answer here\n",
    "if x % 2 == 0:\n",
    "    print(\"Even\")\n",
    "else:\n",
    "    print(\"Odd\")"
   ]
  },
  {
   "cell_type": "markdown",
   "metadata": {},
   "source": [
    "3\\. Write an <b>if</b> statement that prints \"*x is greater than y.*\" if `x` is greater than `y`, \"*x is less than y.*\" if `x` is less than `y`, and \"*x equals y.*\" otherwise. "
   ]
  },
  {
   "cell_type": "code",
   "execution_count": 4,
   "metadata": {},
   "outputs": [
    {
     "name": "stdout",
     "output_type": "stream",
     "text": [
      "x is less than y.\n"
     ]
    }
   ],
   "source": [
    "# Your answer here\n",
    "if x > y:\n",
    "    print(\"x is greater than y.\")\n",
    "elif x < y:\n",
    "    print(\"x is less than y.\")\n",
    "else:\n",
    "    print(\"x equals y.\")"
   ]
  },
  {
   "cell_type": "markdown",
   "metadata": {},
   "source": [
    "## Exercises for For Loops"
   ]
  },
  {
   "cell_type": "markdown",
   "metadata": {},
   "source": [
    "1\\. Write a <b>for</b> loop that prints all integers from 1 to 100, separated by a tab. Use the <b>range</b> function to generate numbers."
   ]
  },
  {
   "cell_type": "code",
   "execution_count": 5,
   "metadata": {},
   "outputs": [
    {
     "name": "stdout",
     "output_type": "stream",
     "text": [
      "1\t2\t3\t4\t5\t6\t7\t8\t9\t10\t11\t12\t13\t14\t15\t16\t17\t18\t19\t20\t21\t22\t23\t24\t25\t26\t27\t28\t29\t30\t31\t32\t33\t34\t35\t36\t37\t38\t39\t40\t41\t42\t43\t44\t45\t46\t47\t48\t49\t50\t51\t52\t53\t54\t55\t56\t57\t58\t59\t60\t61\t62\t63\t64\t65\t66\t67\t68\t69\t70\t71\t72\t73\t74\t75\t76\t77\t78\t79\t80\t81\t82\t83\t84\t85\t86\t87\t88\t89\t90\t91\t92\t93\t94\t95\t96\t97\t98\t99\t100\t"
     ]
    }
   ],
   "source": [
    "# Your answer here\n",
    "for num in range(1, 101):\n",
    "    print(num, end=\"\\t\")"
   ]
  },
  {
   "cell_type": "markdown",
   "metadata": {},
   "source": [
    "2\\. Write a <b>for</b> loop that prints all characters in the string `s` below, separated by a tab."
   ]
  },
  {
   "cell_type": "code",
   "execution_count": 6,
   "metadata": {},
   "outputs": [],
   "source": [
    "s = \"abcdefghijklmnopqrstuvwxyz\""
   ]
  },
  {
   "cell_type": "code",
   "execution_count": 7,
   "metadata": {},
   "outputs": [
    {
     "name": "stdout",
     "output_type": "stream",
     "text": [
      "a\tb\tc\td\te\tf\tg\th\ti\tj\tk\tl\tm\tn\to\tp\tq\tr\ts\tt\tu\tv\tw\tx\ty\tz\t"
     ]
    }
   ],
   "source": [
    "# Your answer here\n",
    "for c in s:\n",
    "    print(c, end=\"\\t\")"
   ]
  },
  {
   "cell_type": "markdown",
   "metadata": {},
   "source": [
    "3\\. Write a <b>for</b> loop that prints the same as above, but this time using the index of `s`."
   ]
  },
  {
   "cell_type": "code",
   "execution_count": 8,
   "metadata": {},
   "outputs": [
    {
     "name": "stdout",
     "output_type": "stream",
     "text": [
      "a\tb\tc\td\te\tf\tg\th\ti\tj\tk\tl\tm\tn\to\tp\tq\tr\ts\tt\tu\tv\tw\tx\ty\tz\t"
     ]
    }
   ],
   "source": [
    "# Your answer here\n",
    "for i in range(len(s)):\n",
    "    c = s[i]\n",
    "    print(c, end=\"\\t\")"
   ]
  },
  {
   "cell_type": "markdown",
   "metadata": {},
   "source": [
    "4\\. Write a <b>for</b> loop that prints the same as above, except that the letters at odd index positions are printed in upper case, while the other letters are printed as they are."
   ]
  },
  {
   "cell_type": "code",
   "execution_count": 9,
   "metadata": {},
   "outputs": [
    {
     "name": "stdout",
     "output_type": "stream",
     "text": [
      "a\tB\tc\tD\te\tF\tg\tH\ti\tJ\tk\tL\tm\tN\to\tP\tq\tR\ts\tT\tu\tV\tw\tX\ty\tZ\t"
     ]
    }
   ],
   "source": [
    "# Your answer here\n",
    "for i in range(len(s)):\n",
    "    c = s[i]\n",
    "    if i % 2 == 1:\n",
    "        print(c.upper(), end=\"\\t\")\n",
    "    else:\n",
    "        print(c, end=\"\\t\")"
   ]
  },
  {
   "cell_type": "markdown",
   "metadata": {},
   "source": [
    "5\\. Write a <b>for</b> loop that prints \"NAME is SEX and aged AGE.\" for each tuple in `employees`, separated by a new line, where NAME is the first value in each tuple, SEX the second, and AGE the third. For example, the first line in the output must look as follows:"
   ]
  },
  {
   "cell_type": "raw",
   "metadata": {},
   "source": [
    "Alice is female and aged 30."
   ]
  },
  {
   "cell_type": "code",
   "execution_count": 10,
   "metadata": {},
   "outputs": [],
   "source": [
    "employees = [(\"Alice\", 30, \"female\"), (\"Bob\", 25, \"male\"), (\"Tom\", 34, \"male\")]"
   ]
  },
  {
   "cell_type": "code",
   "execution_count": 11,
   "metadata": {},
   "outputs": [
    {
     "name": "stdout",
     "output_type": "stream",
     "text": [
      "Alice is female and aged 30.\n",
      "Bob is male and aged 25.\n",
      "Tom is male and aged 34.\n"
     ]
    }
   ],
   "source": [
    "# Your answer here\n",
    "for name, age, sex in employees:\n",
    "    print(\"{} is {} and aged {}.\".format(name, sex, age))"
   ]
  },
  {
   "cell_type": "markdown",
   "metadata": {},
   "source": [
    "6\\. Write a <b>for</b> loop that prints \"ABBREVIATION is the abbreviation for FULLNAME.\" for each key-value pair in the dictionary `states`, separated by a new line, where ABBREVIATION is the key in `states` and FULLNAME the value. For example, the first line in the output must look as follows:"
   ]
  },
  {
   "cell_type": "raw",
   "metadata": {},
   "source": [
    "IA is the abbreviation for Iowa."
   ]
  },
  {
   "cell_type": "code",
   "execution_count": 12,
   "metadata": {},
   "outputs": [],
   "source": [
    "states = {\"IA\": \"Iowa\", \"IL\": \"Illinois\", \"MN\": \"Minnesota\", \"NE\": \"Nebraska\", \"WI\": \"Wisconsin\"}"
   ]
  },
  {
   "cell_type": "code",
   "execution_count": 13,
   "metadata": {},
   "outputs": [
    {
     "name": "stdout",
     "output_type": "stream",
     "text": [
      "IA is the abbreviation for Iowa.\n",
      "IL is the abbreviation for Illinois.\n",
      "MN is the abbreviation for Minnesota.\n",
      "NE is the abbreviation for Nebraska.\n",
      "WI is the abbreviation for Wisconsin.\n"
     ]
    }
   ],
   "source": [
    "# Your answer here\n",
    "for key in states:\n",
    "    val = states[key]\n",
    "    print(\"{} is the abbreviation for {}.\".format(key, val))"
   ]
  },
  {
   "cell_type": "markdown",
   "metadata": {},
   "source": [
    "7\\. Write a <b>for</b> loop that prints all names in the list `names` in uppercase, separated by a new line."
   ]
  },
  {
   "cell_type": "code",
   "execution_count": 14,
   "metadata": {},
   "outputs": [],
   "source": [
    "names = [\"Alice\", \"Bob\", \"Mary\", \"Sam\", \"Sarah\", \"Tom\"]"
   ]
  },
  {
   "cell_type": "code",
   "execution_count": 15,
   "metadata": {},
   "outputs": [
    {
     "name": "stdout",
     "output_type": "stream",
     "text": [
      "ALICE\n",
      "BOB\n",
      "MARY\n",
      "SAM\n",
      "SARAH\n",
      "TOM\n"
     ]
    }
   ],
   "source": [
    "# Your answer here\n",
    "for name in names:\n",
    "    print(name.upper())"
   ]
  },
  {
   "cell_type": "markdown",
   "metadata": {},
   "source": [
    "8\\. Write a <b>for</b> loop that prints the first two characters of each name in `names` in lowercase, separated by a new line."
   ]
  },
  {
   "cell_type": "code",
   "execution_count": 16,
   "metadata": {
    "scrolled": true
   },
   "outputs": [
    {
     "name": "stdout",
     "output_type": "stream",
     "text": [
      "al\n",
      "bo\n",
      "ma\n",
      "sa\n",
      "sa\n",
      "to\n"
     ]
    }
   ],
   "source": [
    "# Your answer here\n",
    "for name in names:\n",
    "    print(name.lower()[:2])     # Or item[:2].lower()"
   ]
  },
  {
   "cell_type": "markdown",
   "metadata": {},
   "source": [
    "9\\. Write a <b>for</b> loop that prints only the names in `names` that are three letters long, separated by a new line."
   ]
  },
  {
   "cell_type": "code",
   "execution_count": 17,
   "metadata": {
    "scrolled": true
   },
   "outputs": [
    {
     "name": "stdout",
     "output_type": "stream",
     "text": [
      "Bob\n",
      "Sam\n",
      "Tom\n"
     ]
    }
   ],
   "source": [
    "# Your answer here\n",
    "for name in names:\n",
    "    if len(name) == 3:\n",
    "        print(name)"
   ]
  },
  {
   "cell_type": "markdown",
   "metadata": {},
   "source": [
    "10\\. Write a <b>for</b> loop that prints only the names in `names` that end with either \"*m*\" or \"*y*\", separated by a new line."
   ]
  },
  {
   "cell_type": "code",
   "execution_count": 18,
   "metadata": {
    "scrolled": true
   },
   "outputs": [
    {
     "name": "stdout",
     "output_type": "stream",
     "text": [
      "Mary\n",
      "Sam\n",
      "Tom\n"
     ]
    }
   ],
   "source": [
    "# Your answer here\n",
    "for name in names:\n",
    "    if (name.endswith(\"m\") | (name.endswith(\"y\"))):\n",
    "        print(name)"
   ]
  },
  {
   "cell_type": "code",
   "execution_count": 19,
   "metadata": {},
   "outputs": [
    {
     "name": "stdout",
     "output_type": "stream",
     "text": [
      "Mary\n",
      "Sam\n",
      "Tom\n"
     ]
    }
   ],
   "source": [
    "# Alternatively\n",
    "for name in names:\n",
    "    if (name[-1] == \"m\") | (name[-1] == \"y\"):\n",
    "        print(name)"
   ]
  },
  {
   "cell_type": "markdown",
   "metadata": {},
   "source": [
    "11\\. Write a nested <b>for</b> loop that prints \"NAME1 & NAME2\", where NAME1 and NAME2 are any elements in `men` and `women`, respectively. Each pair of names is printed separated by a new line. For example, the first 4 and last 4 lines in the output must look as follows:"
   ]
  },
  {
   "cell_type": "raw",
   "metadata": {},
   "source": [
    "Bob & Alice\n",
    "Bob & Mary\n",
    "Bob & Sarah"
   ]
  },
  {
   "cell_type": "raw",
   "metadata": {},
   "source": [
    "Tom & Alice\n",
    "Tom & Mary\n",
    "Tom & Sarah"
   ]
  },
  {
   "cell_type": "code",
   "execution_count": 20,
   "metadata": {},
   "outputs": [],
   "source": [
    "men = [\"Bob\", \"Sam\", \"Tom\"]\n",
    "women = [\"Alice\", \"Mary\", \"Sarah\"]"
   ]
  },
  {
   "cell_type": "code",
   "execution_count": 21,
   "metadata": {},
   "outputs": [
    {
     "name": "stdout",
     "output_type": "stream",
     "text": [
      "Bob & Alice\n",
      "Bob & Mary\n",
      "Bob & Sarah\n",
      "Sam & Alice\n",
      "Sam & Mary\n",
      "Sam & Sarah\n",
      "Tom & Alice\n",
      "Tom & Mary\n",
      "Tom & Sarah\n"
     ]
    }
   ],
   "source": [
    "# Your answer here\n",
    "for name1 in men:\n",
    "    for name2 in women:\n",
    "        print(\"{} & {}\".format(name1, name2))     # Alternatively, print(name1 + \" & \" + name2)"
   ]
  },
  {
   "cell_type": "markdown",
   "metadata": {},
   "source": [
    "12\\. Write a <b>for</b> loop using the <b>zip</b> function that prints \"NAME1 & NAME2\", where NAME1 and NAME2 are the elements in `men` and `women`, respectively, that are at the same position. Each pair of names is printed separated by a new line. It must be printed as follows:"
   ]
  },
  {
   "cell_type": "raw",
   "metadata": {},
   "source": [
    "Bob & Alice\n",
    "Sam & Mary\n",
    "Tom & Sarah"
   ]
  },
  {
   "cell_type": "code",
   "execution_count": 22,
   "metadata": {},
   "outputs": [
    {
     "name": "stdout",
     "output_type": "stream",
     "text": [
      "Bob & Alice\n",
      "Sam & Mary\n",
      "Tom & Sarah\n"
     ]
    }
   ],
   "source": [
    "# Your answer here\n",
    "for name1, name2 in zip(men, women):\n",
    "    print(\"{} & {}\".format(name1, name2))"
   ]
  },
  {
   "cell_type": "markdown",
   "metadata": {},
   "source": [
    "13\\. The variable `l` has all odd numbers from 1 to 999. Write a <b>for</b> loop that adds all numbers in `l` one after another. Print the final sum after the <b>for</b> loop."
   ]
  },
  {
   "cell_type": "code",
   "execution_count": 23,
   "metadata": {},
   "outputs": [],
   "source": [
    "l = range(1, 1000, 2)"
   ]
  },
  {
   "cell_type": "code",
   "execution_count": 24,
   "metadata": {},
   "outputs": [
    {
     "name": "stdout",
     "output_type": "stream",
     "text": [
      "250000\n"
     ]
    }
   ],
   "source": [
    "# Your answer here\n",
    "sum1 = 0\n",
    "\n",
    "for num in l:\n",
    "    sum1 += num\n",
    "\n",
    "print(sum1)"
   ]
  },
  {
   "cell_type": "markdown",
   "metadata": {},
   "source": [
    "14\\. Check if the result from the <b>for</b> loop matches the result from the built-in <b>sum</b> function. The outcome must be either True or False. "
   ]
  },
  {
   "cell_type": "code",
   "execution_count": 25,
   "metadata": {},
   "outputs": [
    {
     "data": {
      "text/plain": [
       "True"
      ]
     },
     "execution_count": 25,
     "metadata": {},
     "output_type": "execute_result"
    }
   ],
   "source": [
    "# Your answer here\n",
    "sum1 == sum(l)"
   ]
  },
  {
   "cell_type": "markdown",
   "metadata": {},
   "source": [
    "15\\. Write a <b>for</b> loop that adds all numbers in `l` one after another, printing the intermediate sum for every iteration along with its index position. Print the final sum after the <b>for</b> loop. The first and last 5 lines in the output must look as follows:"
   ]
  },
  {
   "cell_type": "raw",
   "metadata": {},
   "source": [
    "[0] 1\n",
    "[1] 4\n",
    "[2] 9\n",
    "[3] 16\n",
    "[4] 25"
   ]
  },
  {
   "cell_type": "raw",
   "metadata": {},
   "source": [
    "[496] 247009\n",
    "[497] 248004\n",
    "[498] 249001\n",
    "[499] 250000\n",
    "250000"
   ]
  },
  {
   "cell_type": "code",
   "execution_count": 26,
   "metadata": {},
   "outputs": [
    {
     "name": "stdout",
     "output_type": "stream",
     "text": [
      "[0] 1\n",
      "[1] 4\n",
      "[2] 9\n",
      "[3] 16\n",
      "[4] 25\n",
      "[5] 36\n",
      "[6] 49\n",
      "[7] 64\n",
      "[8] 81\n",
      "[9] 100\n",
      "[10] 121\n",
      "[11] 144\n",
      "[12] 169\n",
      "[13] 196\n",
      "[14] 225\n",
      "[15] 256\n",
      "[16] 289\n",
      "[17] 324\n",
      "[18] 361\n",
      "[19] 400\n",
      "[20] 441\n",
      "[21] 484\n",
      "[22] 529\n",
      "[23] 576\n",
      "[24] 625\n",
      "[25] 676\n",
      "[26] 729\n",
      "[27] 784\n",
      "[28] 841\n",
      "[29] 900\n",
      "[30] 961\n",
      "[31] 1024\n",
      "[32] 1089\n",
      "[33] 1156\n",
      "[34] 1225\n",
      "[35] 1296\n",
      "[36] 1369\n",
      "[37] 1444\n",
      "[38] 1521\n",
      "[39] 1600\n",
      "[40] 1681\n",
      "[41] 1764\n",
      "[42] 1849\n",
      "[43] 1936\n",
      "[44] 2025\n",
      "[45] 2116\n",
      "[46] 2209\n",
      "[47] 2304\n",
      "[48] 2401\n",
      "[49] 2500\n",
      "[50] 2601\n",
      "[51] 2704\n",
      "[52] 2809\n",
      "[53] 2916\n",
      "[54] 3025\n",
      "[55] 3136\n",
      "[56] 3249\n",
      "[57] 3364\n",
      "[58] 3481\n",
      "[59] 3600\n",
      "[60] 3721\n",
      "[61] 3844\n",
      "[62] 3969\n",
      "[63] 4096\n",
      "[64] 4225\n",
      "[65] 4356\n",
      "[66] 4489\n",
      "[67] 4624\n",
      "[68] 4761\n",
      "[69] 4900\n",
      "[70] 5041\n",
      "[71] 5184\n",
      "[72] 5329\n",
      "[73] 5476\n",
      "[74] 5625\n",
      "[75] 5776\n",
      "[76] 5929\n",
      "[77] 6084\n",
      "[78] 6241\n",
      "[79] 6400\n",
      "[80] 6561\n",
      "[81] 6724\n",
      "[82] 6889\n",
      "[83] 7056\n",
      "[84] 7225\n",
      "[85] 7396\n",
      "[86] 7569\n",
      "[87] 7744\n",
      "[88] 7921\n",
      "[89] 8100\n",
      "[90] 8281\n",
      "[91] 8464\n",
      "[92] 8649\n",
      "[93] 8836\n",
      "[94] 9025\n",
      "[95] 9216\n",
      "[96] 9409\n",
      "[97] 9604\n",
      "[98] 9801\n",
      "[99] 10000\n",
      "[100] 10201\n",
      "[101] 10404\n",
      "[102] 10609\n",
      "[103] 10816\n",
      "[104] 11025\n",
      "[105] 11236\n",
      "[106] 11449\n",
      "[107] 11664\n",
      "[108] 11881\n",
      "[109] 12100\n",
      "[110] 12321\n",
      "[111] 12544\n",
      "[112] 12769\n",
      "[113] 12996\n",
      "[114] 13225\n",
      "[115] 13456\n",
      "[116] 13689\n",
      "[117] 13924\n",
      "[118] 14161\n",
      "[119] 14400\n",
      "[120] 14641\n",
      "[121] 14884\n",
      "[122] 15129\n",
      "[123] 15376\n",
      "[124] 15625\n",
      "[125] 15876\n",
      "[126] 16129\n",
      "[127] 16384\n",
      "[128] 16641\n",
      "[129] 16900\n",
      "[130] 17161\n",
      "[131] 17424\n",
      "[132] 17689\n",
      "[133] 17956\n",
      "[134] 18225\n",
      "[135] 18496\n",
      "[136] 18769\n",
      "[137] 19044\n",
      "[138] 19321\n",
      "[139] 19600\n",
      "[140] 19881\n",
      "[141] 20164\n",
      "[142] 20449\n",
      "[143] 20736\n",
      "[144] 21025\n",
      "[145] 21316\n",
      "[146] 21609\n",
      "[147] 21904\n",
      "[148] 22201\n",
      "[149] 22500\n",
      "[150] 22801\n",
      "[151] 23104\n",
      "[152] 23409\n",
      "[153] 23716\n",
      "[154] 24025\n",
      "[155] 24336\n",
      "[156] 24649\n",
      "[157] 24964\n",
      "[158] 25281\n",
      "[159] 25600\n",
      "[160] 25921\n",
      "[161] 26244\n",
      "[162] 26569\n",
      "[163] 26896\n",
      "[164] 27225\n",
      "[165] 27556\n",
      "[166] 27889\n",
      "[167] 28224\n",
      "[168] 28561\n",
      "[169] 28900\n",
      "[170] 29241\n",
      "[171] 29584\n",
      "[172] 29929\n",
      "[173] 30276\n",
      "[174] 30625\n",
      "[175] 30976\n",
      "[176] 31329\n",
      "[177] 31684\n",
      "[178] 32041\n",
      "[179] 32400\n",
      "[180] 32761\n",
      "[181] 33124\n",
      "[182] 33489\n",
      "[183] 33856\n",
      "[184] 34225\n",
      "[185] 34596\n",
      "[186] 34969\n",
      "[187] 35344\n",
      "[188] 35721\n",
      "[189] 36100\n",
      "[190] 36481\n",
      "[191] 36864\n",
      "[192] 37249\n",
      "[193] 37636\n",
      "[194] 38025\n",
      "[195] 38416\n",
      "[196] 38809\n",
      "[197] 39204\n",
      "[198] 39601\n",
      "[199] 40000\n",
      "[200] 40401\n",
      "[201] 40804\n",
      "[202] 41209\n",
      "[203] 41616\n",
      "[204] 42025\n",
      "[205] 42436\n",
      "[206] 42849\n",
      "[207] 43264\n",
      "[208] 43681\n",
      "[209] 44100\n",
      "[210] 44521\n",
      "[211] 44944\n",
      "[212] 45369\n",
      "[213] 45796\n",
      "[214] 46225\n",
      "[215] 46656\n",
      "[216] 47089\n",
      "[217] 47524\n",
      "[218] 47961\n",
      "[219] 48400\n",
      "[220] 48841\n",
      "[221] 49284\n",
      "[222] 49729\n",
      "[223] 50176\n",
      "[224] 50625\n",
      "[225] 51076\n",
      "[226] 51529\n",
      "[227] 51984\n",
      "[228] 52441\n",
      "[229] 52900\n",
      "[230] 53361\n",
      "[231] 53824\n",
      "[232] 54289\n",
      "[233] 54756\n",
      "[234] 55225\n",
      "[235] 55696\n",
      "[236] 56169\n",
      "[237] 56644\n",
      "[238] 57121\n",
      "[239] 57600\n",
      "[240] 58081\n",
      "[241] 58564\n",
      "[242] 59049\n",
      "[243] 59536\n",
      "[244] 60025\n",
      "[245] 60516\n",
      "[246] 61009\n",
      "[247] 61504\n",
      "[248] 62001\n",
      "[249] 62500\n",
      "[250] 63001\n",
      "[251] 63504\n",
      "[252] 64009\n",
      "[253] 64516\n",
      "[254] 65025\n",
      "[255] 65536\n",
      "[256] 66049\n",
      "[257] 66564\n",
      "[258] 67081\n",
      "[259] 67600\n",
      "[260] 68121\n",
      "[261] 68644\n",
      "[262] 69169\n",
      "[263] 69696\n",
      "[264] 70225\n",
      "[265] 70756\n",
      "[266] 71289\n",
      "[267] 71824\n",
      "[268] 72361\n",
      "[269] 72900\n",
      "[270] 73441\n",
      "[271] 73984\n",
      "[272] 74529\n",
      "[273] 75076\n",
      "[274] 75625\n",
      "[275] 76176\n",
      "[276] 76729\n",
      "[277] 77284\n",
      "[278] 77841\n",
      "[279] 78400\n",
      "[280] 78961\n",
      "[281] 79524\n",
      "[282] 80089\n",
      "[283] 80656\n",
      "[284] 81225\n",
      "[285] 81796\n",
      "[286] 82369\n",
      "[287] 82944\n",
      "[288] 83521\n",
      "[289] 84100\n",
      "[290] 84681\n",
      "[291] 85264\n",
      "[292] 85849\n",
      "[293] 86436\n",
      "[294] 87025\n",
      "[295] 87616\n",
      "[296] 88209\n",
      "[297] 88804\n",
      "[298] 89401\n",
      "[299] 90000\n",
      "[300] 90601\n",
      "[301] 91204\n",
      "[302] 91809\n",
      "[303] 92416\n",
      "[304] 93025\n",
      "[305] 93636\n",
      "[306] 94249\n",
      "[307] 94864\n",
      "[308] 95481\n",
      "[309] 96100\n",
      "[310] 96721\n",
      "[311] 97344\n",
      "[312] 97969\n",
      "[313] 98596\n",
      "[314] 99225\n",
      "[315] 99856\n",
      "[316] 100489\n",
      "[317] 101124\n",
      "[318] 101761\n",
      "[319] 102400\n",
      "[320] 103041\n",
      "[321] 103684\n",
      "[322] 104329\n",
      "[323] 104976\n",
      "[324] 105625\n",
      "[325] 106276\n",
      "[326] 106929\n",
      "[327] 107584\n",
      "[328] 108241\n",
      "[329] 108900\n",
      "[330] 109561\n",
      "[331] 110224\n",
      "[332] 110889\n",
      "[333] 111556\n",
      "[334] 112225\n",
      "[335] 112896\n",
      "[336] 113569\n",
      "[337] 114244\n",
      "[338] 114921\n",
      "[339] 115600\n",
      "[340] 116281\n",
      "[341] 116964\n",
      "[342] 117649\n",
      "[343] 118336\n",
      "[344] 119025\n",
      "[345] 119716\n",
      "[346] 120409\n",
      "[347] 121104\n",
      "[348] 121801\n",
      "[349] 122500\n",
      "[350] 123201\n",
      "[351] 123904\n",
      "[352] 124609\n",
      "[353] 125316\n",
      "[354] 126025\n",
      "[355] 126736\n",
      "[356] 127449\n",
      "[357] 128164\n",
      "[358] 128881\n",
      "[359] 129600\n",
      "[360] 130321\n",
      "[361] 131044\n",
      "[362] 131769\n",
      "[363] 132496\n",
      "[364] 133225\n",
      "[365] 133956\n",
      "[366] 134689\n",
      "[367] 135424\n",
      "[368] 136161\n",
      "[369] 136900\n",
      "[370] 137641\n",
      "[371] 138384\n",
      "[372] 139129\n",
      "[373] 139876\n",
      "[374] 140625\n",
      "[375] 141376\n",
      "[376] 142129\n",
      "[377] 142884\n",
      "[378] 143641\n",
      "[379] 144400\n",
      "[380] 145161\n",
      "[381] 145924\n",
      "[382] 146689\n",
      "[383] 147456\n",
      "[384] 148225\n",
      "[385] 148996\n",
      "[386] 149769\n",
      "[387] 150544\n",
      "[388] 151321\n",
      "[389] 152100\n",
      "[390] 152881\n",
      "[391] 153664\n",
      "[392] 154449\n",
      "[393] 155236\n",
      "[394] 156025\n",
      "[395] 156816\n",
      "[396] 157609\n",
      "[397] 158404\n",
      "[398] 159201\n",
      "[399] 160000\n",
      "[400] 160801\n",
      "[401] 161604\n",
      "[402] 162409\n",
      "[403] 163216\n",
      "[404] 164025\n",
      "[405] 164836\n",
      "[406] 165649\n",
      "[407] 166464\n",
      "[408] 167281\n",
      "[409] 168100\n",
      "[410] 168921\n",
      "[411] 169744\n",
      "[412] 170569\n",
      "[413] 171396\n",
      "[414] 172225\n",
      "[415] 173056\n",
      "[416] 173889\n",
      "[417] 174724\n",
      "[418] 175561\n",
      "[419] 176400\n",
      "[420] 177241\n",
      "[421] 178084\n",
      "[422] 178929\n",
      "[423] 179776\n",
      "[424] 180625\n",
      "[425] 181476\n",
      "[426] 182329\n",
      "[427] 183184\n",
      "[428] 184041\n",
      "[429] 184900\n",
      "[430] 185761\n",
      "[431] 186624\n",
      "[432] 187489\n",
      "[433] 188356\n",
      "[434] 189225\n",
      "[435] 190096\n",
      "[436] 190969\n",
      "[437] 191844\n",
      "[438] 192721\n",
      "[439] 193600\n",
      "[440] 194481\n",
      "[441] 195364\n",
      "[442] 196249\n",
      "[443] 197136\n",
      "[444] 198025\n",
      "[445] 198916\n",
      "[446] 199809\n",
      "[447] 200704\n",
      "[448] 201601\n",
      "[449] 202500\n",
      "[450] 203401\n",
      "[451] 204304\n",
      "[452] 205209\n",
      "[453] 206116\n",
      "[454] 207025\n",
      "[455] 207936\n",
      "[456] 208849\n",
      "[457] 209764\n",
      "[458] 210681\n",
      "[459] 211600\n",
      "[460] 212521\n",
      "[461] 213444\n",
      "[462] 214369\n",
      "[463] 215296\n",
      "[464] 216225\n",
      "[465] 217156\n",
      "[466] 218089\n",
      "[467] 219024\n",
      "[468] 219961\n",
      "[469] 220900\n",
      "[470] 221841\n",
      "[471] 222784\n",
      "[472] 223729\n",
      "[473] 224676\n",
      "[474] 225625\n",
      "[475] 226576\n",
      "[476] 227529\n",
      "[477] 228484\n",
      "[478] 229441\n",
      "[479] 230400\n",
      "[480] 231361\n",
      "[481] 232324\n",
      "[482] 233289\n",
      "[483] 234256\n",
      "[484] 235225\n",
      "[485] 236196\n",
      "[486] 237169\n",
      "[487] 238144\n",
      "[488] 239121\n",
      "[489] 240100\n",
      "[490] 241081\n",
      "[491] 242064\n",
      "[492] 243049\n",
      "[493] 244036\n",
      "[494] 245025\n",
      "[495] 246016\n",
      "[496] 247009\n",
      "[497] 248004\n",
      "[498] 249001\n",
      "[499] 250000\n",
      "250000\n"
     ]
    }
   ],
   "source": [
    "# Your answer here\n",
    "sum1 = 0\n",
    "\n",
    "for i in range(len(l)):\n",
    "    num = l[i]\n",
    "    sum1 += num\n",
    "    print(\"[{}] {}\".format(i, sum1))\n",
    "\n",
    "print(sum1)"
   ]
  },
  {
   "cell_type": "markdown",
   "metadata": {},
   "source": [
    "16\\. Write a <b>for</b> loop that calculates the product of the first 10 numbers in `l`. Print the final product after the <b>for</b> loop."
   ]
  },
  {
   "cell_type": "code",
   "execution_count": 27,
   "metadata": {},
   "outputs": [
    {
     "name": "stdout",
     "output_type": "stream",
     "text": [
      "654729075\n"
     ]
    }
   ],
   "source": [
    "# Your answer here\n",
    "product = 1\n",
    "\n",
    "for num in l[:10]:\n",
    "    product *= num\n",
    "\n",
    "print(product)"
   ]
  },
  {
   "cell_type": "markdown",
   "metadata": {},
   "source": [
    "## Exercises for List Comprehension"
   ]
  },
  {
   "cell_type": "markdown",
   "metadata": {},
   "source": [
    "1\\. Not using and using list comprehension, create a list `l2` of squares of the numbers in `l1`."
   ]
  },
  {
   "cell_type": "code",
   "execution_count": 28,
   "metadata": {},
   "outputs": [],
   "source": [
    "l1 = [1, 2, 3, 4, 5]"
   ]
  },
  {
   "cell_type": "code",
   "execution_count": 29,
   "metadata": {},
   "outputs": [
    {
     "data": {
      "text/plain": [
       "[1, 4, 9, 16, 25]"
      ]
     },
     "execution_count": 29,
     "metadata": {},
     "output_type": "execute_result"
    }
   ],
   "source": [
    "# Your answer here NOT using list comprehension\n",
    "l2 = []\n",
    "\n",
    "for num in l1:\n",
    "    l2.append(num ** 2)\n",
    "    \n",
    "l2"
   ]
  },
  {
   "cell_type": "code",
   "execution_count": 30,
   "metadata": {},
   "outputs": [
    {
     "data": {
      "text/plain": [
       "[1, 4, 9, 16, 25]"
      ]
     },
     "execution_count": 30,
     "metadata": {},
     "output_type": "execute_result"
    }
   ],
   "source": [
    "# Your answer here USING list comprehension\n",
    "l2 = [num ** 2 for num in l1]\n",
    "l2"
   ]
  },
  {
   "cell_type": "markdown",
   "metadata": {},
   "source": [
    "2\\. Not using and using  list comprehension, create a list `l3` of lists, each of which contains the square and cube of each number in `l1`. For example, the last element in `l3` is [25, 125]."
   ]
  },
  {
   "cell_type": "code",
   "execution_count": 31,
   "metadata": {},
   "outputs": [
    {
     "data": {
      "text/plain": [
       "[[1, 1], [4, 8], [9, 27], [16, 64], [25, 125]]"
      ]
     },
     "execution_count": 31,
     "metadata": {},
     "output_type": "execute_result"
    }
   ],
   "source": [
    "# Your answer here NOT using list comprehension\n",
    "l3 = []\n",
    "\n",
    "for num in l1:\n",
    "    l3.append([num ** 2, num ** 3])\n",
    "    \n",
    "l3"
   ]
  },
  {
   "cell_type": "code",
   "execution_count": 32,
   "metadata": {},
   "outputs": [
    {
     "data": {
      "text/plain": [
       "[[1, 1], [4, 8], [9, 27], [16, 64], [25, 125]]"
      ]
     },
     "execution_count": 32,
     "metadata": {},
     "output_type": "execute_result"
    }
   ],
   "source": [
    "# Your answer here using list comprehension\n",
    "l3 = [[num ** 2, num ** 3] for num in l1]\n",
    "l3"
   ]
  },
  {
   "cell_type": "markdown",
   "metadata": {},
   "source": [
    "3\\. Using list comprehension, create a list `names2` of the names in `names` in lower case."
   ]
  },
  {
   "cell_type": "code",
   "execution_count": 33,
   "metadata": {},
   "outputs": [],
   "source": [
    "names = [\"Alice\", \"Bob\", \"Tom\"]"
   ]
  },
  {
   "cell_type": "code",
   "execution_count": 34,
   "metadata": {},
   "outputs": [
    {
     "data": {
      "text/plain": [
       "['alice', 'bob', 'tom']"
      ]
     },
     "execution_count": 34,
     "metadata": {},
     "output_type": "execute_result"
    }
   ],
   "source": [
    "# Your answer here\n",
    "names2 = [name.lower() for name in names]\n",
    "names2"
   ]
  },
  {
   "cell_type": "markdown",
   "metadata": {},
   "source": [
    "4\\. Using list comprehension, create a list `names3` of tuples, each of which contains each name in `names` and the length of the name. For example, the first element in `names` is ('Alice', 5). "
   ]
  },
  {
   "cell_type": "code",
   "execution_count": 35,
   "metadata": {},
   "outputs": [
    {
     "data": {
      "text/plain": [
       "[('Alice', 5), ('Bob', 3), ('Tom', 3)]"
      ]
     },
     "execution_count": 35,
     "metadata": {},
     "output_type": "execute_result"
    }
   ],
   "source": [
    "# Your answer here\n",
    "names3 = [(name, len(name)) for name in names]\n",
    "names3"
   ]
  },
  {
   "cell_type": "markdown",
   "metadata": {},
   "source": [
    "## Exercises for Loop Control"
   ]
  },
  {
   "cell_type": "markdown",
   "metadata": {},
   "source": [
    "1\\. Write a <b>for</b> loop that prints all names in `names` except for \"*Mary*\". (Use <b>continue</b>.)"
   ]
  },
  {
   "cell_type": "code",
   "execution_count": 36,
   "metadata": {},
   "outputs": [],
   "source": [
    "names = [\"Alice\", \"Bob\", \"Mary\", \"Sam\", \"Sarah\", \"Tom\"]"
   ]
  },
  {
   "cell_type": "code",
   "execution_count": 37,
   "metadata": {},
   "outputs": [
    {
     "name": "stdout",
     "output_type": "stream",
     "text": [
      "Alice\n",
      "Bob\n",
      "Sam\n",
      "Sarah\n",
      "Tom\n"
     ]
    }
   ],
   "source": [
    "# Your answer here\n",
    "for name in names:\n",
    "    if name == \"Mary\":\n",
    "        continue\n",
    "    print(name)"
   ]
  },
  {
   "cell_type": "markdown",
   "metadata": {},
   "source": [
    "2\\. Write a <b>for</b> loop that prints the names in `names` from the beginning but stops right after it has printed \"*Mary*\"."
   ]
  },
  {
   "cell_type": "code",
   "execution_count": 38,
   "metadata": {},
   "outputs": [
    {
     "name": "stdout",
     "output_type": "stream",
     "text": [
      "Alice\n",
      "Bob\n",
      "Mary\n"
     ]
    }
   ],
   "source": [
    "# Your answer here\n",
    "for name in names:\n",
    "    print(name)\n",
    "    \n",
    "    if name == \"Mary\":\n",
    "        break"
   ]
  },
  {
   "cell_type": "markdown",
   "metadata": {},
   "source": [
    "3\\. Write a <b>for</b> loop that adds all numbers in `l` except for multiples of 5. Print the final sum after the <b>for</b> loop. (Use <b>continue</b>.)"
   ]
  },
  {
   "cell_type": "code",
   "execution_count": 39,
   "metadata": {},
   "outputs": [],
   "source": [
    "l = range(1, 1001)"
   ]
  },
  {
   "cell_type": "code",
   "execution_count": 40,
   "metadata": {},
   "outputs": [
    {
     "data": {
      "text/plain": [
       "400000"
      ]
     },
     "execution_count": 40,
     "metadata": {},
     "output_type": "execute_result"
    }
   ],
   "source": [
    "# Your answer here\n",
    "sum1 = 0\n",
    "\n",
    "for num in l:\n",
    "    if num % 5 == 0:\n",
    "        continue\n",
    "    sum1 += num\n",
    "\n",
    "sum1"
   ]
  },
  {
   "cell_type": "markdown",
   "metadata": {},
   "source": [
    "4\\. Write a <b>for</b> loop that adds numbers in `l` from the beginning but stops when the intermediate sum exceeds 1000, printing the current sum and the number last added."
   ]
  },
  {
   "cell_type": "code",
   "execution_count": 41,
   "metadata": {},
   "outputs": [
    {
     "name": "stdout",
     "output_type": "stream",
     "text": [
      "1035 45\n"
     ]
    }
   ],
   "source": [
    "# Your answer here\n",
    "sum1 = 0\n",
    "\n",
    "for num in l:\n",
    "    sum1 += num\n",
    "    \n",
    "    if sum1 > 1000:\n",
    "        print(sum1, num)\n",
    "        break"
   ]
  },
  {
   "cell_type": "markdown",
   "metadata": {},
   "source": [
    "## Exercises for User-Defined Functions"
   ]
  },
  {
   "cell_type": "markdown",
   "metadata": {},
   "source": [
    "1\\. Write a function `concatenate` that takes two strings `s1` and `s2` as arguments and returns the concatenation of the two strings with a space between them. "
   ]
  },
  {
   "cell_type": "code",
   "execution_count": 42,
   "metadata": {},
   "outputs": [],
   "source": [
    "# Your answer here\n",
    "def concatenate(s1, s2):\n",
    "    return s1 + \" \" + s2"
   ]
  },
  {
   "cell_type": "code",
   "execution_count": 43,
   "metadata": {
    "scrolled": true
   },
   "outputs": [
    {
     "data": {
      "text/plain": [
       "'Learning Python'"
      ]
     },
     "execution_count": 43,
     "metadata": {},
     "output_type": "execute_result"
    }
   ],
   "source": [
    "# Test the function here\n",
    "concatenate(\"Learning\", \"Python\")     # Output: 'Learning Python'"
   ]
  },
  {
   "cell_type": "markdown",
   "metadata": {},
   "source": [
    "2\\. Write a function `concatenate_all` that takes a list `l` of strings as an argument and returns the concatenation of all strings in `l` with a space between them. "
   ]
  },
  {
   "cell_type": "code",
   "execution_count": 44,
   "metadata": {},
   "outputs": [],
   "source": [
    "# Your answer here\n",
    "def concatenate_all(l):\n",
    "    return \" \".join(l)"
   ]
  },
  {
   "cell_type": "code",
   "execution_count": 45,
   "metadata": {},
   "outputs": [
    {
     "data": {
      "text/plain": [
       "'Python R SAS SPSS Matlab Stata'"
      ]
     },
     "execution_count": 45,
     "metadata": {},
     "output_type": "execute_result"
    }
   ],
   "source": [
    "# Test the function here\n",
    "concatenate_all([\"Python\", \"R\", \"SAS\", \"SPSS\", \"Matlab\", \"Stata\"])     # Output: 'Python R SAS SPSS Matlab Stata'"
   ]
  },
  {
   "cell_type": "markdown",
   "metadata": {},
   "source": [
    "3\\. Write a function `get_min` that takes two numbers `num1` and `num2` as arguments and returns the less value. If the two numbers are equal, it returns either value. "
   ]
  },
  {
   "cell_type": "code",
   "execution_count": 46,
   "metadata": {},
   "outputs": [],
   "source": [
    "# Your answer here\n",
    "def get_min(num1, num2):\n",
    "    if num1 < num2:\n",
    "        return num1\n",
    "    else:\n",
    "        return num2"
   ]
  },
  {
   "cell_type": "code",
   "execution_count": 47,
   "metadata": {},
   "outputs": [
    {
     "data": {
      "text/plain": [
       "3"
      ]
     },
     "execution_count": 47,
     "metadata": {},
     "output_type": "execute_result"
    }
   ],
   "source": [
    "# Test the function here\n",
    "get_min(3, 5)     # Output: 3"
   ]
  },
  {
   "cell_type": "code",
   "execution_count": 48,
   "metadata": {},
   "outputs": [
    {
     "data": {
      "text/plain": [
       "3"
      ]
     },
     "execution_count": 48,
     "metadata": {},
     "output_type": "execute_result"
    }
   ],
   "source": [
    "# Test the function here\n",
    "get_min(3, 3)     # Output: 3"
   ]
  },
  {
   "cell_type": "markdown",
   "metadata": {},
   "source": [
    "4\\. Write a function `get_min_all` that takes a list `l` of numbers as an argument and returns the least value in `l`. If the two numbers are equal, it returns either value. "
   ]
  },
  {
   "cell_type": "code",
   "execution_count": 49,
   "metadata": {},
   "outputs": [],
   "source": [
    "# Your answer here\n",
    "def get_min_all(l):\n",
    "    return min(l)"
   ]
  },
  {
   "cell_type": "code",
   "execution_count": 50,
   "metadata": {},
   "outputs": [
    {
     "data": {
      "text/plain": [
       "2"
      ]
     },
     "execution_count": 50,
     "metadata": {},
     "output_type": "execute_result"
    }
   ],
   "source": [
    "# Test the function here\n",
    "get_min_all([3, 2, 9, 6, 2, 7])     # Output: 2"
   ]
  },
  {
   "cell_type": "markdown",
   "metadata": {},
   "source": [
    "5\\. Write a function `get_abs_min_all` that takes a list `l` of numbers as an argument and returns the least absolute value in `l`. If the two numbers are equal, it returns either value. "
   ]
  },
  {
   "cell_type": "code",
   "execution_count": 51,
   "metadata": {},
   "outputs": [],
   "source": [
    "# Your answer here\n",
    "def get_abs_min_all(l):\n",
    "    l_tmp = [abs(num) for num in l]\n",
    "    \n",
    "    return min(l_tmp)"
   ]
  },
  {
   "cell_type": "code",
   "execution_count": 52,
   "metadata": {},
   "outputs": [
    {
     "data": {
      "text/plain": [
       "2"
      ]
     },
     "execution_count": 52,
     "metadata": {},
     "output_type": "execute_result"
    }
   ],
   "source": [
    "# Test the function here\n",
    "get_abs_min_all([-3, 5, -9, -6, -2, 7])     # Output: 2"
   ]
  },
  {
   "cell_type": "markdown",
   "metadata": {},
   "source": [
    "6\\. Write a function `get_head_tail` that takes a list `l` as an argument and returns the first and last elements in `l`. If `l` has less than 2 elements, it returns \"*The input list is too short!*\". "
   ]
  },
  {
   "cell_type": "code",
   "execution_count": 53,
   "metadata": {},
   "outputs": [],
   "source": [
    "# Your answer here\n",
    "def get_head_tail(l):\n",
    "    if len(l) < 2:\n",
    "        return \"The input list is too short!\"\n",
    "    \n",
    "    return l[0], l[-1]"
   ]
  },
  {
   "cell_type": "code",
   "execution_count": 54,
   "metadata": {
    "scrolled": true
   },
   "outputs": [
    {
     "data": {
      "text/plain": [
       "('Python', 'Stata')"
      ]
     },
     "execution_count": 54,
     "metadata": {},
     "output_type": "execute_result"
    }
   ],
   "source": [
    "# Test the function here\n",
    "get_head_tail([\"Python\", \"R\", \"SAS\", \"SPSS\", \"Matlab\", \"Stata\"]) # Output: ('Python', 'Stata')."
   ]
  },
  {
   "cell_type": "code",
   "execution_count": 55,
   "metadata": {
    "scrolled": true
   },
   "outputs": [
    {
     "data": {
      "text/plain": [
       "'The input list is too short!'"
      ]
     },
     "execution_count": 55,
     "metadata": {},
     "output_type": "execute_result"
    }
   ],
   "source": [
    "# Test the function here\n",
    "get_head_tail([\"Python\"])                                        # Output: 'The input list is too short!'."
   ]
  },
  {
   "cell_type": "markdown",
   "metadata": {},
   "source": [
    "## Advanced Exercises"
   ]
  },
  {
   "cell_type": "markdown",
   "metadata": {},
   "source": [
    "7\\. Write a function `highlight` that takes two strings `s` and `subs` as arguments and returns a new copy of `s` with its substring `subs` highlighted in upper case. If `s` does not contain `subs`, it returns \"*No substring!*\". "
   ]
  },
  {
   "cell_type": "code",
   "execution_count": 56,
   "metadata": {},
   "outputs": [],
   "source": [
    "# Your answer here\n",
    "def highlight(s, subs):\n",
    "    if subs not in s:\n",
    "        return \"No substring!\"\n",
    "    \n",
    "    return s.replace(subs, subs.upper())"
   ]
  },
  {
   "cell_type": "code",
   "execution_count": 57,
   "metadata": {
    "scrolled": true
   },
   "outputs": [
    {
     "data": {
      "text/plain": [
       "\"I'm learning PYTHON data analytics.\""
      ]
     },
     "execution_count": 57,
     "metadata": {},
     "output_type": "execute_result"
    }
   ],
   "source": [
    "# Test the function here\n",
    "highlight(\"I'm learning Python data analytics.\", \"Python\")       # Output: \"I'm learning PYTHON data analytics.\""
   ]
  },
  {
   "cell_type": "code",
   "execution_count": 58,
   "metadata": {},
   "outputs": [
    {
     "data": {
      "text/plain": [
       "'No substring!'"
      ]
     },
     "execution_count": 58,
     "metadata": {},
     "output_type": "execute_result"
    }
   ],
   "source": [
    "# Test the function here\n",
    "highlight(\"I'm learning Python data analytics.\", \"SAS\")          # Output: 'No substring!'."
   ]
  },
  {
   "cell_type": "markdown",
   "metadata": {},
   "source": [
    "8\\. Write a function *trim_message* that takes a string `message` and two integers `start` and `end` as arguments and returns the substring of `message` that starts at the index position `start` and ends at the index position `end` - 1."
   ]
  },
  {
   "cell_type": "code",
   "execution_count": 59,
   "metadata": {},
   "outputs": [],
   "source": [
    "# Your answer here\n",
    "def trim_message(message, start, end):\n",
    "    return message[start:end]"
   ]
  },
  {
   "cell_type": "code",
   "execution_count": 60,
   "metadata": {
    "scrolled": true
   },
   "outputs": [
    {
     "data": {
      "text/plain": [
       "'Python'"
      ]
     },
     "execution_count": 60,
     "metadata": {},
     "output_type": "execute_result"
    }
   ],
   "source": [
    "# Test the function here\n",
    "trim_message(\"I'm learning Python data analytics.\", 13, 19)      # Output: 'Python'"
   ]
  },
  {
   "cell_type": "markdown",
   "metadata": {},
   "source": [
    "9\\. Write a function `trim_message2` that works the same as `trim_message` above. In addition, check inside the function if a) the type of `message` is <b>str</b> and b) the types of `start` and `end` are <b>int</b>. If any of those evaluates to false, return \"*Invalid parameter type!*\". Check also if a) `start` is greater than or equal to 0, b) `start` is less than `end`, and c) `end` is less than or equal to the length of `message`. If any of those evaluates to false, return \"*Invalid parameter value!*\"."
   ]
  },
  {
   "cell_type": "code",
   "execution_count": 61,
   "metadata": {},
   "outputs": [],
   "source": [
    "# Your answer here\n",
    "def trim_message2(message, start, end):\n",
    "    if (type(message) != str) | (type(start) != int) | (type(end) != int):\n",
    "        return \"Invalid parameter type!\"\n",
    "    \n",
    "    if (start < 0) | (start >= end) | (end > len(message)):\n",
    "        return \"Invalid parameter value!\"\n",
    "    \n",
    "    return message[start:end]"
   ]
  },
  {
   "cell_type": "code",
   "execution_count": 62,
   "metadata": {},
   "outputs": [
    {
     "data": {
      "text/plain": [
       "'Python'"
      ]
     },
     "execution_count": 62,
     "metadata": {},
     "output_type": "execute_result"
    }
   ],
   "source": [
    "# Test the function here\n",
    "trim_message2(\"I'm learning Python data analytics.\", 13, 19)     # Output: 'Python'    "
   ]
  },
  {
   "cell_type": "code",
   "execution_count": 63,
   "metadata": {},
   "outputs": [
    {
     "data": {
      "text/plain": [
       "'Invalid parameter type!'"
      ]
     },
     "execution_count": 63,
     "metadata": {},
     "output_type": "execute_result"
    }
   ],
   "source": [
    "# Test the function here\n",
    "trim_message2(10000, 13, 19)                                     # Output: 'Invalid parameter type!'"
   ]
  },
  {
   "cell_type": "code",
   "execution_count": 64,
   "metadata": {
    "scrolled": true
   },
   "outputs": [
    {
     "data": {
      "text/plain": [
       "'Invalid parameter value!'"
      ]
     },
     "execution_count": 64,
     "metadata": {},
     "output_type": "execute_result"
    }
   ],
   "source": [
    "# Test the function here\n",
    "trim_message2(\"I'm learning Python data analytics.\", -1, 19)     # Output: 'Invalid parameter value!'"
   ]
  },
  {
   "cell_type": "code",
   "execution_count": 65,
   "metadata": {},
   "outputs": [
    {
     "data": {
      "text/plain": [
       "'Invalid parameter value!'"
      ]
     },
     "execution_count": 65,
     "metadata": {},
     "output_type": "execute_result"
    }
   ],
   "source": [
    "# Test the function here\n",
    "trim_message2(\"I'm learning Python data analytics.\", 13, 10)     # Output: 'Invalid parameter value!'"
   ]
  },
  {
   "cell_type": "code",
   "execution_count": 66,
   "metadata": {},
   "outputs": [
    {
     "data": {
      "text/plain": [
       "'Invalid parameter value!'"
      ]
     },
     "execution_count": 66,
     "metadata": {},
     "output_type": "execute_result"
    }
   ],
   "source": [
    "# Test the function here\n",
    "trim_message2(\"I'm learning Python data analytics.\", 13, 100)    # Output: 'Invalid parameter value!'"
   ]
  },
  {
   "cell_type": "markdown",
   "metadata": {},
   "source": [
    "10\\. Create a dictionary `kwargs` that sets the parameter values of `message`, `start`, and `end` on your own and then call the function `trim_message2` by passing `kwargs`."
   ]
  },
  {
   "cell_type": "code",
   "execution_count": 67,
   "metadata": {},
   "outputs": [],
   "source": [
    "# Your answer here\n",
    "kwargs = {\"message\": \"I'm learning Python data analytics.\", \"start\": 13, \"end\": 19}"
   ]
  },
  {
   "cell_type": "code",
   "execution_count": 68,
   "metadata": {},
   "outputs": [
    {
     "data": {
      "text/plain": [
       "'Python'"
      ]
     },
     "execution_count": 68,
     "metadata": {},
     "output_type": "execute_result"
    }
   ],
   "source": [
    "# Test the function here\n",
    "trim_message2(**kwargs)"
   ]
  }
 ],
 "metadata": {
  "kernelspec": {
   "display_name": "Python 3 (ipykernel)",
   "language": "python",
   "name": "python3"
  },
  "language_info": {
   "codemirror_mode": {
    "name": "ipython",
    "version": 3
   },
   "file_extension": ".py",
   "mimetype": "text/x-python",
   "name": "python",
   "nbconvert_exporter": "python",
   "pygments_lexer": "ipython3",
   "version": "3.12.6"
  }
 },
 "nbformat": 4,
 "nbformat_minor": 4
}
