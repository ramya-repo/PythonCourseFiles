{
 "cells": [
  {
   "cell_type": "code",
   "execution_count": 5,
   "metadata": {},
   "outputs": [],
   "source": [
    "# Run this cell first! If you get any errors, uncomment the code in the next cell, then restart the kernel and try to run this cell again.\n",
    "import otter\n",
    "grader = otter.Notebook(\"Module3_Python_Basics_Part2_In-Class_Exercises.ipynb\")"
   ]
  },
  {
   "cell_type": "code",
   "execution_count": 4,
   "metadata": {},
   "outputs": [
    {
     "name": "stdout",
     "output_type": "stream",
     "text": [
      "Defaulting to user installation because normal site-packages is not writeable\n",
      "Requirement already satisfied: numpy in c:\\users\\ramachandranr\\appdata\\roaming\\python\\python312\\site-packages (2.1.1)\n",
      "Requirement already satisfied: pandas in c:\\users\\ramachandranr\\appdata\\roaming\\python\\python312\\site-packages (2.2.2)\n",
      "Collecting numexpr\n",
      "  Downloading numexpr-2.10.1-cp312-cp312-win_amd64.whl.metadata (1.3 kB)\n",
      "Collecting pyarrow\n",
      "  Downloading pyarrow-17.0.0-cp312-cp312-win_amd64.whl.metadata (3.4 kB)\n",
      "Collecting bottleneck\n",
      "  Downloading Bottleneck-1.4.0-cp312-cp312-win_amd64.whl.metadata (8.1 kB)\n",
      "Requirement already satisfied: python-dateutil>=2.8.2 in c:\\users\\ramachandranr\\appdata\\roaming\\python\\python312\\site-packages (from pandas) (2.9.0.post0)\n",
      "Requirement already satisfied: pytz>=2020.1 in c:\\users\\ramachandranr\\appdata\\roaming\\python\\python312\\site-packages (from pandas) (2024.2)\n",
      "Requirement already satisfied: tzdata>=2022.7 in c:\\users\\ramachandranr\\appdata\\roaming\\python\\python312\\site-packages (from pandas) (2024.1)\n",
      "Requirement already satisfied: six>=1.5 in c:\\users\\ramachandranr\\appdata\\roaming\\python\\python312\\site-packages (from python-dateutil>=2.8.2->pandas) (1.16.0)\n",
      "Downloading numexpr-2.10.1-cp312-cp312-win_amd64.whl (141 kB)\n",
      "Downloading pyarrow-17.0.0-cp312-cp312-win_amd64.whl (25.1 MB)\n",
      "   ---------------------------------------- 0.0/25.1 MB ? eta -:--:--\n",
      "   ---------------------------------------- 0.3/25.1 MB ? eta -:--:--\n",
      "   - -------------------------------------- 0.8/25.1 MB 2.6 MB/s eta 0:00:10\n",
      "   -- ------------------------------------- 1.6/25.1 MB 2.9 MB/s eta 0:00:09\n",
      "   --- ------------------------------------ 2.4/25.1 MB 3.1 MB/s eta 0:00:08\n",
      "   ----- ---------------------------------- 3.1/25.1 MB 3.1 MB/s eta 0:00:08\n",
      "   ----- ---------------------------------- 3.7/25.1 MB 3.2 MB/s eta 0:00:07\n",
      "   ------- -------------------------------- 4.5/25.1 MB 3.2 MB/s eta 0:00:07\n",
      "   -------- ------------------------------- 5.2/25.1 MB 3.3 MB/s eta 0:00:07\n",
      "   --------- ------------------------------ 6.0/25.1 MB 3.3 MB/s eta 0:00:06\n",
      "   ---------- ----------------------------- 6.8/25.1 MB 3.3 MB/s eta 0:00:06\n",
      "   ------------ --------------------------- 7.6/25.1 MB 3.4 MB/s eta 0:00:06\n",
      "   ------------- -------------------------- 8.4/25.1 MB 3.4 MB/s eta 0:00:05\n",
      "   -------------- ------------------------- 8.9/25.1 MB 3.4 MB/s eta 0:00:05\n",
      "   --------------- ------------------------ 9.7/25.1 MB 3.3 MB/s eta 0:00:05\n",
      "   ---------------- ----------------------- 10.2/25.1 MB 3.3 MB/s eta 0:00:05\n",
      "   ----------------- ---------------------- 11.0/25.1 MB 3.3 MB/s eta 0:00:05\n",
      "   ------------------ --------------------- 11.5/25.1 MB 3.2 MB/s eta 0:00:05\n",
      "   ------------------ --------------------- 11.8/25.1 MB 3.2 MB/s eta 0:00:05\n",
      "   ------------------- -------------------- 12.3/25.1 MB 3.2 MB/s eta 0:00:05\n",
      "   -------------------- ------------------- 12.8/25.1 MB 3.1 MB/s eta 0:00:04\n",
      "   --------------------- ------------------ 13.4/25.1 MB 3.1 MB/s eta 0:00:04\n",
      "   ---------------------- ----------------- 13.9/25.1 MB 3.1 MB/s eta 0:00:04\n",
      "   ---------------------- ----------------- 14.4/25.1 MB 3.0 MB/s eta 0:00:04\n",
      "   ----------------------- ---------------- 14.9/25.1 MB 3.0 MB/s eta 0:00:04\n",
      "   ------------------------ --------------- 15.2/25.1 MB 2.9 MB/s eta 0:00:04\n",
      "   ------------------------ --------------- 15.5/25.1 MB 2.9 MB/s eta 0:00:04\n",
      "   ------------------------- -------------- 15.7/25.1 MB 2.8 MB/s eta 0:00:04\n",
      "   ------------------------- -------------- 16.3/25.1 MB 2.8 MB/s eta 0:00:04\n",
      "   ------------------------- -------------- 16.3/25.1 MB 2.8 MB/s eta 0:00:04\n",
      "   -------------------------- ------------- 16.5/25.1 MB 2.7 MB/s eta 0:00:04\n",
      "   -------------------------- ------------- 16.8/25.1 MB 2.6 MB/s eta 0:00:04\n",
      "   --------------------------- ------------ 17.0/25.1 MB 2.6 MB/s eta 0:00:04\n",
      "   --------------------------- ------------ 17.3/25.1 MB 2.5 MB/s eta 0:00:04\n",
      "   --------------------------- ------------ 17.3/25.1 MB 2.5 MB/s eta 0:00:04\n",
      "   --------------------------- ------------ 17.6/25.1 MB 2.4 MB/s eta 0:00:04\n",
      "   ---------------------------- ----------- 17.8/25.1 MB 2.4 MB/s eta 0:00:04\n",
      "   ---------------------------- ----------- 18.1/25.1 MB 2.3 MB/s eta 0:00:04\n",
      "   ----------------------------- ---------- 18.4/25.1 MB 2.3 MB/s eta 0:00:03\n",
      "   ----------------------------- ---------- 18.4/25.1 MB 2.3 MB/s eta 0:00:03\n",
      "   ----------------------------- ---------- 18.6/25.1 MB 2.2 MB/s eta 0:00:03\n",
      "   ------------------------------ --------- 18.9/25.1 MB 2.2 MB/s eta 0:00:03\n",
      "   ------------------------------ --------- 19.1/25.1 MB 2.1 MB/s eta 0:00:03\n",
      "   ------------------------------ --------- 19.1/25.1 MB 2.1 MB/s eta 0:00:03\n",
      "   ------------------------------ --------- 19.4/25.1 MB 2.1 MB/s eta 0:00:03\n",
      "   ------------------------------- -------- 19.7/25.1 MB 2.1 MB/s eta 0:00:03\n",
      "   ------------------------------- -------- 19.7/25.1 MB 2.1 MB/s eta 0:00:03\n",
      "   ------------------------------- -------- 19.9/25.1 MB 2.0 MB/s eta 0:00:03\n",
      "   -------------------------------- ------- 20.2/25.1 MB 2.0 MB/s eta 0:00:03\n",
      "   -------------------------------- ------- 20.4/25.1 MB 2.0 MB/s eta 0:00:03\n",
      "   -------------------------------- ------- 20.4/25.1 MB 2.0 MB/s eta 0:00:03\n",
      "   --------------------------------- ------ 20.7/25.1 MB 1.9 MB/s eta 0:00:03\n",
      "   --------------------------------- ------ 21.0/25.1 MB 1.9 MB/s eta 0:00:03\n",
      "   --------------------------------- ------ 21.2/25.1 MB 1.9 MB/s eta 0:00:03\n",
      "   ---------------------------------- ----- 21.5/25.1 MB 1.9 MB/s eta 0:00:02\n",
      "   ---------------------------------- ----- 21.8/25.1 MB 1.9 MB/s eta 0:00:02\n",
      "   ---------------------------------- ----- 21.8/25.1 MB 1.9 MB/s eta 0:00:02\n",
      "   ----------------------------------- ---- 22.0/25.1 MB 1.8 MB/s eta 0:00:02\n",
      "   ----------------------------------- ---- 22.3/25.1 MB 1.8 MB/s eta 0:00:02\n",
      "   ----------------------------------- ---- 22.5/25.1 MB 1.8 MB/s eta 0:00:02\n",
      "   ------------------------------------ --- 22.8/25.1 MB 1.8 MB/s eta 0:00:02\n",
      "   ------------------------------------ --- 22.8/25.1 MB 1.8 MB/s eta 0:00:02\n",
      "   ------------------------------------ --- 22.8/25.1 MB 1.8 MB/s eta 0:00:02\n",
      "   ------------------------------------ --- 23.1/25.1 MB 1.7 MB/s eta 0:00:02\n",
      "   ------------------------------------ --- 23.1/25.1 MB 1.7 MB/s eta 0:00:02\n",
      "   ------------------------------------- -- 23.3/25.1 MB 1.7 MB/s eta 0:00:02\n",
      "   ------------------------------------- -- 23.3/25.1 MB 1.7 MB/s eta 0:00:02\n",
      "   ------------------------------------- -- 23.6/25.1 MB 1.7 MB/s eta 0:00:01\n",
      "   ------------------------------------- -- 23.6/25.1 MB 1.7 MB/s eta 0:00:01\n",
      "   -------------------------------------- - 23.9/25.1 MB 1.6 MB/s eta 0:00:01\n",
      "   -------------------------------------- - 23.9/25.1 MB 1.6 MB/s eta 0:00:01\n",
      "   -------------------------------------- - 24.1/25.1 MB 1.6 MB/s eta 0:00:01\n",
      "   -------------------------------------- - 24.4/25.1 MB 1.6 MB/s eta 0:00:01\n",
      "   ---------------------------------------  24.6/25.1 MB 1.6 MB/s eta 0:00:01\n",
      "   ---------------------------------------  24.9/25.1 MB 1.6 MB/s eta 0:00:01\n",
      "   ---------------------------------------  24.9/25.1 MB 1.6 MB/s eta 0:00:01\n",
      "   ---------------------------------------- 25.1/25.1 MB 1.5 MB/s eta 0:00:00\n",
      "Downloading Bottleneck-1.4.0-cp312-cp312-win_amd64.whl (111 kB)\n",
      "Installing collected packages: pyarrow, numexpr, bottleneck\n",
      "Successfully installed bottleneck-1.4.0 numexpr-2.10.1 pyarrow-17.0.0\n"
     ]
    }
   ],
   "source": [
    "# If you get any errors, uncomment the line below, run this cell, then comment out the line, restart the kernel and run the cell above. \n",
    "!pip install numpy pandas numexpr pyarrow bottleneck --upgrade"
   ]
  },
  {
   "cell_type": "markdown",
   "metadata": {},
   "source": [
    "# Data Programming in Python | BAIS:6040\n",
    "# Module 3 - Python Basics Part 2"
   ]
  },
  {
   "cell_type": "markdown",
   "metadata": {},
   "source": [
    "## Exercises for User-Defined Functions"
   ]
  },
  {
   "cell_type": "markdown",
   "metadata": {
    "deletable": false,
    "editable": false
   },
   "source": [
    "1\\. Write a function `combine_strings` that takes two strings `str1` and `str2` as arguments and returns the concatenation of the two strings with a comma and a space between them. <i>Hint: Use the + operator to concatenate strings and include \", \" between the two strings.</i>"
   ]
  },
  {
   "cell_type": "code",
   "execution_count": 6,
   "metadata": {
    "tags": []
   },
   "outputs": [],
   "source": [
    "# Your answer here\n",
    " \n",
    "def join_with_semicolon(lst):\n",
    "    return \";\".join(lst)"
   ]
  },
  {
   "cell_type": "code",
   "execution_count": 7,
   "metadata": {
    "deletable": false,
    "editable": false,
    "scrolled": true
   },
   "outputs": [
    {
     "ename": "NameError",
     "evalue": "name 'combine_strings' is not defined",
     "output_type": "error",
     "traceback": [
      "\u001b[1;31m---------------------------------------------------------------------------\u001b[0m",
      "\u001b[1;31mNameError\u001b[0m                                 Traceback (most recent call last)",
      "Cell \u001b[1;32mIn[7], line 2\u001b[0m\n\u001b[0;32m      1\u001b[0m \u001b[38;5;66;03m# Test the function here\u001b[39;00m\n\u001b[1;32m----> 2\u001b[0m \u001b[43mcombine_strings\u001b[49m(\u001b[38;5;124m\"\u001b[39m\u001b[38;5;124mHello\u001b[39m\u001b[38;5;124m\"\u001b[39m, \u001b[38;5;124m\"\u001b[39m\u001b[38;5;124mWorld\u001b[39m\u001b[38;5;124m\"\u001b[39m)  \u001b[38;5;66;03m# Output: 'Hello, World'\u001b[39;00m\n",
      "\u001b[1;31mNameError\u001b[0m: name 'combine_strings' is not defined"
     ]
    }
   ],
   "source": [
    "# Test the function here\n",
    "combine_strings(\"Hello\", \"World\")  # Output: 'Hello, World'"
   ]
  },
  {
   "cell_type": "code",
   "execution_count": null,
   "metadata": {
    "deletable": false,
    "editable": false
   },
   "outputs": [],
   "source": [
    "grader.check(\"Question01\")"
   ]
  },
  {
   "cell_type": "markdown",
   "metadata": {
    "deletable": false,
    "editable": false
   },
   "source": [
    "2. Write a function `join_with_semicolon` that takes a list `lst` of strings as an argument and returns the concatenation of all strings in `lst` with a semicolon between them. <i>Hint: Use the join method with \";\" as the separator.</i>"
   ]
  },
  {
   "cell_type": "code",
   "execution_count": null,
   "metadata": {
    "tags": []
   },
   "outputs": [],
   "source": [
    "..."
   ]
  },
  {
   "cell_type": "code",
   "execution_count": null,
   "metadata": {
    "deletable": false,
    "editable": false
   },
   "outputs": [],
   "source": [
    "# Test the function here\n",
    "join_with_semicolon([\"Apple\", \"Banana\", \"Cherry\"])  # Output: 'Apple;Banana;Cherry'"
   ]
  },
  {
   "cell_type": "code",
   "execution_count": null,
   "metadata": {
    "deletable": false,
    "editable": false
   },
   "outputs": [],
   "source": [
    "grader.check(\"Question02\")"
   ]
  },
  {
   "cell_type": "markdown",
   "metadata": {
    "deletable": false,
    "editable": false
   },
   "source": [
    "3. Write a function `find_minimum` that takes two numbers `a` and `b` as arguments and returns the smaller value. If the two numbers are equal, it returns either value. <i>Hint: Use an if-else statement to compare the two numbers.</i>"
   ]
  },
  {
   "cell_type": "code",
   "execution_count": 8,
   "metadata": {
    "tags": []
   },
   "outputs": [],
   "source": [
    "def find_minimum(a, b):\n",
    "    # BEGIN: Function to find the minimum of two numbers\n",
    "    if a < b:\n",
    "        return a\n",
    "    else:\n",
    "        return b\n",
    "    # END: Function to find the minimum of two numbers"
   ]
  },
  {
   "cell_type": "code",
   "execution_count": 9,
   "metadata": {
    "deletable": false,
    "editable": false
   },
   "outputs": [
    {
     "data": {
      "text/plain": [
       "4"
      ]
     },
     "execution_count": 9,
     "metadata": {},
     "output_type": "execute_result"
    }
   ],
   "source": [
    "# Test the function here\n",
    "find_minimum(7, 4)  # Output: 4"
   ]
  },
  {
   "cell_type": "code",
   "execution_count": 10,
   "metadata": {
    "deletable": false,
    "editable": false
   },
   "outputs": [
    {
     "data": {
      "text/html": [
       "<p><strong><pre style='display: inline;'>Question03</pre></strong> passed! 💯</p>"
      ],
      "text/plain": [
       "Question03 results: All test cases passed!"
      ]
     },
     "execution_count": 10,
     "metadata": {},
     "output_type": "execute_result"
    }
   ],
   "source": [
    "grader.check(\"Question03\")"
   ]
  },
  {
   "cell_type": "markdown",
   "metadata": {
    "deletable": false,
    "editable": false
   },
   "source": [
    "4. Write a function `find_minimum_all` that takes a list `lst` of numbers as an argument and returns the smallest value in lst. <i>Hint: Use the min function to find the smallest value in the list.</i>"
   ]
  },
  {
   "cell_type": "code",
   "execution_count": 11,
   "metadata": {
    "tags": []
   },
   "outputs": [],
   "source": [
    "def find_minimum_all(lst):\n",
    "    return min(lst)"
   ]
  },
  {
   "cell_type": "code",
   "execution_count": 12,
   "metadata": {
    "deletable": false,
    "editable": false
   },
   "outputs": [
    {
     "data": {
      "text/plain": [
       "0"
      ]
     },
     "execution_count": 12,
     "metadata": {},
     "output_type": "execute_result"
    }
   ],
   "source": [
    "# Test the function here\n",
    "find_minimum_all([1, 3, 7, 0, 5])  # Output: 0"
   ]
  },
  {
   "cell_type": "code",
   "execution_count": 13,
   "metadata": {
    "deletable": false,
    "editable": false
   },
   "outputs": [
    {
     "data": {
      "text/html": [
       "<p><strong><pre style='display: inline;'>Question04</pre></strong> passed! 🌟</p>"
      ],
      "text/plain": [
       "Question04 results: All test cases passed!"
      ]
     },
     "execution_count": 13,
     "metadata": {},
     "output_type": "execute_result"
    }
   ],
   "source": [
    "grader.check(\"Question04\")"
   ]
  },
  {
   "cell_type": "markdown",
   "metadata": {
    "deletable": false,
    "editable": false
   },
   "source": [
    "5. Write a function `find_abs_minimum_all` that takes a list `lst` of numbers as an argument and returns the smallest absolute value in `lst`. <i>Hint: Use a list comprehension to create a list of absolute values, then find the minimum value.</i>\n"
   ]
  },
  {
   "cell_type": "code",
   "execution_count": 14,
   "metadata": {
    "tags": []
   },
   "outputs": [],
   "source": [
    "def find_abs_minimum_all(lst):\n",
    "    abs_lst = [abs(x) for x in lst]\n",
    "    return min(abs_lst)"
   ]
  },
  {
   "cell_type": "code",
   "execution_count": 15,
   "metadata": {
    "deletable": false,
    "editable": false
   },
   "outputs": [
    {
     "data": {
      "text/plain": [
       "2"
      ]
     },
     "execution_count": 15,
     "metadata": {},
     "output_type": "execute_result"
    }
   ],
   "source": [
    "# Test the function here\n",
    "find_abs_minimum_all([-10, 4, -3, 2])  # Output: 2"
   ]
  },
  {
   "cell_type": "code",
   "execution_count": 16,
   "metadata": {
    "deletable": false,
    "editable": false
   },
   "outputs": [
    {
     "data": {
      "text/html": [
       "<p><strong><pre style='display: inline;'>Question05</pre></strong> passed! 🚀</p>"
      ],
      "text/plain": [
       "Question05 results: All test cases passed!"
      ]
     },
     "execution_count": 16,
     "metadata": {},
     "output_type": "execute_result"
    }
   ],
   "source": [
    "grader.check(\"Question05\")"
   ]
  },
  {
   "cell_type": "code",
   "execution_count": 18,
   "metadata": {
    "tags": []
   },
   "outputs": [],
   "source": [
    "def first_and_last(lst):\n",
    "    if lst:\n",
    "        return (lst[0], lst[-1])\n",
    "    else:\n",
    "        return (None, None)"
   ]
  },
  {
   "cell_type": "code",
   "execution_count": 19,
   "metadata": {
    "deletable": false,
    "editable": false
   },
   "outputs": [
    {
     "data": {
      "text/plain": [
       "(1, 4)"
      ]
     },
     "execution_count": 19,
     "metadata": {},
     "output_type": "execute_result"
    }
   ],
   "source": [
    "# Test the function here\n",
    "first_and_last([1, 2, 3, 4])  # Output: (1, 4)"
   ]
  },
  {
   "cell_type": "code",
   "execution_count": 20,
   "metadata": {
    "deletable": false,
    "editable": false
   },
   "outputs": [
    {
     "data": {
      "text/html": [
       "<p><strong style='color: red;'><pre style='display: inline;'>Question06</pre> results:</strong></p><p><strong><pre style='display: inline;'>Question06 - 1</pre> result:</strong></p><pre>    ❌ Test case failed\n",
       "    Trying:\n",
       "        def test_first_and_last():\n",
       "            try:\n",
       "                assert first_and_last([1, 2, 3, 4]) == (1, 4)\n",
       "            except AssertionError:\n",
       "                print('Hint: Use indexing to access the first and last elements of the list.')\n",
       "            try:\n",
       "                assert first_and_last(['a', 'b', 'c']) == ('a', 'c')\n",
       "            except AssertionError:\n",
       "                print('Hint: Ensure the function correctly handles lists of strings.')\n",
       "            try:\n",
       "                assert first_and_last([True, False]) == (True, False)\n",
       "            except AssertionError:\n",
       "                print('Hint: Check how the function handles lists of boolean values.')\n",
       "            try:\n",
       "                assert first_and_last([1]) == 'List is too short!'\n",
       "            except AssertionError:\n",
       "                print(\"Hint: Verify the function's behavior with a single-element list.\")\n",
       "            print('All tests passed!')\n",
       "    Expecting nothing\n",
       "    ok\n",
       "    Trying:\n",
       "        test_first_and_last()\n",
       "    Expecting:\n",
       "        All tests passed!\n",
       "    **********************************************************************\n",
       "    Line 19, in Question06 0\n",
       "    Failed example:\n",
       "        test_first_and_last()\n",
       "    Expected:\n",
       "        All tests passed!\n",
       "    Got:\n",
       "        Hint: Verify the function's behavior with a single-element list.\n",
       "        All tests passed!\n",
       "</pre>"
      ],
      "text/plain": [
       "Question06 results:\n",
       "    Question06 - 1 result:\n",
       "        ❌ Test case failed\n",
       "        Trying:\n",
       "            def test_first_and_last():\n",
       "                try:\n",
       "                    assert first_and_last([1, 2, 3, 4]) == (1, 4)\n",
       "                except AssertionError:\n",
       "                    print('Hint: Use indexing to access the first and last elements of the list.')\n",
       "                try:\n",
       "                    assert first_and_last(['a', 'b', 'c']) == ('a', 'c')\n",
       "                except AssertionError:\n",
       "                    print('Hint: Ensure the function correctly handles lists of strings.')\n",
       "                try:\n",
       "                    assert first_and_last([True, False]) == (True, False)\n",
       "                except AssertionError:\n",
       "                    print('Hint: Check how the function handles lists of boolean values.')\n",
       "                try:\n",
       "                    assert first_and_last([1]) == 'List is too short!'\n",
       "                except AssertionError:\n",
       "                    print(\"Hint: Verify the function's behavior with a single-element list.\")\n",
       "                print('All tests passed!')\n",
       "        Expecting nothing\n",
       "        ok\n",
       "        Trying:\n",
       "            test_first_and_last()\n",
       "        Expecting:\n",
       "            All tests passed!\n",
       "        **********************************************************************\n",
       "        Line 19, in Question06 0\n",
       "        Failed example:\n",
       "            test_first_and_last()\n",
       "        Expected:\n",
       "            All tests passed!\n",
       "        Got:\n",
       "            Hint: Verify the function's behavior with a single-element list.\n",
       "            All tests passed!"
      ]
     },
     "execution_count": 20,
     "metadata": {},
     "output_type": "execute_result"
    }
   ],
   "source": [
    "grader.check(\"Question06\")"
   ]
  },
  {
   "cell_type": "markdown",
   "metadata": {
    "deletable": false,
    "editable": false
   },
   "source": [
    "7. Write a function `highlight_word` that takes two strings `text` and `word` as arguments and returns a new copy of `text` with its substring `word` highlighted in upper case. If `text` does not contain `word`, it returns “Word not found!”. <i>Hint: Use the replace method to replace the substring with its upper case version.</i>"
   ]
  },
  {
   "cell_type": "code",
   "execution_count": 21,
   "metadata": {
    "tags": []
   },
   "outputs": [],
   "source": [
    "def highlight_word(text, word):\n",
    "    if word in text:\n",
    "        return text.replace(word, word.upper())\n",
    "    else:\n",
    "        return \"Word not found!\""
   ]
  },
  {
   "cell_type": "code",
   "execution_count": 22,
   "metadata": {
    "deletable": false,
    "editable": false
   },
   "outputs": [
    {
     "data": {
      "text/plain": [
       "'I love programming in PYTHON.'"
      ]
     },
     "execution_count": 22,
     "metadata": {},
     "output_type": "execute_result"
    }
   ],
   "source": [
    "# Test the function here\n",
    "highlight_word(\"I love programming in Python.\", \"Python\")  # Output: 'I love programming in PYTHON.'"
   ]
  },
  {
   "cell_type": "code",
   "execution_count": 23,
   "metadata": {
    "deletable": false,
    "editable": false
   },
   "outputs": [
    {
     "data": {
      "text/html": [
       "<p><strong><pre style='display: inline;'>Question07</pre></strong> passed! 💯</p>"
      ],
      "text/plain": [
       "Question07 results: All test cases passed!"
      ]
     },
     "execution_count": 23,
     "metadata": {},
     "output_type": "execute_result"
    }
   ],
   "source": [
    "grader.check(\"Question07\")"
   ]
  },
  {
   "cell_type": "markdown",
   "metadata": {
    "deletable": false,
    "editable": false
   },
   "source": [
    "8. Write a function `slice_message` that takes a string `msg` and two integers `start_idx` and `end_idx` as arguments and returns the substring of `msg` that starts at the index position `start_idx` and ends at the index position `end_idx` - 1. <i>Hint: Use slicing to extract the substring.</i>"
   ]
  },
  {
   "cell_type": "code",
   "execution_count": 24,
   "metadata": {
    "tags": []
   },
   "outputs": [],
   "source": [
    "def slice_message(msg, start_idx, end_idx):\n",
    "    return msg[start_idx:end_idx]\n"
   ]
  },
  {
   "cell_type": "code",
   "execution_count": 25,
   "metadata": {
    "deletable": false,
    "editable": false
   },
   "outputs": [
    {
     "data": {
      "text/plain": [
       "'Science'"
      ]
     },
     "execution_count": 25,
     "metadata": {},
     "output_type": "execute_result"
    }
   ],
   "source": [
    "# Test the function here\n",
    "slice_message(\"Data Science is fun!\", 5, 12)  # Output: 'Science'"
   ]
  },
  {
   "cell_type": "code",
   "execution_count": 26,
   "metadata": {
    "deletable": false,
    "editable": false
   },
   "outputs": [
    {
     "data": {
      "text/html": [
       "<p><strong><pre style='display: inline;'>Question08</pre></strong> passed! 🌈</p>"
      ],
      "text/plain": [
       "Question08 results: All test cases passed!"
      ]
     },
     "execution_count": 26,
     "metadata": {},
     "output_type": "execute_result"
    }
   ],
   "source": [
    "grader.check(\"Question08\")"
   ]
  },
  {
   "cell_type": "markdown",
   "metadata": {
    "deletable": false,
    "editable": false
   },
   "source": [
    "9. Write a function `slice_message2` that works the same as `slice_message` above. In addition, check inside the function if a) the type of `msg` is `str` and b) the types of `start_idx` and `end_idx` are `int`. If any of those evaluates to false, return “Invalid parameter type!”. Check also if a) `start_idx` is greater than or equal to 0, b) `start_idx` is less than `end_idx`, and c) `end_idx` is less than or equal to the length of `msg`. If any of those evaluates to false, return “Invalid parameter value!”. <i>Hint: Use isinstance to check types and conditional statements to validate values.</i>"
   ]
  },
  {
   "cell_type": "code",
   "execution_count": 27,
   "metadata": {
    "tags": []
   },
   "outputs": [],
   "source": [
    "def slice_message2(msg, start_idx, end_idx):\n",
    "    # Check parameter types\n",
    "    if not isinstance(msg, str) or not isinstance(start_idx, int) or not isinstance(end_idx, int):\n",
    "        return \"Invalid parameter type!\"\n",
    "    \n",
    "    # Check parameter values\n",
    "    if start_idx < 0 or start_idx >= end_idx or end_idx > len(msg):\n",
    "        return \"Invalid parameter value!\"\n",
    "    \n",
    "    return msg[start_idx:end_idx]"
   ]
  },
  {
   "cell_type": "code",
   "execution_count": 32,
   "metadata": {
    "deletable": false,
    "editable": false
   },
   "outputs": [
    {
     "data": {
      "text/plain": [
       "'Science'"
      ]
     },
     "execution_count": 32,
     "metadata": {},
     "output_type": "execute_result"
    }
   ],
   "source": [
    "# Test the function here\n",
    "slice_message2(\"Data Science is fun!\", 5, 12)  # Output: 'Science'"
   ]
  },
  {
   "cell_type": "code",
   "execution_count": 29,
   "metadata": {
    "deletable": false,
    "editable": false
   },
   "outputs": [
    {
     "data": {
      "text/html": [
       "<p><strong><pre style='display: inline;'>Question09</pre></strong> passed! 🎉</p>"
      ],
      "text/plain": [
       "Question09 results: All test cases passed!"
      ]
     },
     "execution_count": 29,
     "metadata": {},
     "output_type": "execute_result"
    }
   ],
   "source": [
    "grader.check(\"Question09\")"
   ]
  },
  {
   "cell_type": "markdown",
   "metadata": {
    "deletable": false,
    "editable": false
   },
   "source": [
    "10. Create a dictionary `params` that sets the parameter values of `msg`, `start_idx`, and `end_idx` on your own and then call the function `slice_message2` by passing `params`. <i>Hint: Use the ** operator to unpack the dictionary when calling the function.</i>"
   ]
  },
  {
   "cell_type": "code",
   "execution_count": 30,
   "metadata": {
    "tags": []
   },
   "outputs": [
    {
     "name": "stdout",
     "output_type": "stream",
     "text": [
      "Science\n"
     ]
    }
   ],
   "source": [
    "# Create a dictionary with parameter values\n",
    "params = {\n",
    "    \"msg\": \"Data Science is fun!\",\n",
    "    \"start_idx\": 5,\n",
    "    \"end_idx\": 12\n",
    "}\n",
    "\n",
    "# Call the function slice_message2 by unpacking the dictionary\n",
    "result = slice_message2(**params)\n",
    "print(result)  # Output: 'Science'"
   ]
  },
  {
   "cell_type": "code",
   "execution_count": 31,
   "metadata": {
    "deletable": false,
    "editable": false
   },
   "outputs": [
    {
     "data": {
      "text/html": [
       "<p><strong><pre style='display: inline;'>Question10</pre></strong> passed! ✨</p>"
      ],
      "text/plain": [
       "Question10 results: All test cases passed!"
      ]
     },
     "execution_count": 31,
     "metadata": {},
     "output_type": "execute_result"
    }
   ],
   "source": [
    "grader.check(\"Question10\")"
   ]
  }
 ],
 "metadata": {
  "kernelspec": {
   "display_name": "IDAS Python 3.11",
   "language": "python",
   "name": "python3"
  },
  "language_info": {
   "codemirror_mode": {
    "name": "ipython",
    "version": 3
   },
   "file_extension": ".py",
   "mimetype": "text/x-python",
   "name": "python",
   "nbconvert_exporter": "python",
   "pygments_lexer": "ipython3",
   "version": "3.12.6"
  },
  "otter": {
   "OK_FORMAT": true,
   "assignment_name": "Module3Part2Practice",
   "tests": {
    "Question01": {
     "name": "Question01",
     "points": null,
     "suites": [
      {
       "cases": [
        {
         "code": ">>> def test_combine_strings():\n...     try:\n...         assert combine_strings('Hello', 'World') == 'Hello, World'\n...     except AssertionError:\n...         print('Hint: Make sure to concatenate the strings with a comma and a space between them.')\n...     try:\n...         assert combine_strings('Data', 'Science') == 'Data, Science'\n...     except AssertionError:\n...         print('Hint: Ensure the function correctly handles different input strings.')\n...     try:\n...         assert combine_strings('', 'Empty') == ', Empty'\n...     except AssertionError:\n...         print('Hint: Check how the function handles empty strings.')\n...     try:\n...         assert combine_strings('Single', '') == 'Single, '\n...     except AssertionError:\n...         print(\"Hint: Verify the function's behavior when the second string is empty.\")\n...     print('All tests passed!')\n>>> test_combine_strings()\nAll tests passed!\n",
         "hidden": false,
         "locked": false
        }
       ],
       "scored": true,
       "setup": "",
       "teardown": "",
       "type": "doctest"
      }
     ]
    },
    "Question02": {
     "name": "Question02",
     "points": null,
     "suites": [
      {
       "cases": [
        {
         "code": ">>> def test_join_with_semicolon():\n...     try:\n...         assert join_with_semicolon(['Apple', 'Banana', 'Cherry']) == 'Apple;Banana;Cherry'\n...     except AssertionError:\n...         print('Hint: Use the join method with a semicolon as the separator.')\n...     try:\n...         assert join_with_semicolon(['One', 'Two', 'Three']) == 'One;Two;Three'\n...     except AssertionError:\n...         print('Hint: Ensure the function correctly joins multiple strings.')\n...     try:\n...         assert join_with_semicolon(['']) == ''\n...     except AssertionError:\n...         print('Hint: Check how the function handles a list with an empty string.')\n...     try:\n...         assert join_with_semicolon([]) == ''\n...     except AssertionError:\n...         print(\"Hint: Verify the function's behavior when the list is empty.\")\n...     print('All tests passed!')\n>>> test_join_with_semicolon()\nAll tests passed!\n",
         "hidden": false,
         "locked": false
        }
       ],
       "scored": true,
       "setup": "",
       "teardown": "",
       "type": "doctest"
      }
     ]
    },
    "Question03": {
     "name": "Question03",
     "points": null,
     "suites": [
      {
       "cases": [
        {
         "code": ">>> def test_find_minimum():\n...     try:\n...         assert find_minimum(7, 4) == 4\n...     except AssertionError:\n...         print('Hint: Make sure the function returns the smaller of the two numbers.')\n...     try:\n...         assert find_minimum(3, 3) == 3\n...     except AssertionError:\n...         print('Hint: Ensure the function handles equal numbers correctly.')\n...     try:\n...         assert find_minimum(-1, 1) == -1\n...     except AssertionError:\n...         print('Hint: Check how the function handles negative numbers.')\n...     try:\n...         assert find_minimum(0, 0) == 0\n...     except AssertionError:\n...         print(\"Hint: Verify the function's behavior with zero values.\")\n...     print('All tests passed!')\n>>> test_find_minimum()\nAll tests passed!\n",
         "hidden": false,
         "locked": false
        }
       ],
       "scored": true,
       "setup": "",
       "teardown": "",
       "type": "doctest"
      }
     ]
    },
    "Question04": {
     "name": "Question04",
     "points": null,
     "suites": [
      {
       "cases": [
        {
         "code": ">>> def test_find_minimum_all():\n...     try:\n...         assert find_minimum_all([1, 3, 7, 0, 5]) == 0\n...     except AssertionError:\n...         print('Hint: Use the min function to find the smallest value in the list.')\n...     try:\n...         assert find_minimum_all([-1, -3, -7, 0, 5]) == -7\n...     except AssertionError:\n...         print('Hint: Ensure the function correctly handles negative numbers.')\n...     try:\n...         assert find_minimum_all([10, 20, 30]) == 10\n...     except AssertionError:\n...         print('Hint: Check how the function handles a list of positive numbers.')\n...     try:\n...         assert find_minimum_all([0]) == 0\n...     except AssertionError:\n...         print(\"Hint: Verify the function's behavior with a single-element list.\")\n...     print('All tests passed!')\n>>> test_find_minimum_all()\nAll tests passed!\n",
         "hidden": false,
         "locked": false
        }
       ],
       "scored": true,
       "setup": "",
       "teardown": "",
       "type": "doctest"
      }
     ]
    },
    "Question05": {
     "name": "Question05",
     "points": null,
     "suites": [
      {
       "cases": [
        {
         "code": ">>> def test_find_abs_minimum_all():\n...     try:\n...         assert find_abs_minimum_all([-10, 4, -3, 2]) == 2\n...     except AssertionError:\n...         print('Hint: Use a list comprehension to create a list of absolute values, then find the minimum value.')\n...     try:\n...         assert find_abs_minimum_all([10, -20, 30, -1]) == 1\n...     except AssertionError:\n...         print('Hint: Ensure the function correctly handles both positive and negative numbers.')\n...     try:\n...         assert find_abs_minimum_all([0, -5, 5]) == 0\n...     except AssertionError:\n...         print('Hint: Check how the function handles zero values.')\n...     try:\n...         assert find_abs_minimum_all([-100, 50, -50]) == 50\n...     except AssertionError:\n...         print(\"Hint: Verify the function's behavior with large absolute values.\")\n...     print('All tests passed!')\n>>> test_find_abs_minimum_all()\nAll tests passed!\n",
         "hidden": false,
         "locked": false
        }
       ],
       "scored": true,
       "setup": "",
       "teardown": "",
       "type": "doctest"
      }
     ]
    },
    "Question06": {
     "name": "Question06",
     "points": null,
     "suites": [
      {
       "cases": [
        {
         "code": ">>> def test_first_and_last():\n...     try:\n...         assert first_and_last([1, 2, 3, 4]) == (1, 4)\n...     except AssertionError:\n...         print('Hint: Use indexing to access the first and last elements of the list.')\n...     try:\n...         assert first_and_last(['a', 'b', 'c']) == ('a', 'c')\n...     except AssertionError:\n...         print('Hint: Ensure the function correctly handles lists of strings.')\n...     try:\n...         assert first_and_last([True, False]) == (True, False)\n...     except AssertionError:\n...         print('Hint: Check how the function handles lists of boolean values.')\n...     try:\n...         assert first_and_last([1]) == 'List is too short!'\n...     except AssertionError:\n...         print(\"Hint: Verify the function's behavior with a single-element list.\")\n...     print('All tests passed!')\n>>> test_first_and_last()\nAll tests passed!\n",
         "hidden": false,
         "locked": false
        }
       ],
       "scored": true,
       "setup": "",
       "teardown": "",
       "type": "doctest"
      }
     ]
    },
    "Question07": {
     "name": "Question07",
     "points": null,
     "suites": [
      {
       "cases": [
        {
         "code": ">>> def test_highlight_word():\n...     try:\n...         assert highlight_word('I love programming in Python.', 'Python') == 'I love programming in PYTHON.'\n...     except AssertionError:\n...         print('Hint: Use the replace method to replace the substring with its upper case version.')\n...     try:\n...         assert highlight_word('Hello World', 'World') == 'Hello WORLD'\n...     except AssertionError:\n...         print('Hint: Ensure the function correctly highlights the specified word.')\n...     try:\n...         assert highlight_word('Data Science', 'Data') == 'DATA Science'\n...     except AssertionError:\n...         print('Hint: Check how the function handles different input strings.')\n...     try:\n...         assert highlight_word('No match here', 'Python') == 'Word not found!'\n...     except AssertionError:\n...         print(\"Hint: Verify the function's behavior when the word is not found in the text.\")\n...     print('All tests passed!')\n>>> test_highlight_word()\nAll tests passed!\n",
         "hidden": false,
         "locked": false
        }
       ],
       "scored": true,
       "setup": "",
       "teardown": "",
       "type": "doctest"
      }
     ]
    },
    "Question08": {
     "name": "Question08",
     "points": null,
     "suites": [
      {
       "cases": [
        {
         "code": ">>> def test_slice_message():\n...     try:\n...         assert slice_message('Data Science is fun!', 5, 12) == 'Science'\n...     except AssertionError:\n...         print('Hint: Use slicing to extract the substring.')\n...     try:\n...         assert slice_message('Hello World', 0, 5) == 'Hello'\n...     except AssertionError:\n...         print('Hint: Ensure the function correctly handles different start and end indices.')\n...     try:\n...         assert slice_message('Python Programming', 7, 18) == 'Programming'\n...     except AssertionError:\n...         print('Hint: Check how the function handles longer strings.')\n...     try:\n...         assert slice_message('Short', 0, 5) == 'Short'\n...     except AssertionError:\n...         print(\"Hint: Verify the function's behavior with a string that matches the slice length.\")\n...     print('All tests passed!')\n>>> test_slice_message()\nAll tests passed!\n",
         "hidden": false,
         "locked": false
        }
       ],
       "scored": true,
       "setup": "",
       "teardown": "",
       "type": "doctest"
      }
     ]
    },
    "Question09": {
     "name": "Question09",
     "points": null,
     "suites": [
      {
       "cases": [
        {
         "code": ">>> def test_slice_message2():\n...     try:\n...         assert slice_message2('Data Science is fun!', 5, 12) == 'Science'\n...     except AssertionError:\n...         print('Hint: Use slicing to extract the substring and validate parameter types and values.')\n...     try:\n...         assert slice_message2('Hello World', 0, 5) == 'Hello'\n...     except AssertionError:\n...         print('Hint: Ensure the function correctly handles different start and end indices.')\n...     try:\n...         assert slice_message2('Python Programming', 7, 18) == 'Programming'\n...     except AssertionError:\n...         print('Hint: Check how the function handles longer strings.')\n...     try:\n...         assert slice_message2('Short', 0, 5) == 'Short'\n...     except AssertionError:\n...         print(\"Hint: Verify the function's behavior with a string that matches the slice length.\")\n...     try:\n...         assert slice_message2(10000, 13, 19) == 'Invalid parameter type!'\n...     except AssertionError:\n...         print('Hint: Check if the function correctly identifies invalid parameter types.')\n...     try:\n...         assert slice_message2('Data Science is fun!', -1, 12) == 'Invalid parameter value!'\n...     except AssertionError:\n...         print('Hint: Ensure the function correctly identifies invalid start index values.')\n...     try:\n...         assert slice_message2('Data Science is fun!', 5, 5) == 'Invalid parameter value!'\n...     except AssertionError:\n...         print(\"Hint: Verify the function's behavior when start index is not less than end index.\")\n...     try:\n...         assert slice_message2('Data Science is fun!', 5, 100) == 'Invalid parameter value!'\n...     except AssertionError:\n...         print('Hint: Check if the function correctly identifies end index values that exceed the string length.')\n...     print('All tests passed!')\n>>> test_slice_message2()\nAll tests passed!\n",
         "hidden": false,
         "locked": false
        }
       ],
       "scored": true,
       "setup": "",
       "teardown": "",
       "type": "doctest"
      }
     ]
    },
    "Question10": {
     "name": "Question10",
     "points": null,
     "suites": [
      {
       "cases": [
        {
         "code": ">>> def test_params():\n...     params = {'msg': 'Data Science is fun!', 'start_idx': 5, 'end_idx': 12}\n...     try:\n...         assert slice_message2(**params) == 'Science'\n...     except AssertionError:\n...         print('Hint: Ensure the dictionary parameters are correctly unpacked and passed to the function.')\n...     print('All tests passed!')\n>>> test_params()\nAll tests passed!\n",
         "hidden": false,
         "locked": false
        }
       ],
       "scored": true,
       "setup": "",
       "teardown": "",
       "type": "doctest"
      }
     ]
    }
   }
  }
 },
 "nbformat": 4,
 "nbformat_minor": 4
}
