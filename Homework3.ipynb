{
 "cells": [
  {
   "cell_type": "code",
   "execution_count": 9,
   "metadata": {},
   "outputs": [],
   "source": [
    "# Run this cell first!\n",
    "import otter\n",
    "grader = otter.Notebook(\"Homework3.ipynb\")"
   ]
  },
  {
   "cell_type": "code",
   "execution_count": 10,
   "metadata": {},
   "outputs": [
    {
     "name": "stdout",
     "output_type": "stream",
     "text": [
      "Defaulting to user installation because normal site-packages is not writeable\n",
      "Collecting otter-grader\n",
      "  Downloading otter_grader-5.6.0-py3-none-any.whl.metadata (2.9 kB)\n",
      "Collecting dill (from otter-grader)\n",
      "  Downloading dill-0.3.8-py3-none-any.whl.metadata (10 kB)\n",
      "Requirement already satisfied: jinja2 in c:\\users\\ramachandranr\\appdata\\roaming\\python\\python312\\site-packages (from otter-grader) (3.1.4)\n",
      "Collecting nbformat (from otter-grader)\n",
      "  Downloading nbformat-5.10.4-py3-none-any.whl.metadata (3.6 kB)\n",
      "Requirement already satisfied: pandas in c:\\users\\ramachandranr\\appdata\\roaming\\python\\python312\\site-packages (from otter-grader) (2.2.2)\n",
      "Collecting PyYAML (from otter-grader)\n",
      "  Using cached PyYAML-6.0.2-cp312-cp312-win_amd64.whl.metadata (2.1 kB)\n",
      "Collecting python-on-whales (from otter-grader)\n",
      "  Downloading python_on_whales-0.73.0-py3-none-any.whl.metadata (18 kB)\n",
      "Collecting requests (from otter-grader)\n",
      "  Using cached requests-2.32.3-py3-none-any.whl.metadata (4.6 kB)\n",
      "Collecting wrapt (from otter-grader)\n",
      "  Using cached wrapt-1.16.0-cp312-cp312-win_amd64.whl.metadata (6.8 kB)\n",
      "Collecting jupytext (from otter-grader)\n",
      "  Downloading jupytext-1.16.4-py3-none-any.whl.metadata (13 kB)\n",
      "Requirement already satisfied: click in c:\\users\\ramachandranr\\appdata\\roaming\\python\\python312\\site-packages (from otter-grader) (8.1.7)\n",
      "Collecting fica>=0.3.1 (from otter-grader)\n",
      "  Downloading fica-0.4.1-py3-none-any.whl.metadata (2.0 kB)\n",
      "Requirement already satisfied: ipython in c:\\users\\ramachandranr\\appdata\\roaming\\python\\python312\\site-packages (from otter-grader) (8.27.0)\n",
      "Collecting astunparse (from otter-grader)\n",
      "  Downloading astunparse-1.6.3-py2.py3-none-any.whl.metadata (4.4 kB)\n",
      "Collecting ipywidgets (from otter-grader)\n",
      "  Downloading ipywidgets-8.1.5-py3-none-any.whl.metadata (2.3 kB)\n",
      "Collecting ipylab (from otter-grader)\n",
      "  Downloading ipylab-1.0.0-py3-none-any.whl.metadata (6.7 kB)\n",
      "Requirement already satisfied: setuptools in c:\\users\\ramachandranr\\appdata\\roaming\\python\\python312\\site-packages (from otter-grader) (75.1.0)\n",
      "Collecting nbconvert (from otter-grader)\n",
      "  Downloading nbconvert-7.16.4-py3-none-any.whl.metadata (8.5 kB)\n",
      "Collecting docutils (from fica>=0.3.1->otter-grader)\n",
      "  Downloading docutils-0.21.2-py3-none-any.whl.metadata (2.8 kB)\n",
      "Collecting sphinx (from fica>=0.3.1->otter-grader)\n",
      "  Downloading sphinx-8.0.2-py3-none-any.whl.metadata (6.2 kB)\n",
      "Collecting wheel<1.0,>=0.23.0 (from astunparse->otter-grader)\n",
      "  Using cached wheel-0.44.0-py3-none-any.whl.metadata (2.3 kB)\n",
      "Requirement already satisfied: six<2.0,>=1.6.1 in c:\\users\\ramachandranr\\appdata\\roaming\\python\\python312\\site-packages (from astunparse->otter-grader) (1.16.0)\n",
      "Requirement already satisfied: colorama in c:\\users\\ramachandranr\\appdata\\roaming\\python\\python312\\site-packages (from click->otter-grader) (0.4.6)\n",
      "Requirement already satisfied: comm>=0.1.3 in c:\\users\\ramachandranr\\appdata\\roaming\\python\\python312\\site-packages (from ipywidgets->otter-grader) (0.2.2)\n",
      "Requirement already satisfied: traitlets>=4.3.1 in c:\\users\\ramachandranr\\appdata\\roaming\\python\\python312\\site-packages (from ipywidgets->otter-grader) (5.14.3)\n",
      "Collecting widgetsnbextension~=4.0.12 (from ipywidgets->otter-grader)\n",
      "  Downloading widgetsnbextension-4.0.13-py3-none-any.whl.metadata (1.6 kB)\n",
      "Collecting jupyterlab-widgets~=3.0.12 (from ipywidgets->otter-grader)\n",
      "  Downloading jupyterlab_widgets-3.0.13-py3-none-any.whl.metadata (4.1 kB)\n",
      "Requirement already satisfied: decorator in c:\\users\\ramachandranr\\appdata\\roaming\\python\\python312\\site-packages (from ipython->otter-grader) (5.1.1)\n",
      "Requirement already satisfied: jedi>=0.16 in c:\\users\\ramachandranr\\appdata\\roaming\\python\\python312\\site-packages (from ipython->otter-grader) (0.19.1)\n",
      "Requirement already satisfied: matplotlib-inline in c:\\users\\ramachandranr\\appdata\\roaming\\python\\python312\\site-packages (from ipython->otter-grader) (0.1.7)\n",
      "Requirement already satisfied: prompt-toolkit<3.1.0,>=3.0.41 in c:\\users\\ramachandranr\\appdata\\roaming\\python\\python312\\site-packages (from ipython->otter-grader) (3.0.47)\n",
      "Requirement already satisfied: pygments>=2.4.0 in c:\\users\\ramachandranr\\appdata\\roaming\\python\\python312\\site-packages (from ipython->otter-grader) (2.18.0)\n",
      "Requirement already satisfied: stack-data in c:\\users\\ramachandranr\\appdata\\roaming\\python\\python312\\site-packages (from ipython->otter-grader) (0.6.3)\n",
      "Requirement already satisfied: MarkupSafe>=2.0 in c:\\users\\ramachandranr\\appdata\\roaming\\python\\python312\\site-packages (from jinja2->otter-grader) (2.1.5)\n",
      "Collecting markdown-it-py>=1.0 (from jupytext->otter-grader)\n",
      "  Downloading markdown_it_py-3.0.0-py3-none-any.whl.metadata (6.9 kB)\n",
      "Collecting mdit-py-plugins (from jupytext->otter-grader)\n",
      "  Downloading mdit_py_plugins-0.4.2-py3-none-any.whl.metadata (2.8 kB)\n",
      "Requirement already satisfied: packaging in c:\\users\\ramachandranr\\appdata\\roaming\\python\\python312\\site-packages (from jupytext->otter-grader) (24.1)\n",
      "Collecting beautifulsoup4 (from nbconvert->otter-grader)\n",
      "  Using cached beautifulsoup4-4.12.3-py3-none-any.whl.metadata (3.8 kB)\n",
      "Collecting bleach!=5.0.0 (from nbconvert->otter-grader)\n",
      "  Downloading bleach-6.1.0-py3-none-any.whl.metadata (30 kB)\n",
      "Collecting defusedxml (from nbconvert->otter-grader)\n",
      "  Downloading defusedxml-0.7.1-py2.py3-none-any.whl.metadata (32 kB)\n",
      "Requirement already satisfied: jupyter-core>=4.7 in c:\\users\\ramachandranr\\appdata\\roaming\\python\\python312\\site-packages (from nbconvert->otter-grader) (5.7.2)\n",
      "Collecting jupyterlab-pygments (from nbconvert->otter-grader)\n",
      "  Downloading jupyterlab_pygments-0.3.0-py3-none-any.whl.metadata (4.4 kB)\n",
      "Collecting mistune<4,>=2.0.3 (from nbconvert->otter-grader)\n",
      "  Downloading mistune-3.0.2-py3-none-any.whl.metadata (1.7 kB)\n",
      "Collecting nbclient>=0.5.0 (from nbconvert->otter-grader)\n",
      "  Downloading nbclient-0.10.0-py3-none-any.whl.metadata (7.8 kB)\n",
      "Collecting pandocfilters>=1.4.1 (from nbconvert->otter-grader)\n",
      "  Downloading pandocfilters-1.5.1-py2.py3-none-any.whl.metadata (9.0 kB)\n",
      "Collecting tinycss2 (from nbconvert->otter-grader)\n",
      "  Downloading tinycss2-1.3.0-py3-none-any.whl.metadata (3.0 kB)\n",
      "Collecting fastjsonschema>=2.15 (from nbformat->otter-grader)\n",
      "  Downloading fastjsonschema-2.20.0-py3-none-any.whl.metadata (2.1 kB)\n",
      "Collecting jsonschema>=2.6 (from nbformat->otter-grader)\n",
      "  Downloading jsonschema-4.23.0-py3-none-any.whl.metadata (7.9 kB)\n",
      "Requirement already satisfied: numpy>=1.26.0 in c:\\users\\ramachandranr\\appdata\\roaming\\python\\python312\\site-packages (from pandas->otter-grader) (2.1.1)\n",
      "Requirement already satisfied: python-dateutil>=2.8.2 in c:\\users\\ramachandranr\\appdata\\roaming\\python\\python312\\site-packages (from pandas->otter-grader) (2.9.0.post0)\n",
      "Requirement already satisfied: pytz>=2020.1 in c:\\users\\ramachandranr\\appdata\\roaming\\python\\python312\\site-packages (from pandas->otter-grader) (2024.2)\n",
      "Requirement already satisfied: tzdata>=2022.7 in c:\\users\\ramachandranr\\appdata\\roaming\\python\\python312\\site-packages (from pandas->otter-grader) (2024.1)\n",
      "Collecting pydantic!=2.0.*,<3,>=2 (from python-on-whales->otter-grader)\n",
      "  Downloading pydantic-2.9.2-py3-none-any.whl.metadata (149 kB)\n",
      "Collecting tqdm (from python-on-whales->otter-grader)\n",
      "  Using cached tqdm-4.66.5-py3-none-any.whl.metadata (57 kB)\n",
      "Collecting typer>=0.4.1 (from python-on-whales->otter-grader)\n",
      "  Downloading typer-0.12.5-py3-none-any.whl.metadata (15 kB)\n",
      "Collecting typing-extensions (from python-on-whales->otter-grader)\n",
      "  Using cached typing_extensions-4.12.2-py3-none-any.whl.metadata (3.0 kB)\n",
      "Collecting charset-normalizer<4,>=2 (from requests->otter-grader)\n",
      "  Using cached charset_normalizer-3.3.2-cp312-cp312-win_amd64.whl.metadata (34 kB)\n",
      "Collecting idna<4,>=2.5 (from requests->otter-grader)\n",
      "  Downloading idna-3.10-py3-none-any.whl.metadata (10 kB)\n",
      "Collecting urllib3<3,>=1.21.1 (from requests->otter-grader)\n",
      "  Downloading urllib3-2.2.3-py3-none-any.whl.metadata (6.5 kB)\n",
      "Collecting certifi>=2017.4.17 (from requests->otter-grader)\n",
      "  Using cached certifi-2024.8.30-py3-none-any.whl.metadata (2.2 kB)\n",
      "Collecting webencodings (from bleach!=5.0.0->nbconvert->otter-grader)\n",
      "  Downloading webencodings-0.5.1-py2.py3-none-any.whl.metadata (2.1 kB)\n",
      "Requirement already satisfied: parso<0.9.0,>=0.8.3 in c:\\users\\ramachandranr\\appdata\\roaming\\python\\python312\\site-packages (from jedi>=0.16->ipython->otter-grader) (0.8.4)\n",
      "Collecting attrs>=22.2.0 (from jsonschema>=2.6->nbformat->otter-grader)\n",
      "  Using cached attrs-24.2.0-py3-none-any.whl.metadata (11 kB)\n",
      "Collecting jsonschema-specifications>=2023.03.6 (from jsonschema>=2.6->nbformat->otter-grader)\n",
      "  Downloading jsonschema_specifications-2023.12.1-py3-none-any.whl.metadata (3.0 kB)\n",
      "Collecting referencing>=0.28.4 (from jsonschema>=2.6->nbformat->otter-grader)\n",
      "  Downloading referencing-0.35.1-py3-none-any.whl.metadata (2.8 kB)\n",
      "Collecting rpds-py>=0.7.1 (from jsonschema>=2.6->nbformat->otter-grader)\n",
      "  Downloading rpds_py-0.20.0-cp312-none-win_amd64.whl.metadata (4.2 kB)\n",
      "Requirement already satisfied: platformdirs>=2.5 in c:\\users\\ramachandranr\\appdata\\roaming\\python\\python312\\site-packages (from jupyter-core>=4.7->nbconvert->otter-grader) (4.3.2)\n",
      "Requirement already satisfied: pywin32>=300 in c:\\users\\ramachandranr\\appdata\\roaming\\python\\python312\\site-packages (from jupyter-core>=4.7->nbconvert->otter-grader) (306)\n",
      "Collecting mdurl~=0.1 (from markdown-it-py>=1.0->jupytext->otter-grader)\n",
      "  Downloading mdurl-0.1.2-py3-none-any.whl.metadata (1.6 kB)\n",
      "Requirement already satisfied: jupyter-client>=6.1.12 in c:\\users\\ramachandranr\\appdata\\roaming\\python\\python312\\site-packages (from nbclient>=0.5.0->nbconvert->otter-grader) (8.6.2)\n",
      "Requirement already satisfied: wcwidth in c:\\users\\ramachandranr\\appdata\\roaming\\python\\python312\\site-packages (from prompt-toolkit<3.1.0,>=3.0.41->ipython->otter-grader) (0.2.13)\n",
      "Collecting annotated-types>=0.6.0 (from pydantic!=2.0.*,<3,>=2->python-on-whales->otter-grader)\n",
      "  Using cached annotated_types-0.7.0-py3-none-any.whl.metadata (15 kB)\n",
      "Collecting pydantic-core==2.23.4 (from pydantic!=2.0.*,<3,>=2->python-on-whales->otter-grader)\n",
      "  Downloading pydantic_core-2.23.4-cp312-none-win_amd64.whl.metadata (6.7 kB)\n",
      "Collecting shellingham>=1.3.0 (from typer>=0.4.1->python-on-whales->otter-grader)\n",
      "  Downloading shellingham-1.5.4-py2.py3-none-any.whl.metadata (3.5 kB)\n",
      "Collecting rich>=10.11.0 (from typer>=0.4.1->python-on-whales->otter-grader)\n",
      "  Downloading rich-13.8.1-py3-none-any.whl.metadata (18 kB)\n",
      "Collecting soupsieve>1.2 (from beautifulsoup4->nbconvert->otter-grader)\n",
      "  Using cached soupsieve-2.6-py3-none-any.whl.metadata (4.6 kB)\n",
      "Collecting sphinxcontrib-applehelp (from sphinx->fica>=0.3.1->otter-grader)\n",
      "  Downloading sphinxcontrib_applehelp-2.0.0-py3-none-any.whl.metadata (2.3 kB)\n",
      "Collecting sphinxcontrib-devhelp (from sphinx->fica>=0.3.1->otter-grader)\n",
      "  Downloading sphinxcontrib_devhelp-2.0.0-py3-none-any.whl.metadata (2.3 kB)\n",
      "Collecting sphinxcontrib-jsmath (from sphinx->fica>=0.3.1->otter-grader)\n",
      "  Downloading sphinxcontrib_jsmath-1.0.1-py2.py3-none-any.whl.metadata (1.4 kB)\n",
      "Collecting sphinxcontrib-htmlhelp>=2.0.0 (from sphinx->fica>=0.3.1->otter-grader)\n",
      "  Downloading sphinxcontrib_htmlhelp-2.1.0-py3-none-any.whl.metadata (2.3 kB)\n",
      "Collecting sphinxcontrib-serializinghtml>=1.1.9 (from sphinx->fica>=0.3.1->otter-grader)\n",
      "  Downloading sphinxcontrib_serializinghtml-2.0.0-py3-none-any.whl.metadata (2.4 kB)\n",
      "Collecting sphinxcontrib-qthelp (from sphinx->fica>=0.3.1->otter-grader)\n",
      "  Downloading sphinxcontrib_qthelp-2.0.0-py3-none-any.whl.metadata (2.3 kB)\n",
      "Collecting snowballstemmer>=2.2 (from sphinx->fica>=0.3.1->otter-grader)\n",
      "  Downloading snowballstemmer-2.2.0-py2.py3-none-any.whl.metadata (6.5 kB)\n",
      "Collecting babel>=2.13 (from sphinx->fica>=0.3.1->otter-grader)\n",
      "  Downloading babel-2.16.0-py3-none-any.whl.metadata (1.5 kB)\n",
      "Collecting alabaster>=0.7.14 (from sphinx->fica>=0.3.1->otter-grader)\n",
      "  Downloading alabaster-1.0.0-py3-none-any.whl.metadata (2.8 kB)\n",
      "Collecting imagesize>=1.3 (from sphinx->fica>=0.3.1->otter-grader)\n",
      "  Downloading imagesize-1.4.1-py2.py3-none-any.whl.metadata (1.5 kB)\n",
      "Requirement already satisfied: executing>=1.2.0 in c:\\users\\ramachandranr\\appdata\\roaming\\python\\python312\\site-packages (from stack-data->ipython->otter-grader) (2.1.0)\n",
      "Requirement already satisfied: asttokens>=2.1.0 in c:\\users\\ramachandranr\\appdata\\roaming\\python\\python312\\site-packages (from stack-data->ipython->otter-grader) (2.4.1)\n",
      "Requirement already satisfied: pure-eval in c:\\users\\ramachandranr\\appdata\\roaming\\python\\python312\\site-packages (from stack-data->ipython->otter-grader) (0.2.3)\n",
      "Requirement already satisfied: pyzmq>=23.0 in c:\\users\\ramachandranr\\appdata\\roaming\\python\\python312\\site-packages (from jupyter-client>=6.1.12->nbclient>=0.5.0->nbconvert->otter-grader) (26.2.0)\n",
      "Requirement already satisfied: tornado>=6.2 in c:\\users\\ramachandranr\\appdata\\roaming\\python\\python312\\site-packages (from jupyter-client>=6.1.12->nbclient>=0.5.0->nbconvert->otter-grader) (6.4.1)\n",
      "Downloading otter_grader-5.6.0-py3-none-any.whl (162 kB)\n",
      "Downloading fica-0.4.1-py3-none-any.whl (13 kB)\n",
      "Downloading astunparse-1.6.3-py2.py3-none-any.whl (12 kB)\n",
      "Downloading dill-0.3.8-py3-none-any.whl (116 kB)\n",
      "Downloading ipylab-1.0.0-py3-none-any.whl (100 kB)\n",
      "Downloading ipywidgets-8.1.5-py3-none-any.whl (139 kB)\n",
      "Downloading jupytext-1.16.4-py3-none-any.whl (153 kB)\n",
      "Downloading nbconvert-7.16.4-py3-none-any.whl (257 kB)\n",
      "Downloading nbformat-5.10.4-py3-none-any.whl (78 kB)\n",
      "Downloading python_on_whales-0.73.0-py3-none-any.whl (118 kB)\n",
      "Using cached PyYAML-6.0.2-cp312-cp312-win_amd64.whl (156 kB)\n",
      "Using cached requests-2.32.3-py3-none-any.whl (64 kB)\n",
      "Using cached wrapt-1.16.0-cp312-cp312-win_amd64.whl (37 kB)\n",
      "Downloading bleach-6.1.0-py3-none-any.whl (162 kB)\n",
      "Using cached certifi-2024.8.30-py3-none-any.whl (167 kB)\n",
      "Using cached charset_normalizer-3.3.2-cp312-cp312-win_amd64.whl (100 kB)\n",
      "Downloading fastjsonschema-2.20.0-py3-none-any.whl (23 kB)\n",
      "Downloading idna-3.10-py3-none-any.whl (70 kB)\n",
      "Downloading jsonschema-4.23.0-py3-none-any.whl (88 kB)\n",
      "Downloading jupyterlab_widgets-3.0.13-py3-none-any.whl (214 kB)\n",
      "Downloading markdown_it_py-3.0.0-py3-none-any.whl (87 kB)\n",
      "Downloading mistune-3.0.2-py3-none-any.whl (47 kB)\n",
      "Downloading nbclient-0.10.0-py3-none-any.whl (25 kB)\n",
      "Downloading pandocfilters-1.5.1-py2.py3-none-any.whl (8.7 kB)\n",
      "Downloading pydantic-2.9.2-py3-none-any.whl (434 kB)\n",
      "Downloading pydantic_core-2.23.4-cp312-none-win_amd64.whl (1.9 MB)\n",
      "   ---------------------------------------- 0.0/1.9 MB ? eta -:--:--\n",
      "   ----- ---------------------------------- 0.3/1.9 MB ? eta -:--:--\n",
      "   ---------- ----------------------------- 0.5/1.9 MB 1.4 MB/s eta 0:00:01\n",
      "   ---------------- ----------------------- 0.8/1.9 MB 1.3 MB/s eta 0:00:01\n",
      "   --------------------- ------------------ 1.0/1.9 MB 1.3 MB/s eta 0:00:01\n",
      "   --------------------------- ------------ 1.3/1.9 MB 1.3 MB/s eta 0:00:01\n",
      "   -------------------------------- ------- 1.6/1.9 MB 1.3 MB/s eta 0:00:01\n",
      "   ---------------------------------------- 1.9/1.9 MB 1.3 MB/s eta 0:00:00\n",
      "Downloading typer-0.12.5-py3-none-any.whl (47 kB)\n",
      "Using cached typing_extensions-4.12.2-py3-none-any.whl (37 kB)\n",
      "Downloading urllib3-2.2.3-py3-none-any.whl (126 kB)\n",
      "Using cached wheel-0.44.0-py3-none-any.whl (67 kB)\n",
      "Downloading widgetsnbextension-4.0.13-py3-none-any.whl (2.3 MB)\n",
      "   ---------------------------------------- 0.0/2.3 MB ? eta -:--:--\n",
      "   ---- ----------------------------------- 0.3/2.3 MB ? eta -:--:--\n",
      "   -------- ------------------------------- 0.5/2.3 MB 1.4 MB/s eta 0:00:02\n",
      "   ------------- -------------------------- 0.8/2.3 MB 1.4 MB/s eta 0:00:02\n",
      "   ----------------- ---------------------- 1.0/2.3 MB 1.5 MB/s eta 0:00:01\n",
      "   ---------------------- ----------------- 1.3/2.3 MB 1.4 MB/s eta 0:00:01\n",
      "   -------------------------- ------------- 1.6/2.3 MB 1.3 MB/s eta 0:00:01\n",
      "   ------------------------------- -------- 1.8/2.3 MB 1.3 MB/s eta 0:00:01\n",
      "   ----------------------------------- ---- 2.1/2.3 MB 1.3 MB/s eta 0:00:01\n",
      "   ---------------------------------------- 2.3/2.3 MB 1.3 MB/s eta 0:00:00\n",
      "Using cached beautifulsoup4-4.12.3-py3-none-any.whl (147 kB)\n",
      "Downloading defusedxml-0.7.1-py2.py3-none-any.whl (25 kB)\n",
      "Downloading docutils-0.21.2-py3-none-any.whl (587 kB)\n",
      "   ---------------------------------------- 0.0/587.4 kB ? eta -:--:--\n",
      "   ----------------- ---------------------- 262.1/587.4 kB ? eta -:--:--\n",
      "   ----------------------------------- ---- 524.3/587.4 kB 1.4 MB/s eta 0:00:01\n",
      "   ---------------------------------------- 587.4/587.4 kB 1.3 MB/s eta 0:00:00\n",
      "Downloading jupyterlab_pygments-0.3.0-py3-none-any.whl (15 kB)\n",
      "Downloading mdit_py_plugins-0.4.2-py3-none-any.whl (55 kB)\n",
      "Downloading sphinx-8.0.2-py3-none-any.whl (3.5 MB)\n",
      "   ---------------------------------------- 0.0/3.5 MB ? eta -:--:--\n",
      "   -- ------------------------------------- 0.3/3.5 MB ? eta -:--:--\n",
      "Note: you may need to restart the kernel to use updated packages.   -- ------------------------------------- 0.3/3.5 MB ? eta -:--:--\n",
      "\n",
      "   ----- ---------------------------------- 0.5/3.5 MB 1.0 MB/s eta 0:00:03\n",
      "   -------- ------------------------------- 0.8/3.5 MB 985.5 kB/s eta 0:00:03\n",
      "   ----------- ---------------------------- 1.0/3.5 MB 931.8 kB/s eta 0:00:03\n",
      "   ----------- ---------------------------- 1.0/3.5 MB 931.8 kB/s eta 0:00:03\n",
      "   -------------- ------------------------- 1.3/3.5 MB 894.7 kB/s eta 0:00:03\n",
      "   ----------------- ---------------------- 1.6/3.5 MB 892.3 kB/s eta 0:00:03\n",
      "   ----------------- ---------------------- 1.6/3.5 MB 892.3 kB/s eta 0:00:03\n",
      "   -------------------- ------------------- 1.8/3.5 MB 867.5 kB/s eta 0:00:02\n",
      "   ----------------------- ---------------- 2.1/3.5 MB 863.5 kB/s eta 0:00:02\n",
      "   ----------------------- ---------------- 2.1/3.5 MB 863.5 kB/s eta 0:00:02\n",
      "   -------------------------- ------------- 2.4/3.5 MB 883.0 kB/s eta 0:00:02\n",
      "   ----------------------------- ---------- 2.6/3.5 MB 898.8 kB/s eta 0:00:01\n",
      "   -------------------------------- ------- 2.9/3.5 MB 926.6 kB/s eta 0:00:01\n",
      "   ----------------------------------- ---- 3.1/3.5 MB 941.4 kB/s eta 0:00:01\n",
      "   -------------------------------------- - 3.4/3.5 MB 949.5 kB/s eta 0:00:01\n",
      "   ---------------------------------------- 3.5/3.5 MB 933.1 kB/s eta 0:00:00\n",
      "Downloading tinycss2-1.3.0-py3-none-any.whl (22 kB)\n",
      "Using cached tqdm-4.66.5-py3-none-any.whl (78 kB)\n",
      "Downloading alabaster-1.0.0-py3-none-any.whl (13 kB)\n",
      "Using cached annotated_types-0.7.0-py3-none-any.whl (13 kB)\n",
      "Using cached attrs-24.2.0-py3-none-any.whl (63 kB)\n",
      "Downloading babel-2.16.0-py3-none-any.whl (9.6 MB)\n",
      "   ---------------------------------------- 0.0/9.6 MB ? eta -:--:--\n",
      "   ---------------------------------------- 0.0/9.6 MB ? eta -:--:--\n",
      "   - -------------------------------------- 0.3/9.6 MB ? eta -:--:--\n",
      "   -- ------------------------------------- 0.5/9.6 MB 1.0 MB/s eta 0:00:09\n",
      "   --- ------------------------------------ 0.8/9.6 MB 1.1 MB/s eta 0:00:09\n",
      "   ---- ----------------------------------- 1.0/9.6 MB 1.1 MB/s eta 0:00:08\n",
      "   ----- ---------------------------------- 1.3/9.6 MB 1.1 MB/s eta 0:00:08\n",
      "   ------ --------------------------------- 1.6/9.6 MB 1.1 MB/s eta 0:00:07\n",
      "   ------- -------------------------------- 1.8/9.6 MB 1.1 MB/s eta 0:00:07\n",
      "   -------- ------------------------------- 2.1/9.6 MB 1.2 MB/s eta 0:00:07\n",
      "   --------- ------------------------------ 2.4/9.6 MB 1.2 MB/s eta 0:00:07\n",
      "   ---------- ----------------------------- 2.6/9.6 MB 1.2 MB/s eta 0:00:06\n",
      "   ------------ --------------------------- 2.9/9.6 MB 1.2 MB/s eta 0:00:06\n",
      "   ------------- -------------------------- 3.1/9.6 MB 1.2 MB/s eta 0:00:06\n",
      "   -------------- ------------------------- 3.4/9.6 MB 1.3 MB/s eta 0:00:05\n",
      "   --------------- ------------------------ 3.7/9.6 MB 1.2 MB/s eta 0:00:05\n",
      "   --------------- ------------------------ 3.7/9.6 MB 1.2 MB/s eta 0:00:05\n",
      "   ---------------- ----------------------- 3.9/9.6 MB 1.2 MB/s eta 0:00:05\n",
      "   ----------------- ---------------------- 4.2/9.6 MB 1.1 MB/s eta 0:00:05\n",
      "   ----------------- ---------------------- 4.2/9.6 MB 1.1 MB/s eta 0:00:05\n",
      "   ------------------ --------------------- 4.5/9.6 MB 1.1 MB/s eta 0:00:05\n",
      "   ------------------- -------------------- 4.7/9.6 MB 1.1 MB/s eta 0:00:05\n",
      "   ------------------- -------------------- 4.7/9.6 MB 1.1 MB/s eta 0:00:05\n",
      "   -------------------- ------------------- 5.0/9.6 MB 1.0 MB/s eta 0:00:05\n",
      "   -------------------- ------------------- 5.0/9.6 MB 1.0 MB/s eta 0:00:05\n",
      "   --------------------- ------------------ 5.2/9.6 MB 999.3 kB/s eta 0:00:05\n",
      "   ---------------------- ----------------- 5.5/9.6 MB 992.8 kB/s eta 0:00:05\n",
      "   ---------------------- ----------------- 5.5/9.6 MB 992.8 kB/s eta 0:00:05\n",
      "   ------------------------ --------------- 5.8/9.6 MB 981.5 kB/s eta 0:00:04\n",
      "   ------------------------- -------------- 6.0/9.6 MB 997.6 kB/s eta 0:00:04\n",
      "   -------------------------- ------------- 6.3/9.6 MB 1.0 MB/s eta 0:00:04\n",
      "   ---------------------------- ----------- 6.8/9.6 MB 1.0 MB/s eta 0:00:03\n",
      "   ----------------------------- ---------- 7.1/9.6 MB 1.0 MB/s eta 0:00:03\n",
      "   ------------------------------ --------- 7.3/9.6 MB 1.1 MB/s eta 0:00:03\n",
      "   ------------------------------- -------- 7.6/9.6 MB 1.1 MB/s eta 0:00:02\n",
      "   --------------------------------- ------ 8.1/9.6 MB 1.1 MB/s eta 0:00:02\n",
      "   ---------------------------------- ----- 8.4/9.6 MB 1.1 MB/s eta 0:00:02\n",
      "   ------------------------------------ --- 8.7/9.6 MB 1.1 MB/s eta 0:00:01\n",
      "   ------------------------------------- -- 8.9/9.6 MB 1.1 MB/s eta 0:00:01\n",
      "   -------------------------------------- - 9.2/9.6 MB 1.1 MB/s eta 0:00:01\n",
      "   ---------------------------------------  9.4/9.6 MB 1.1 MB/s eta 0:00:01\n",
      "   ---------------------------------------  9.4/9.6 MB 1.1 MB/s eta 0:00:01\n",
      "   ---------------------------------------- 9.6/9.6 MB 1.1 MB/s eta 0:00:00\n",
      "Downloading imagesize-1.4.1-py2.py3-none-any.whl (8.8 kB)\n",
      "Downloading jsonschema_specifications-2023.12.1-py3-none-any.whl (18 kB)\n",
      "Downloading mdurl-0.1.2-py3-none-any.whl (10.0 kB)\n",
      "Downloading referencing-0.35.1-py3-none-any.whl (26 kB)\n",
      "Downloading rich-13.8.1-py3-none-any.whl (241 kB)\n",
      "Downloading rpds_py-0.20.0-cp312-none-win_amd64.whl (214 kB)\n",
      "Downloading shellingham-1.5.4-py2.py3-none-any.whl (9.8 kB)\n",
      "Downloading snowballstemmer-2.2.0-py2.py3-none-any.whl (93 kB)\n",
      "Using cached soupsieve-2.6-py3-none-any.whl (36 kB)\n",
      "Downloading sphinxcontrib_htmlhelp-2.1.0-py3-none-any.whl (98 kB)\n",
      "Downloading sphinxcontrib_serializinghtml-2.0.0-py3-none-any.whl (92 kB)\n",
      "Downloading webencodings-0.5.1-py2.py3-none-any.whl (11 kB)\n",
      "Downloading sphinxcontrib_applehelp-2.0.0-py3-none-any.whl (119 kB)\n",
      "Downloading sphinxcontrib_devhelp-2.0.0-py3-none-any.whl (82 kB)\n",
      "Downloading sphinxcontrib_jsmath-1.0.1-py2.py3-none-any.whl (5.1 kB)\n",
      "Downloading sphinxcontrib_qthelp-2.0.0-py3-none-any.whl (88 kB)\n",
      "Installing collected packages: webencodings, snowballstemmer, fastjsonschema, wrapt, widgetsnbextension, wheel, urllib3, typing-extensions, tqdm, tinycss2, sphinxcontrib-serializinghtml, sphinxcontrib-qthelp, sphinxcontrib-jsmath, sphinxcontrib-htmlhelp, sphinxcontrib-devhelp, sphinxcontrib-applehelp, soupsieve, shellingham, rpds-py, PyYAML, pandocfilters, mistune, mdurl, jupyterlab-widgets, jupyterlab-pygments, imagesize, idna, docutils, dill, defusedxml, charset-normalizer, certifi, bleach, babel, attrs, annotated-types, alabaster, requests, referencing, pydantic-core, markdown-it-py, beautifulsoup4, astunparse, sphinx, rich, pydantic, mdit-py-plugins, jsonschema-specifications, typer, jsonschema, ipywidgets, fica, python-on-whales, nbformat, ipylab, nbclient, jupytext, nbconvert, otter-grader\n",
      "Successfully installed PyYAML-6.0.2 alabaster-1.0.0 annotated-types-0.7.0 astunparse-1.6.3 attrs-24.2.0 babel-2.16.0 beautifulsoup4-4.12.3 bleach-6.1.0 certifi-2024.8.30 charset-normalizer-3.3.2 defusedxml-0.7.1 dill-0.3.8 docutils-0.21.2 fastjsonschema-2.20.0 fica-0.4.1 idna-3.10 imagesize-1.4.1 ipylab-1.0.0 ipywidgets-8.1.5 jsonschema-4.23.0 jsonschema-specifications-2023.12.1 jupyterlab-pygments-0.3.0 jupyterlab-widgets-3.0.13 jupytext-1.16.4 markdown-it-py-3.0.0 mdit-py-plugins-0.4.2 mdurl-0.1.2 mistune-3.0.2 nbclient-0.10.0 nbconvert-7.16.4 nbformat-5.10.4 otter-grader-5.6.0 pandocfilters-1.5.1 pydantic-2.9.2 pydantic-core-2.23.4 python-on-whales-0.73.0 referencing-0.35.1 requests-2.32.3 rich-13.8.1 rpds-py-0.20.0 shellingham-1.5.4 snowballstemmer-2.2.0 soupsieve-2.6 sphinx-8.0.2 sphinxcontrib-applehelp-2.0.0 sphinxcontrib-devhelp-2.0.0 sphinxcontrib-htmlhelp-2.1.0 sphinxcontrib-jsmath-1.0.1 sphinxcontrib-qthelp-2.0.0 sphinxcontrib-serializinghtml-2.0.0 tinycss2-1.3.0 tqdm-4.66.5 typer-0.12.5 typing-extensions-4.12.2 urllib3-2.2.3 webencodings-0.5.1 wheel-0.44.0 widgetsnbextension-4.0.13 wrapt-1.16.0\n"
     ]
    }
   ],
   "source": [
    "#pip install otter-grader"
   ]
  },
  {
   "cell_type": "markdown",
   "metadata": {},
   "source": [
    "# Data Programming in Python | BAIS:6040\n",
    "# Homework 3. User-Defined Functions, Exceptions, and Numpy"
   ]
  },
  {
   "cell_type": "markdown",
   "metadata": {},
   "source": [
    "10 questions, 6 points in total"
   ]
  },
  {
   "cell_type": "markdown",
   "metadata": {},
   "source": [
    "## Instructions"
   ]
  },
  {
   "cell_type": "markdown",
   "metadata": {},
   "source": [
    "- Fill in the Python statements needed to complete all the questions below. \n",
    "- Program everything inside this notebook. \n",
    "- Use only one cell per question. \n",
    "- Each code cell must be run with no errors.\n",
    "- Do not contain any unnecessary code in your answer. (Only the final outcome will be regarded as your answer.)\n",
    "- If the question requests that you store information in a certain variable, use the specific variables name (case sensitive).\n",
    "- All problems must be solved in a programmable way.\n",
    "- When you are done, make sure to save your notebook and then click Restart & Run All before subimission to create a clean version."
   ]
  },
  {
   "cell_type": "markdown",
   "metadata": {},
   "source": [
    "## Questions"
   ]
  },
  {
   "cell_type": "markdown",
   "metadata": {
    "deletable": false,
    "editable": false
   },
   "source": [
    "1\\. (0.6 pts) Write a function `get_stats` that takes a list `l` of integers as an argument and returns a tuple of the min, max, and sum of only the positive numbers in `l` for each. You may need a temporary list like `l_tmp` to store only the positive numbers in `l`. Use a for loop to fill in `l_tmp`."
   ]
  },
  {
   "cell_type": "markdown",
   "metadata": {
    "deletable": false,
    "editable": false
   },
   "source": [
    "Note: Do not use the <b>print</b> function in this question. The function returns a tuple, not prints it. "
   ]
  },
  {
   "cell_type": "code",
   "execution_count": 10,
   "metadata": {
    "tags": []
   },
   "outputs": [],
   "source": [
    "# Your answer here\n",
    "def get_stats(l):\n",
    "    l_tmp = [num for num in l if num > 0]\n",
    "    if not l_tmp:\n",
    "        return (None, None, 0)\n",
    "    return (min(l_tmp), max(l_tmp), sum(l_tmp))"
   ]
  },
  {
   "cell_type": "code",
   "execution_count": 11,
   "metadata": {
    "deletable": false,
    "editable": false,
    "scrolled": true
   },
   "outputs": [
    {
     "data": {
      "text/plain": [
       "(1, 3, 6)"
      ]
     },
     "execution_count": 11,
     "metadata": {},
     "output_type": "execute_result"
    }
   ],
   "source": [
    "# Test your function here. (Do not make any change to this cell. Just run this cell.)\n",
    "get_stats([1, 3, 2])            # Output: (1, 3, 6)"
   ]
  },
  {
   "cell_type": "code",
   "execution_count": 12,
   "metadata": {
    "deletable": false,
    "editable": false
   },
   "outputs": [
    {
     "data": {
      "text/plain": [
       "(1, 3, 6)"
      ]
     },
     "execution_count": 12,
     "metadata": {},
     "output_type": "execute_result"
    }
   ],
   "source": [
    "# Test your function here. (Do not make any change to this cell. Just run this cell.)\n",
    "get_stats([-1, 1, 0, 3, 2])     # Output: (1, 3, 6)"
   ]
  },
  {
   "cell_type": "code",
   "execution_count": 13,
   "metadata": {
    "deletable": false,
    "editable": false
   },
   "outputs": [
    {
     "data": {
      "text/plain": [
       "(5, 15, 30)"
      ]
     },
     "execution_count": 13,
     "metadata": {},
     "output_type": "execute_result"
    }
   ],
   "source": [
    "# Test your function here. (Do not make any change to this cell. Just run this cell.)\n",
    "get_stats([5, 10, 15])     # Output: (5, 15, 30)"
   ]
  },
  {
   "cell_type": "code",
   "execution_count": 14,
   "metadata": {
    "deletable": false,
    "editable": false
   },
   "outputs": [
    {
     "data": {
      "text/html": [
       "<p><strong><pre style='display: inline;'>Question01</pre></strong> passed! 🍀</p>"
      ],
      "text/plain": [
       "Question01 results: All test cases passed!"
      ]
     },
     "execution_count": 14,
     "metadata": {},
     "output_type": "execute_result"
    }
   ],
   "source": [
    "grader.check(\"Question01\")"
   ]
  },
  {
   "cell_type": "markdown",
   "metadata": {
    "deletable": false,
    "editable": false
   },
   "source": [
    "2\\. (0.6 pts) Write a function `get_stats2` that works the same as `get_stats` above, but, additionally, it returns the  '*Invalid value!*' string when it finds any non-integer in `l`. Use a for loop to check if each item in `l` is an integer."
   ]
  },
  {
   "cell_type": "markdown",
   "metadata": {
    "deletable": false,
    "editable": false
   },
   "source": [
    "Note: Do not use the <b>print</b> function in this question. The function returns either a tuple or a string, not prints it. "
   ]
  },
  {
   "cell_type": "code",
   "execution_count": 15,
   "metadata": {
    "tags": []
   },
   "outputs": [],
   "source": [
    "# Your answer here\n",
    "def get_stats2(l):\n",
    "    for item in l:\n",
    "        if not isinstance(item, int):\n",
    "            return 'Invalid value!'\n",
    "    l_tmp = [num for num in l if num > 0]\n",
    "    if not l_tmp:\n",
    "        return (None, None, 0)\n",
    "    return (min(l_tmp), max(l_tmp), sum(l_tmp))"
   ]
  },
  {
   "cell_type": "code",
   "execution_count": 16,
   "metadata": {
    "deletable": false,
    "editable": false
   },
   "outputs": [
    {
     "data": {
      "text/plain": [
       "(1, 3, 6)"
      ]
     },
     "execution_count": 16,
     "metadata": {},
     "output_type": "execute_result"
    }
   ],
   "source": [
    "# Test your function here. (Do not make any change to this cell. Just run this cell.)\n",
    "get_stats2([-1, 1, 0, 3, 2])     # Output: (1, 3, 6)"
   ]
  },
  {
   "cell_type": "code",
   "execution_count": 17,
   "metadata": {
    "deletable": false,
    "editable": false
   },
   "outputs": [
    {
     "data": {
      "text/plain": [
       "'Invalid value!'"
      ]
     },
     "execution_count": 17,
     "metadata": {},
     "output_type": "execute_result"
    }
   ],
   "source": [
    "# Test your function here. (Do not make any change to this cell. Just run this cell.)\n",
    "get_stats2([-1, 1, 0.0, 3, 2])   # Output: 'Invalid value!'."
   ]
  },
  {
   "cell_type": "code",
   "execution_count": 18,
   "metadata": {
    "deletable": false,
    "editable": false,
    "scrolled": true
   },
   "outputs": [
    {
     "data": {
      "text/plain": [
       "'Invalid value!'"
      ]
     },
     "execution_count": 18,
     "metadata": {},
     "output_type": "execute_result"
    }
   ],
   "source": [
    "# Test your function here. (Do not make any change to this cell. Just run this cell.)\n",
    "get_stats2([-1, 1, \"0\", 3, 2])   # Output: 'Invalid value!'."
   ]
  },
  {
   "cell_type": "code",
   "execution_count": 19,
   "metadata": {
    "deletable": false,
    "editable": false
   },
   "outputs": [
    {
     "data": {
      "text/html": [
       "<p><strong><pre style='display: inline;'>Question02</pre></strong> passed! 🌈</p>"
      ],
      "text/plain": [
       "Question02 results: All test cases passed!"
      ]
     },
     "execution_count": 19,
     "metadata": {},
     "output_type": "execute_result"
    }
   ],
   "source": [
    "grader.check(\"Question02\")"
   ]
  },
  {
   "cell_type": "markdown",
   "metadata": {
    "deletable": false,
    "editable": false
   },
   "source": [
    "3\\. (0.6 pts) Write a function `truncate` that takes a string `s` and an integer `limit` as arguments and returns the string as it is if the length of the string is equal to or less than `limit`. If the length is greater than `limit`, it only takes the `limit`-length leading substring of `s` (i.e., from the index position 0 to `limit` -1) replacing the rest of `s` with '...' and returns that truncated string. Set the default value for `limit` to 50."
   ]
  },
  {
   "cell_type": "markdown",
   "metadata": {
    "deletable": false,
    "editable": false
   },
   "source": [
    "Note: Do not use the <b>print</b> function in this question. The function returns a string, not prints anything. "
   ]
  },
  {
   "cell_type": "code",
   "execution_count": 20,
   "metadata": {
    "tags": []
   },
   "outputs": [],
   "source": [
    "# Your answer here\n",
    "def truncate(s, limit=50):\n",
    "    if len(s) <= limit:\n",
    "        return s\n",
    "    return s[:limit] + '...'"
   ]
  },
  {
   "cell_type": "code",
   "execution_count": 21,
   "metadata": {
    "deletable": false,
    "editable": false,
    "scrolled": true
   },
   "outputs": [
    {
     "data": {
      "text/plain": [
       "\"I'm learning Python data analytics.\""
      ]
     },
     "execution_count": 21,
     "metadata": {},
     "output_type": "execute_result"
    }
   ],
   "source": [
    "# Test your function here. (Do not make any change to this cell. Just run this cell.)\n",
    "truncate(\"I'm learning Python data analytics.\", 100)\n",
    "\n",
    "# Output: \"I'm learning Python data analytics.\""
   ]
  },
  {
   "cell_type": "code",
   "execution_count": 22,
   "metadata": {
    "deletable": false,
    "editable": false
   },
   "outputs": [
    {
     "data": {
      "text/plain": [
       "\"I'm learni...\""
      ]
     },
     "execution_count": 22,
     "metadata": {},
     "output_type": "execute_result"
    }
   ],
   "source": [
    "# Test your function here. (Do not make any change to this cell. Just run this cell.)\n",
    "truncate(\"I'm learning Python data analytics.\", 10)\n",
    "\n",
    "# Output: \"I'm learni...\""
   ]
  },
  {
   "cell_type": "code",
   "execution_count": 23,
   "metadata": {
    "deletable": false,
    "editable": false
   },
   "outputs": [
    {
     "data": {
      "text/plain": [
       "\"I'm learning Python data analytics. Python is a ge...\""
      ]
     },
     "execution_count": 23,
     "metadata": {},
     "output_type": "execute_result"
    }
   ],
   "source": [
    "# Test your function here. (Do not make any change to this cell. Just run this cell.)\n",
    "truncate(\"I'm learning Python data analytics. Python is a general purpose programming language.\")\n",
    "\n",
    "# Output: \"I'm learning Python data analytics. Python is a ge...\""
   ]
  },
  {
   "cell_type": "code",
   "execution_count": 25,
   "metadata": {
    "deletable": false,
    "editable": false
   },
   "outputs": [
    {
     "data": {
      "text/html": [
       "<p><strong><pre style='display: inline;'>Question03</pre></strong> passed! 🌈</p>"
      ],
      "text/plain": [
       "Question03 results: All test cases passed!"
      ]
     },
     "execution_count": 25,
     "metadata": {},
     "output_type": "execute_result"
    }
   ],
   "source": [
    "grader.check(\"Question03\")"
   ]
  },
  {
   "cell_type": "markdown",
   "metadata": {
    "deletable": false,
    "editable": false
   },
   "source": [
    "4\\. (0.6 pts) Create a dictionary `kwargs` that sets the argument values of `s` to any string longer than 30 characters and `limit` to 30 and then call the `truncate` function by passing `kwargs`."
   ]
  },
  {
   "cell_type": "code",
   "execution_count": 26,
   "metadata": {
    "tags": []
   },
   "outputs": [
    {
     "data": {
      "text/plain": [
       "\"I'm learning Python data analy...\""
      ]
     },
     "execution_count": 26,
     "metadata": {},
     "output_type": "execute_result"
    }
   ],
   "source": [
    "# Your answer here \n",
    "\n",
    "kwargs = {\n",
    "    's': \"I'm learning Python data analytics\",\n",
    "    'limit': 30\n",
    "}\n",
    "\n",
    "# Call the truncate function with the dictionary\n",
    "truncate(**kwargs)"
   ]
  },
  {
   "cell_type": "code",
   "execution_count": 27,
   "metadata": {
    "deletable": false,
    "editable": false
   },
   "outputs": [
    {
     "data": {
      "text/html": [
       "<p><strong><pre style='display: inline;'>Question04</pre></strong> passed! 🙌</p>"
      ],
      "text/plain": [
       "Question04 results: All test cases passed!"
      ]
     },
     "execution_count": 27,
     "metadata": {},
     "output_type": "execute_result"
    }
   ],
   "source": [
    "grader.check(\"Question04\")"
   ]
  },
  {
   "cell_type": "markdown",
   "metadata": {
    "deletable": false,
    "editable": false
   },
   "source": [
    "5\\. (0.6 pts) To use NumPy, import the NumPy package as np."
   ]
  },
  {
   "cell_type": "code",
   "execution_count": 28,
   "metadata": {
    "tags": []
   },
   "outputs": [],
   "source": [
    "\n",
    "\n",
    "# Your answer here\n",
    "import numpy as np"
   ]
  },
  {
   "cell_type": "code",
   "execution_count": 29,
   "metadata": {
    "deletable": false,
    "editable": false
   },
   "outputs": [
    {
     "data": {
      "text/html": [
       "<p><strong><pre style='display: inline;'>Question05</pre></strong> passed! 🌈</p>"
      ],
      "text/plain": [
       "Question05 results: All test cases passed!"
      ]
     },
     "execution_count": 29,
     "metadata": {},
     "output_type": "execute_result"
    }
   ],
   "source": [
    "grader.check(\"Question05\")"
   ]
  },
  {
   "cell_type": "markdown",
   "metadata": {
    "deletable": false,
    "editable": false
   },
   "source": [
    "6\\. (0.6 pts) Set the random seed to 0 and then create a 10 x 10 array `x` of random integers between 1 (inclusive) and 100 (inclusive)."
   ]
  },
  {
   "cell_type": "code",
   "execution_count": 30,
   "metadata": {
    "tags": []
   },
   "outputs": [],
   "source": [
    "# Your answer here \n",
    "np.random.seed(0)\n",
    "x = np.random.randint(1, 101, size=(10, 10))"
   ]
  },
  {
   "cell_type": "code",
   "execution_count": 31,
   "metadata": {
    "deletable": false,
    "editable": false
   },
   "outputs": [
    {
     "data": {
      "text/plain": [
       "array([[ 45,  48,  65,  68,  68,  10,  84,  22,  37,  88],\n",
       "       [ 71,  89,  89,  13,  59,  66,  40,  88,  47,  89],\n",
       "       [ 82,  38,  26,  78,  73,  10,  21,  81,  70,  80],\n",
       "       [ 48,  65,  83, 100,  89,  50,  30,  20,  20,  15],\n",
       "       [ 40,  33,  66,  10,  58,  33,  32,  75,  24,  36],\n",
       "       [ 76,  56,  29,  35,   1,   1,  37,  54,   6,  39],\n",
       "       [ 18,  80,   5,  43,  59,  32,   2,  66,  42,  58],\n",
       "       [ 36,  12,  47,  83,  92,   1,  15, 100,  54,  13],\n",
       "       [ 43,  85,  76,  69,   7,  69,  48,   4,  77,  53],\n",
       "       [ 79,  16,  21, 100,  59,  24,  80,  14,  86,  49]], dtype=int32)"
      ]
     },
     "execution_count": 31,
     "metadata": {},
     "output_type": "execute_result"
    }
   ],
   "source": [
    "# Check your answer here. (Do not make any change to this cell. Just run this cell.)\n",
    "x"
   ]
  },
  {
   "cell_type": "code",
   "execution_count": 32,
   "metadata": {
    "deletable": false,
    "editable": false
   },
   "outputs": [
    {
     "data": {
      "text/html": [
       "<p><strong><pre style='display: inline;'>Question06</pre></strong> passed! 💯</p>"
      ],
      "text/plain": [
       "Question06 results: All test cases passed!"
      ]
     },
     "execution_count": 32,
     "metadata": {},
     "output_type": "execute_result"
    }
   ],
   "source": [
    "grader.check(\"Question06\")"
   ]
  },
  {
   "cell_type": "markdown",
   "metadata": {
    "deletable": false,
    "editable": false
   },
   "source": [
    "7\\. (0.6 pts) Create a 10 x 10 array `y` of integers from 100 (inclusive) to 1 (inclusive), such that the first row has integers from 100 to 91, the second row from 90 to 81, and so on and so forth. Note that order of values matters. "
   ]
  },
  {
   "cell_type": "code",
   "execution_count": 33,
   "metadata": {
    "scrolled": true,
    "tags": []
   },
   "outputs": [],
   "source": [
    "# Your answer here\n",
    "\n",
    "y = np.arange(100, 0, -1).reshape(10, 10)"
   ]
  },
  {
   "cell_type": "code",
   "execution_count": 34,
   "metadata": {
    "deletable": false,
    "editable": false
   },
   "outputs": [
    {
     "data": {
      "text/plain": [
       "array([[100,  99,  98,  97,  96,  95,  94,  93,  92,  91],\n",
       "       [ 90,  89,  88,  87,  86,  85,  84,  83,  82,  81],\n",
       "       [ 80,  79,  78,  77,  76,  75,  74,  73,  72,  71],\n",
       "       [ 70,  69,  68,  67,  66,  65,  64,  63,  62,  61],\n",
       "       [ 60,  59,  58,  57,  56,  55,  54,  53,  52,  51],\n",
       "       [ 50,  49,  48,  47,  46,  45,  44,  43,  42,  41],\n",
       "       [ 40,  39,  38,  37,  36,  35,  34,  33,  32,  31],\n",
       "       [ 30,  29,  28,  27,  26,  25,  24,  23,  22,  21],\n",
       "       [ 20,  19,  18,  17,  16,  15,  14,  13,  12,  11],\n",
       "       [ 10,   9,   8,   7,   6,   5,   4,   3,   2,   1]])"
      ]
     },
     "execution_count": 34,
     "metadata": {},
     "output_type": "execute_result"
    }
   ],
   "source": [
    "# Check your answer here. (Do not make any change to this cell. Just run this cell.)\n",
    "y"
   ]
  },
  {
   "cell_type": "code",
   "execution_count": 35,
   "metadata": {
    "deletable": false,
    "editable": false
   },
   "outputs": [
    {
     "data": {
      "text/html": [
       "<p><strong><pre style='display: inline;'>Question07</pre></strong> passed! 🎉</p>"
      ],
      "text/plain": [
       "Question07 results: All test cases passed!"
      ]
     },
     "execution_count": 35,
     "metadata": {},
     "output_type": "execute_result"
    }
   ],
   "source": [
    "grader.check(\"Question07\")"
   ]
  },
  {
   "cell_type": "markdown",
   "metadata": {
    "deletable": false,
    "editable": false
   },
   "source": [
    "8\\. (0.6 pts) Select all the values that are in the first 3 rows and the last 7 columns of `x` and save the resulting array in `x_top_right`. Select all the values that are in the last 7 rows and the first 3 columns of `y` and save the resulting array in `y_bottom_left`."
   ]
  },
  {
   "cell_type": "code",
   "execution_count": 36,
   "metadata": {
    "tags": []
   },
   "outputs": [],
   "source": [
    "# Your answer here \n",
    "x_top_right = x[:3, -7:]\n",
    "y_bottom_left = y[-7:, :3]"
   ]
  },
  {
   "cell_type": "code",
   "execution_count": 37,
   "metadata": {
    "deletable": false,
    "editable": false
   },
   "outputs": [
    {
     "data": {
      "text/plain": [
       "array([[68, 68, 10, 84, 22, 37, 88],\n",
       "       [13, 59, 66, 40, 88, 47, 89],\n",
       "       [78, 73, 10, 21, 81, 70, 80]], dtype=int32)"
      ]
     },
     "execution_count": 37,
     "metadata": {},
     "output_type": "execute_result"
    }
   ],
   "source": [
    "# Check your answer here. (Do not make any change to this cell. Just run this cell.)\n",
    "x_top_right"
   ]
  },
  {
   "cell_type": "code",
   "execution_count": 38,
   "metadata": {
    "deletable": false,
    "editable": false
   },
   "outputs": [
    {
     "data": {
      "text/plain": [
       "array([[70, 69, 68],\n",
       "       [60, 59, 58],\n",
       "       [50, 49, 48],\n",
       "       [40, 39, 38],\n",
       "       [30, 29, 28],\n",
       "       [20, 19, 18],\n",
       "       [10,  9,  8]])"
      ]
     },
     "execution_count": 38,
     "metadata": {},
     "output_type": "execute_result"
    }
   ],
   "source": [
    "# Check your answer here. (Do not make any change to this cell. Just run this cell.)\n",
    "y_bottom_left"
   ]
  },
  {
   "cell_type": "code",
   "execution_count": 39,
   "metadata": {
    "deletable": false,
    "editable": false
   },
   "outputs": [
    {
     "data": {
      "text/html": [
       "<p><strong><pre style='display: inline;'>Question08</pre></strong> passed! 💯</p>"
      ],
      "text/plain": [
       "Question08 results: All test cases passed!"
      ]
     },
     "execution_count": 39,
     "metadata": {},
     "output_type": "execute_result"
    }
   ],
   "source": [
    "grader.check(\"Question08\")"
   ]
  },
  {
   "cell_type": "markdown",
   "metadata": {
    "deletable": false,
    "editable": false
   },
   "source": [
    "9\\. (0.6 pts) Before we calculate the dot product of `x_top_right` and `y_bottom_left`, we want to confirm that the number of columns of `x_top_right` equals the number of rows of `y_bottom_left`. Compare the two values using the equality operator (==) and save the resulting True value in `ans9`. Do not directly put their values (i.e., 7) in the comparison."
   ]
  },
  {
   "cell_type": "code",
   "execution_count": 40,
   "metadata": {
    "tags": []
   },
   "outputs": [],
   "source": [
    "# Your answer here \n",
    "ans9 = x_top_right.shape[1] == y_bottom_left.shape[0]"
   ]
  },
  {
   "cell_type": "code",
   "execution_count": 41,
   "metadata": {
    "deletable": false,
    "editable": false
   },
   "outputs": [
    {
     "data": {
      "text/plain": [
       "True"
      ]
     },
     "execution_count": 41,
     "metadata": {},
     "output_type": "execute_result"
    }
   ],
   "source": [
    "# Check your answer here. (Do not make any change to this cell. Just run this cell.)\n",
    "ans9"
   ]
  },
  {
   "cell_type": "code",
   "execution_count": 42,
   "metadata": {
    "deletable": false,
    "editable": false
   },
   "outputs": [
    {
     "data": {
      "text/html": [
       "<p><strong><pre style='display: inline;'>Question09</pre></strong> passed! 🙌</p>"
      ],
      "text/plain": [
       "Question09 results: All test cases passed!"
      ]
     },
     "execution_count": 42,
     "metadata": {},
     "output_type": "execute_result"
    }
   ],
   "source": [
    "grader.check(\"Question09\")"
   ]
  },
  {
   "cell_type": "markdown",
   "metadata": {
    "deletable": false,
    "editable": false
   },
   "source": [
    "10\\. (0.6 pts) Calculate the dot product of `x_top_right` and `y_bottom_left` and then save the resulting array in the variable `dot_prod`. "
   ]
  },
  {
   "cell_type": "code",
   "execution_count": 43,
   "metadata": {
    "tags": []
   },
   "outputs": [],
   "source": [
    "# Your answer here \n",
    "dot_prod = np.dot(x_top_right, y_bottom_left)"
   ]
  },
  {
   "cell_type": "code",
   "execution_count": 44,
   "metadata": {
    "deletable": false,
    "editable": false
   },
   "outputs": [
    {
     "data": {
      "text/plain": [
       "array([[14980, 14603, 14226],\n",
       "       [13820, 13418, 13016],\n",
       "       [15810, 15397, 14984]])"
      ]
     },
     "execution_count": 44,
     "metadata": {},
     "output_type": "execute_result"
    }
   ],
   "source": [
    "# Check your answer here. (Do not make any change to this cell. Just run this cell.)\n",
    "dot_prod"
   ]
  },
  {
   "cell_type": "code",
   "execution_count": 45,
   "metadata": {
    "deletable": false,
    "editable": false
   },
   "outputs": [
    {
     "data": {
      "text/html": [
       "<p><strong><pre style='display: inline;'>Question10</pre></strong> passed! 🎉</p>"
      ],
      "text/plain": [
       "Question10 results: All test cases passed!"
      ]
     },
     "execution_count": 45,
     "metadata": {},
     "output_type": "execute_result"
    }
   ],
   "source": [
    "grader.check(\"Question10\")"
   ]
  },
  {
   "cell_type": "markdown",
   "metadata": {},
   "source": [
    "### Now that you have completed all the questions, click Kernel > Restart & Run All to creat a clean version of this notebook and check if all cells have run as expected. "
   ]
  }
 ],
 "metadata": {
  "kernelspec": {
   "display_name": "IDAS Python 3.11",
   "language": "python",
   "name": "python3"
  },
  "language_info": {
   "codemirror_mode": {
    "name": "ipython",
    "version": 3
   },
   "file_extension": ".py",
   "mimetype": "text/x-python",
   "name": "python",
   "nbconvert_exporter": "python",
   "pygments_lexer": "ipython3",
   "version": "3.12.6"
  },
  "otter": {
   "OK_FORMAT": true,
   "assignment_name": "Homework3",
   "tests": {
    "Question01": {
     "name": "Question01",
     "points": 0.6,
     "suites": [
      {
       "cases": [
        {
         "code": ">>> def test_get_stats():\n...     assert get_stats([1, 3, 2]) == (1, 3, 6), 'Test case 1 failed'\n...     assert get_stats([-1, 1, 0, 3, 2]) == (1, 3, 6), 'Test case 2 failed'\n...     assert get_stats([5, 10, 15]) == (5, 15, 30), 'Test case 3 failed'\n...     print('All test cases for get_stats passed!')\n>>> test_get_stats()\nAll test cases for get_stats passed!\n",
         "hidden": false,
         "locked": false
        }
       ],
       "scored": true,
       "setup": "",
       "teardown": "",
       "type": "doctest"
      }
     ]
    },
    "Question02": {
     "name": "Question02",
     "points": 0.6,
     "suites": [
      {
       "cases": [
        {
         "code": ">>> def test_get_stats2():\n...     assert get_stats2([-1, 1, 0, 3, 2]) == (1, 3, 6), 'Test case 1 failed'\n...     assert get_stats2([-1, 1, 0.0, 3, 2]) == 'Invalid value!', 'Test case 2 failed'\n...     assert get_stats2([-1, 1, '0', 3, 2]) == 'Invalid value!', 'Test case 3 failed'\n...     print('All test cases for get_stats2 passed!')\n>>> test_get_stats2()\nAll test cases for get_stats2 passed!\n",
         "hidden": false,
         "locked": false
        }
       ],
       "scored": true,
       "setup": "",
       "teardown": "",
       "type": "doctest"
      }
     ]
    },
    "Question03": {
     "name": "Question03",
     "points": 0.6,
     "suites": [
      {
       "cases": [
        {
         "code": ">>> def test_truncate():\n...     assert truncate(\"I'm learning Python data analytics.\", 100) == \"I'm learning Python data analytics.\", 'Test case 1 failed'\n...     assert truncate(\"I'm learning Python data analytics.\", 10) == \"I'm learni...\", 'Test case 2 failed'\n...     assert truncate('Short text', 50) == 'Short text', 'Test case 3 failed'\n...     assert truncate('This is a very long string that should be truncated.', 20) == 'This is a very long ...', 'Test case 4 failed'\n...     assert truncate('Exact length string.', 20) == 'Exact length string.', 'Test case 5 failed'\n...     assert truncate(\"I'm learning Python data analytics. Python is a general purpose programming language.\") == \"I'm learning Python data analytics. Python is a ge...\", 'Test case 6 failed'\n...     print('All test cases for truncate passed!')\n>>> test_truncate()\nAll test cases for truncate passed!\n",
         "hidden": false,
         "locked": false
        }
       ],
       "scored": true,
       "setup": "",
       "teardown": "",
       "type": "doctest"
      }
     ]
    },
    "Question04": {
     "name": "Question04",
     "points": 0.6,
     "suites": [
      {
       "cases": [
        {
         "code": ">>> def test_truncate_kwargs():\n...     try:\n...         assert 'kwargs' in globals(), \"The variable 'kwargs' is not defined.\"\n...     except AssertionError as e:\n...         print(e)\n...         return\n...     assert 's' in kwargs, \"The key 's' is not in kwargs.\"\n...     assert len(kwargs['s']) > 30, \"The value for key 's' is not longer than 30 characters.\"\n...     assert 'limit' in kwargs, \"The key 'limit' is not in kwargs.\"\n...     assert kwargs['limit'] == 30, \"The value for key 'limit' is not 30.\"\n...     s = kwargs['s']\n...     limit = kwargs['limit']\n...     if len(s) <= limit:\n...         expected_output = s\n...     else:\n...         expected_output = s[:limit] + '...'\n...     actual_output = truncate(**kwargs)\n...     print('Actual Output:', actual_output)\n...     print('Expected Output:', expected_output)\n...     assert actual_output == expected_output, 'The output of truncate(**kwargs) is incorrect.'\n...     print('All test cases for truncate with kwargs passed!')\n>>> test_truncate_kwargs()\nActual Output: I'm learning Python data analy...\nExpected Output: I'm learning Python data analy...\nAll test cases for truncate with kwargs passed!\n",
         "hidden": false,
         "locked": false
        }
       ],
       "scored": true,
       "setup": "",
       "teardown": "",
       "type": "doctest"
      }
     ]
    },
    "Question05": {
     "name": "Question05",
     "points": 0.6,
     "suites": [
      {
       "cases": [
        {
         "code": ">>> def test_import_numpy():\n...     try:\n...         assert 'np' in globals(), \"The package 'numpy' is not imported as 'np'.\"\n...     except AssertionError as e:\n...         print(e)\n...         return\n...     try:\n...         import numpy\n...         assert np is numpy, \"'np' is not the numpy package.\"\n...     except AssertionError as e:\n...         print(e)\n...         return\n...     print('All test cases for importing numpy passed!')\n>>> test_import_numpy()\nAll test cases for importing numpy passed!\n",
         "hidden": false,
         "locked": false
        }
       ],
       "scored": true,
       "setup": "",
       "teardown": "",
       "type": "doctest"
      }
     ]
    },
    "Question06": {
     "name": "Question06",
     "points": 0.6,
     "suites": [
      {
       "cases": [
        {
         "code": ">>> def test_random_array():\n...     np.random.seed(0)\n...     expected_x = np.random.randint(1, 101, (10, 10))\n...     try:\n...         assert 'x' in globals(), \"The variable 'x' is not defined.\"\n...     except AssertionError as e:\n...         print(e)\n...         return\n...     assert x.shape == (10, 10), \"The shape of 'x' is not (10, 10).\"\n...     assert np.all((x >= 1) & (x <= 100)), \"The values in 'x' are not all between 1 and 100 (inclusive).\"\n...     assert np.array_equal(x, expected_x), \"The values in 'x' do not match the expected values.\"\n...     print('All test cases for the random array passed!')\n>>> test_random_array()\nAll test cases for the random array passed!\n",
         "hidden": false,
         "locked": false
        }
       ],
       "scored": true,
       "setup": "",
       "teardown": "",
       "type": "doctest"
      }
     ]
    },
    "Question07": {
     "name": "Question07",
     "points": 0.6,
     "suites": [
      {
       "cases": [
        {
         "code": ">>> def test_array_y():\n...     try:\n...         assert 'y' in globals(), \"The variable 'y' is not defined.\"\n...     except AssertionError as e:\n...         print(e)\n...         return\n...     assert y.shape == (10, 10), \"The shape of 'y' is not (10, 10).\"\n...     expected_y = np.arange(100, 0, -1).reshape(10, 10)\n...     assert np.array_equal(y, expected_y), \"The values in 'y' do not match the expected values.\"\n...     print(\"All test cases for the array 'y' passed!\")\n>>> test_array_y()\nAll test cases for the array 'y' passed!\n",
         "hidden": false,
         "locked": false
        }
       ],
       "scored": true,
       "setup": "",
       "teardown": "",
       "type": "doctest"
      }
     ]
    },
    "Question08": {
     "name": "Question08",
     "points": 0.6,
     "suites": [
      {
       "cases": [
        {
         "code": ">>> def test_subarrays():\n...     try:\n...         assert 'x_top_right' in globals(), \"The variable 'x_top_right' is not defined.\"\n...     except AssertionError as e:\n...         print(e)\n...         return\n...     try:\n...         assert 'y_bottom_left' in globals(), \"The variable 'y_bottom_left' is not defined.\"\n...     except AssertionError as e:\n...         print(e)\n...         return\n...     expected_x_top_right = x[:3, -7:]\n...     assert np.array_equal(x_top_right, expected_x_top_right), \"The values in 'x_top_right' are not correct.\"\n...     expected_y_bottom_left = y[-7:, :3]\n...     assert np.array_equal(y_bottom_left, expected_y_bottom_left), \"The values in 'y_bottom_left' are not correct.\"\n...     print('All test cases for the subarrays passed!')\n>>> test_subarrays()\nAll test cases for the subarrays passed!\n",
         "hidden": false,
         "locked": false
        }
       ],
       "scored": true,
       "setup": "",
       "teardown": "",
       "type": "doctest"
      }
     ]
    },
    "Question09": {
     "name": "Question09",
     "points": 0.6,
     "suites": [
      {
       "cases": [
        {
         "code": ">>> def test_ans9():\n...     try:\n...         assert 'ans9' in globals(), \"The variable 'ans9' is not defined.\"\n...     except AssertionError as e:\n...         print(e)\n...         return\n...     assert isinstance(ans9, bool), \"The variable 'ans9' is not a boolean.\"\n...     expected_ans9 = x_top_right.shape[1] == y_bottom_left.shape[0]\n...     assert ans9 == expected_ans9, \"The value of 'ans9' is not correct.\"\n...     print('All test cases for ans9 passed!')\n>>> test_ans9()\nAll test cases for ans9 passed!\n",
         "hidden": false,
         "locked": false
        }
       ],
       "scored": true,
       "setup": "",
       "teardown": "",
       "type": "doctest"
      }
     ]
    },
    "Question10": {
     "name": "Question10",
     "points": 0.6,
     "suites": [
      {
       "cases": [
        {
         "code": ">>> def test_dot_product():\n...     try:\n...         assert 'dot_prod' in globals(), \"The variable 'dot_prod' is not defined.\"\n...     except AssertionError as e:\n...         print(e)\n...         return\n...     expected_dot_prod = np.dot(x_top_right, y_bottom_left)\n...     assert np.array_equal(dot_prod, expected_dot_prod), \"The values in 'dot_prod' are not correct.\"\n...     print('All test cases for dot_prod passed!')\n>>> test_dot_product()\nAll test cases for dot_prod passed!\n",
         "hidden": false,
         "locked": false
        }
       ],
       "scored": true,
       "setup": "",
       "teardown": "",
       "type": "doctest"
      }
     ]
    }
   }
  }
 },
 "nbformat": 4,
 "nbformat_minor": 4
}
