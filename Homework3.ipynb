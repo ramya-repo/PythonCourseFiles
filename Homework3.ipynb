{
 "cells": [
  {
   "cell_type": "code",
   "execution_count": 46,
   "metadata": {},
   "outputs": [],
   "source": [
    "# Run this cell first!\n",
    "import otter\n",
    "grader = otter.Notebook(\"Homework3.ipynb\")"
   ]
  },
  {
   "cell_type": "code",
   "execution_count": 47,
   "metadata": {},
   "outputs": [],
   "source": [
    "#pip install otter-grader"
   ]
  },
  {
   "cell_type": "markdown",
   "metadata": {},
   "source": [
    "# Data Programming in Python | BAIS:6040\n",
    "# Homework 3. User-Defined Functions, Exceptions, and Numpy"
   ]
  },
  {
   "cell_type": "markdown",
   "metadata": {},
   "source": [
    "10 questions, 6 points in total"
   ]
  },
  {
   "cell_type": "markdown",
   "metadata": {},
   "source": [
    "## Instructions"
   ]
  },
  {
   "cell_type": "markdown",
   "metadata": {},
   "source": [
    "- Fill in the Python statements needed to complete all the questions below. \n",
    "- Program everything inside this notebook. \n",
    "- Use only one cell per question. \n",
    "- Each code cell must be run with no errors.\n",
    "- Do not contain any unnecessary code in your answer. (Only the final outcome will be regarded as your answer.)\n",
    "- If the question requests that you store information in a certain variable, use the specific variables name (case sensitive).\n",
    "- All problems must be solved in a programmable way.\n",
    "- When you are done, make sure to save your notebook and then click Restart & Run All before subimission to create a clean version."
   ]
  },
  {
   "cell_type": "markdown",
   "metadata": {},
   "source": [
    "## Questions"
   ]
  },
  {
   "cell_type": "markdown",
   "metadata": {
    "deletable": false,
    "editable": false
   },
   "source": [
    "1\\. (0.6 pts) Write a function `get_stats` that takes a list `l` of integers as an argument and returns a tuple of the min, max, and sum of only the positive numbers in `l` for each. You may need a temporary list like `l_tmp` to store only the positive numbers in `l`. Use a for loop to fill in `l_tmp`."
   ]
  },
  {
   "cell_type": "markdown",
   "metadata": {
    "deletable": false,
    "editable": false
   },
   "source": [
    "Note: Do not use the <b>print</b> function in this question. The function returns a tuple, not prints it. "
   ]
  },
  {
   "cell_type": "code",
   "execution_count": 48,
   "metadata": {
    "tags": []
   },
   "outputs": [],
   "source": [
    "# Your answer here\n",
    "def get_stats(l):\n",
    "    l_tmp = [num for num in l if num > 0]\n",
    "    if not l_tmp:\n",
    "        return (None, None, 0)\n",
    "    return (min(l_tmp), max(l_tmp), sum(l_tmp))"
   ]
  },
  {
   "cell_type": "code",
   "execution_count": 49,
   "metadata": {
    "deletable": false,
    "editable": false,
    "scrolled": true
   },
   "outputs": [
    {
     "data": {
      "text/plain": [
       "(1, 3, 6)"
      ]
     },
     "execution_count": 49,
     "metadata": {},
     "output_type": "execute_result"
    }
   ],
   "source": [
    "# Test your function here. (Do not make any change to this cell. Just run this cell.)\n",
    "get_stats([1, 3, 2])            # Output: (1, 3, 6)"
   ]
  },
  {
   "cell_type": "code",
   "execution_count": 50,
   "metadata": {
    "deletable": false,
    "editable": false
   },
   "outputs": [
    {
     "data": {
      "text/plain": [
       "(1, 3, 6)"
      ]
     },
     "execution_count": 50,
     "metadata": {},
     "output_type": "execute_result"
    }
   ],
   "source": [
    "# Test your function here. (Do not make any change to this cell. Just run this cell.)\n",
    "get_stats([-1, 1, 0, 3, 2])     # Output: (1, 3, 6)"
   ]
  },
  {
   "cell_type": "code",
   "execution_count": 51,
   "metadata": {
    "deletable": false,
    "editable": false
   },
   "outputs": [
    {
     "data": {
      "text/plain": [
       "(5, 15, 30)"
      ]
     },
     "execution_count": 51,
     "metadata": {},
     "output_type": "execute_result"
    }
   ],
   "source": [
    "# Test your function here. (Do not make any change to this cell. Just run this cell.)\n",
    "get_stats([5, 10, 15])     # Output: (5, 15, 30)"
   ]
  },
  {
   "cell_type": "code",
   "execution_count": 52,
   "metadata": {
    "deletable": false,
    "editable": false
   },
   "outputs": [
    {
     "data": {
      "text/html": [
       "<p><strong><pre style='display: inline;'>Question01</pre></strong> passed! 🍀</p>"
      ],
      "text/plain": [
       "Question01 results: All test cases passed!"
      ]
     },
     "execution_count": 52,
     "metadata": {},
     "output_type": "execute_result"
    }
   ],
   "source": [
    "grader.check(\"Question01\")"
   ]
  },
  {
   "cell_type": "markdown",
   "metadata": {
    "deletable": false,
    "editable": false
   },
   "source": [
    "2\\. (0.6 pts) Write a function `get_stats2` that works the same as `get_stats` above, but, additionally, it returns the  '*Invalid value!*' string when it finds any non-integer in `l`. Use a for loop to check if each item in `l` is an integer."
   ]
  },
  {
   "cell_type": "markdown",
   "metadata": {
    "deletable": false,
    "editable": false
   },
   "source": [
    "Note: Do not use the <b>print</b> function in this question. The function returns either a tuple or a string, not prints it. "
   ]
  },
  {
   "cell_type": "code",
   "execution_count": 53,
   "metadata": {
    "tags": []
   },
   "outputs": [],
   "source": [
    "# Your answer here\n",
    "def get_stats2(l):\n",
    "    for item in l:\n",
    "        if not isinstance(item, int):\n",
    "            return 'Invalid value!'\n",
    "    l_tmp = [num for num in l if num > 0]\n",
    "    if not l_tmp:\n",
    "        return (None, None, 0)\n",
    "    return (min(l_tmp), max(l_tmp), sum(l_tmp))"
   ]
  },
  {
   "cell_type": "code",
   "execution_count": 54,
   "metadata": {
    "deletable": false,
    "editable": false
   },
   "outputs": [
    {
     "data": {
      "text/plain": [
       "(1, 3, 6)"
      ]
     },
     "execution_count": 54,
     "metadata": {},
     "output_type": "execute_result"
    }
   ],
   "source": [
    "# Test your function here. (Do not make any change to this cell. Just run this cell.)\n",
    "get_stats2([-1, 1, 0, 3, 2])     # Output: (1, 3, 6)"
   ]
  },
  {
   "cell_type": "code",
   "execution_count": 55,
   "metadata": {
    "deletable": false,
    "editable": false
   },
   "outputs": [
    {
     "data": {
      "text/plain": [
       "'Invalid value!'"
      ]
     },
     "execution_count": 55,
     "metadata": {},
     "output_type": "execute_result"
    }
   ],
   "source": [
    "# Test your function here. (Do not make any change to this cell. Just run this cell.)\n",
    "get_stats2([-1, 1, 0.0, 3, 2])   # Output: 'Invalid value!'."
   ]
  },
  {
   "cell_type": "code",
   "execution_count": 56,
   "metadata": {
    "deletable": false,
    "editable": false,
    "scrolled": true
   },
   "outputs": [
    {
     "data": {
      "text/plain": [
       "'Invalid value!'"
      ]
     },
     "execution_count": 56,
     "metadata": {},
     "output_type": "execute_result"
    }
   ],
   "source": [
    "# Test your function here. (Do not make any change to this cell. Just run this cell.)\n",
    "get_stats2([-1, 1, \"0\", 3, 2])   # Output: 'Invalid value!'."
   ]
  },
  {
   "cell_type": "code",
   "execution_count": 57,
   "metadata": {
    "deletable": false,
    "editable": false
   },
   "outputs": [
    {
     "data": {
      "text/html": [
       "<p><strong><pre style='display: inline;'>Question02</pre></strong> passed! 🌟</p>"
      ],
      "text/plain": [
       "Question02 results: All test cases passed!"
      ]
     },
     "execution_count": 57,
     "metadata": {},
     "output_type": "execute_result"
    }
   ],
   "source": [
    "grader.check(\"Question02\")"
   ]
  },
  {
   "cell_type": "markdown",
   "metadata": {
    "deletable": false,
    "editable": false
   },
   "source": [
    "3\\. (0.6 pts) Write a function `truncate` that takes a string `s` and an integer `limit` as arguments and returns the string as it is if the length of the string is equal to or less than `limit`. If the length is greater than `limit`, it only takes the `limit`-length leading substring of `s` (i.e., from the index position 0 to `limit` -1) replacing the rest of `s` with '...' and returns that truncated string. Set the default value for `limit` to 50."
   ]
  },
  {
   "cell_type": "markdown",
   "metadata": {
    "deletable": false,
    "editable": false
   },
   "source": [
    "Note: Do not use the <b>print</b> function in this question. The function returns a string, not prints anything. "
   ]
  },
  {
   "cell_type": "code",
   "execution_count": 58,
   "metadata": {
    "tags": []
   },
   "outputs": [],
   "source": [
    "# Your answer here\n",
    "def truncate(s, limit=50):\n",
    "    if len(s) <= limit:\n",
    "        return s\n",
    "    return s[:limit] + '...'"
   ]
  },
  {
   "cell_type": "code",
   "execution_count": 59,
   "metadata": {
    "deletable": false,
    "editable": false,
    "scrolled": true
   },
   "outputs": [
    {
     "data": {
      "text/plain": [
       "\"I'm learning Python data analytics.\""
      ]
     },
     "execution_count": 59,
     "metadata": {},
     "output_type": "execute_result"
    }
   ],
   "source": [
    "# Test your function here. (Do not make any change to this cell. Just run this cell.)\n",
    "truncate(\"I'm learning Python data analytics.\", 100)\n",
    "\n",
    "# Output: \"I'm learning Python data analytics.\""
   ]
  },
  {
   "cell_type": "code",
   "execution_count": 60,
   "metadata": {
    "deletable": false,
    "editable": false
   },
   "outputs": [
    {
     "data": {
      "text/plain": [
       "\"I'm learni...\""
      ]
     },
     "execution_count": 60,
     "metadata": {},
     "output_type": "execute_result"
    }
   ],
   "source": [
    "# Test your function here. (Do not make any change to this cell. Just run this cell.)\n",
    "truncate(\"I'm learning Python data analytics.\", 10)\n",
    "\n",
    "# Output: \"I'm learni...\""
   ]
  },
  {
   "cell_type": "code",
   "execution_count": 61,
   "metadata": {
    "deletable": false,
    "editable": false
   },
   "outputs": [
    {
     "data": {
      "text/plain": [
       "\"I'm learning Python data analytics. Python is a ge...\""
      ]
     },
     "execution_count": 61,
     "metadata": {},
     "output_type": "execute_result"
    }
   ],
   "source": [
    "# Test your function here. (Do not make any change to this cell. Just run this cell.)\n",
    "truncate(\"I'm learning Python data analytics. Python is a general purpose programming language.\")\n",
    "\n",
    "# Output: \"I'm learning Python data analytics. Python is a ge...\""
   ]
  },
  {
   "cell_type": "code",
   "execution_count": 62,
   "metadata": {
    "deletable": false,
    "editable": false
   },
   "outputs": [
    {
     "data": {
      "text/html": [
       "<p><strong><pre style='display: inline;'>Question03</pre></strong> passed! 🍀</p>"
      ],
      "text/plain": [
       "Question03 results: All test cases passed!"
      ]
     },
     "execution_count": 62,
     "metadata": {},
     "output_type": "execute_result"
    }
   ],
   "source": [
    "grader.check(\"Question03\")"
   ]
  },
  {
   "cell_type": "markdown",
   "metadata": {
    "deletable": false,
    "editable": false
   },
   "source": [
    "4\\. (0.6 pts) Create a dictionary `kwargs` that sets the argument values of `s` to any string longer than 30 characters and `limit` to 30 and then call the `truncate` function by passing `kwargs`."
   ]
  },
  {
   "cell_type": "code",
   "execution_count": 63,
   "metadata": {
    "tags": []
   },
   "outputs": [
    {
     "data": {
      "text/plain": [
       "\"I'm learning Python data analy...\""
      ]
     },
     "execution_count": 63,
     "metadata": {},
     "output_type": "execute_result"
    }
   ],
   "source": [
    "# Your answer here \n",
    "\n",
    "kwargs = {\n",
    "    's': \"I'm learning Python data analytics\",\n",
    "    'limit': 30\n",
    "}\n",
    "\n",
    "# Call the truncate function with the dictionary\n",
    "truncate(**kwargs)"
   ]
  },
  {
   "cell_type": "code",
   "execution_count": 64,
   "metadata": {
    "deletable": false,
    "editable": false
   },
   "outputs": [
    {
     "data": {
      "text/html": [
       "<p><strong><pre style='display: inline;'>Question04</pre></strong> passed! 🙌</p>"
      ],
      "text/plain": [
       "Question04 results: All test cases passed!"
      ]
     },
     "execution_count": 64,
     "metadata": {},
     "output_type": "execute_result"
    }
   ],
   "source": [
    "grader.check(\"Question04\")"
   ]
  },
  {
   "cell_type": "markdown",
   "metadata": {
    "deletable": false,
    "editable": false
   },
   "source": [
    "5\\. (0.6 pts) To use NumPy, import the NumPy package as np."
   ]
  },
  {
   "cell_type": "code",
   "execution_count": 65,
   "metadata": {
    "tags": []
   },
   "outputs": [],
   "source": [
    "\n",
    "\n",
    "# Your answer here\n",
    "import numpy as np"
   ]
  },
  {
   "cell_type": "code",
   "execution_count": 66,
   "metadata": {
    "deletable": false,
    "editable": false
   },
   "outputs": [
    {
     "data": {
      "text/html": [
       "<p><strong><pre style='display: inline;'>Question05</pre></strong> passed! 🍀</p>"
      ],
      "text/plain": [
       "Question05 results: All test cases passed!"
      ]
     },
     "execution_count": 66,
     "metadata": {},
     "output_type": "execute_result"
    }
   ],
   "source": [
    "grader.check(\"Question05\")"
   ]
  },
  {
   "cell_type": "markdown",
   "metadata": {
    "deletable": false,
    "editable": false
   },
   "source": [
    "6\\. (0.6 pts) Set the random seed to 0 and then create a 10 x 10 array `x` of random integers between 1 (inclusive) and 100 (inclusive)."
   ]
  },
  {
   "cell_type": "code",
   "execution_count": 67,
   "metadata": {
    "tags": []
   },
   "outputs": [],
   "source": [
    "# Your answer here \n",
    "np.random.seed(0)\n",
    "x = np.random.randint(1, 101, size=(10, 10))"
   ]
  },
  {
   "cell_type": "code",
   "execution_count": 68,
   "metadata": {
    "deletable": false,
    "editable": false
   },
   "outputs": [
    {
     "data": {
      "text/plain": [
       "array([[ 45,  48,  65,  68,  68,  10,  84,  22,  37,  88],\n",
       "       [ 71,  89,  89,  13,  59,  66,  40,  88,  47,  89],\n",
       "       [ 82,  38,  26,  78,  73,  10,  21,  81,  70,  80],\n",
       "       [ 48,  65,  83, 100,  89,  50,  30,  20,  20,  15],\n",
       "       [ 40,  33,  66,  10,  58,  33,  32,  75,  24,  36],\n",
       "       [ 76,  56,  29,  35,   1,   1,  37,  54,   6,  39],\n",
       "       [ 18,  80,   5,  43,  59,  32,   2,  66,  42,  58],\n",
       "       [ 36,  12,  47,  83,  92,   1,  15, 100,  54,  13],\n",
       "       [ 43,  85,  76,  69,   7,  69,  48,   4,  77,  53],\n",
       "       [ 79,  16,  21, 100,  59,  24,  80,  14,  86,  49]], dtype=int32)"
      ]
     },
     "execution_count": 68,
     "metadata": {},
     "output_type": "execute_result"
    }
   ],
   "source": [
    "# Check your answer here. (Do not make any change to this cell. Just run this cell.)\n",
    "x"
   ]
  },
  {
   "cell_type": "code",
   "execution_count": 69,
   "metadata": {
    "deletable": false,
    "editable": false
   },
   "outputs": [
    {
     "data": {
      "text/html": [
       "<p><strong><pre style='display: inline;'>Question06</pre></strong> passed! 🙌</p>"
      ],
      "text/plain": [
       "Question06 results: All test cases passed!"
      ]
     },
     "execution_count": 69,
     "metadata": {},
     "output_type": "execute_result"
    }
   ],
   "source": [
    "grader.check(\"Question06\")"
   ]
  },
  {
   "cell_type": "markdown",
   "metadata": {
    "deletable": false,
    "editable": false
   },
   "source": [
    "7\\. (0.6 pts) Create a 10 x 10 array `y` of integers from 100 (inclusive) to 1 (inclusive), such that the first row has integers from 100 to 91, the second row from 90 to 81, and so on and so forth. Note that order of values matters. "
   ]
  },
  {
   "cell_type": "code",
   "execution_count": 70,
   "metadata": {
    "scrolled": true,
    "tags": []
   },
   "outputs": [],
   "source": [
    "# Your answer here\n",
    "\n",
    "y = np.arange(100, 0, -1).reshape(10, 10)"
   ]
  },
  {
   "cell_type": "code",
   "execution_count": 71,
   "metadata": {
    "deletable": false,
    "editable": false
   },
   "outputs": [
    {
     "data": {
      "text/plain": [
       "array([[100,  99,  98,  97,  96,  95,  94,  93,  92,  91],\n",
       "       [ 90,  89,  88,  87,  86,  85,  84,  83,  82,  81],\n",
       "       [ 80,  79,  78,  77,  76,  75,  74,  73,  72,  71],\n",
       "       [ 70,  69,  68,  67,  66,  65,  64,  63,  62,  61],\n",
       "       [ 60,  59,  58,  57,  56,  55,  54,  53,  52,  51],\n",
       "       [ 50,  49,  48,  47,  46,  45,  44,  43,  42,  41],\n",
       "       [ 40,  39,  38,  37,  36,  35,  34,  33,  32,  31],\n",
       "       [ 30,  29,  28,  27,  26,  25,  24,  23,  22,  21],\n",
       "       [ 20,  19,  18,  17,  16,  15,  14,  13,  12,  11],\n",
       "       [ 10,   9,   8,   7,   6,   5,   4,   3,   2,   1]])"
      ]
     },
     "execution_count": 71,
     "metadata": {},
     "output_type": "execute_result"
    }
   ],
   "source": [
    "# Check your answer here. (Do not make any change to this cell. Just run this cell.)\n",
    "y"
   ]
  },
  {
   "cell_type": "code",
   "execution_count": 72,
   "metadata": {
    "deletable": false,
    "editable": false
   },
   "outputs": [
    {
     "data": {
      "text/html": [
       "<p><strong><pre style='display: inline;'>Question07</pre></strong> passed! 🚀</p>"
      ],
      "text/plain": [
       "Question07 results: All test cases passed!"
      ]
     },
     "execution_count": 72,
     "metadata": {},
     "output_type": "execute_result"
    }
   ],
   "source": [
    "grader.check(\"Question07\")"
   ]
  },
  {
   "cell_type": "markdown",
   "metadata": {
    "deletable": false,
    "editable": false
   },
   "source": [
    "8\\. (0.6 pts) Select all the values that are in the first 3 rows and the last 7 columns of `x` and save the resulting array in `x_top_right`. Select all the values that are in the last 7 rows and the first 3 columns of `y` and save the resulting array in `y_bottom_left`."
   ]
  },
  {
   "cell_type": "code",
   "execution_count": 73,
   "metadata": {
    "tags": []
   },
   "outputs": [],
   "source": [
    "# Your answer here \n",
    "x_top_right = x[:3, -7:]\n",
    "y_bottom_left = y[-7:, :3]"
   ]
  },
  {
   "cell_type": "code",
   "execution_count": 74,
   "metadata": {
    "deletable": false,
    "editable": false
   },
   "outputs": [
    {
     "data": {
      "text/plain": [
       "array([[68, 68, 10, 84, 22, 37, 88],\n",
       "       [13, 59, 66, 40, 88, 47, 89],\n",
       "       [78, 73, 10, 21, 81, 70, 80]], dtype=int32)"
      ]
     },
     "execution_count": 74,
     "metadata": {},
     "output_type": "execute_result"
    }
   ],
   "source": [
    "# Check your answer here. (Do not make any change to this cell. Just run this cell.)\n",
    "x_top_right"
   ]
  },
  {
   "cell_type": "code",
   "execution_count": 75,
   "metadata": {
    "deletable": false,
    "editable": false
   },
   "outputs": [
    {
     "data": {
      "text/plain": [
       "array([[70, 69, 68],\n",
       "       [60, 59, 58],\n",
       "       [50, 49, 48],\n",
       "       [40, 39, 38],\n",
       "       [30, 29, 28],\n",
       "       [20, 19, 18],\n",
       "       [10,  9,  8]])"
      ]
     },
     "execution_count": 75,
     "metadata": {},
     "output_type": "execute_result"
    }
   ],
   "source": [
    "# Check your answer here. (Do not make any change to this cell. Just run this cell.)\n",
    "y_bottom_left"
   ]
  },
  {
   "cell_type": "code",
   "execution_count": 76,
   "metadata": {
    "deletable": false,
    "editable": false
   },
   "outputs": [
    {
     "data": {
      "text/html": [
       "<p><strong><pre style='display: inline;'>Question08</pre></strong> passed! 🌟</p>"
      ],
      "text/plain": [
       "Question08 results: All test cases passed!"
      ]
     },
     "execution_count": 76,
     "metadata": {},
     "output_type": "execute_result"
    }
   ],
   "source": [
    "grader.check(\"Question08\")"
   ]
  },
  {
   "cell_type": "markdown",
   "metadata": {
    "deletable": false,
    "editable": false
   },
   "source": [
    "9\\. (0.6 pts) Before we calculate the dot product of `x_top_right` and `y_bottom_left`, we want to confirm that the number of columns of `x_top_right` equals the number of rows of `y_bottom_left`. Compare the two values using the equality operator (==) and save the resulting True value in `ans9`. Do not directly put their values (i.e., 7) in the comparison."
   ]
  },
  {
   "cell_type": "code",
   "execution_count": 77,
   "metadata": {
    "tags": []
   },
   "outputs": [],
   "source": [
    "# Your answer here \n",
    "ans9 = x_top_right.shape[1] == y_bottom_left.shape[0]"
   ]
  },
  {
   "cell_type": "code",
   "execution_count": 78,
   "metadata": {
    "deletable": false,
    "editable": false
   },
   "outputs": [
    {
     "data": {
      "text/plain": [
       "True"
      ]
     },
     "execution_count": 78,
     "metadata": {},
     "output_type": "execute_result"
    }
   ],
   "source": [
    "# Check your answer here. (Do not make any change to this cell. Just run this cell.)\n",
    "ans9"
   ]
  },
  {
   "cell_type": "code",
   "execution_count": 79,
   "metadata": {
    "deletable": false,
    "editable": false
   },
   "outputs": [
    {
     "data": {
      "text/html": [
       "<p><strong><pre style='display: inline;'>Question09</pre></strong> passed! 🙌</p>"
      ],
      "text/plain": [
       "Question09 results: All test cases passed!"
      ]
     },
     "execution_count": 79,
     "metadata": {},
     "output_type": "execute_result"
    }
   ],
   "source": [
    "grader.check(\"Question09\")"
   ]
  },
  {
   "cell_type": "markdown",
   "metadata": {
    "deletable": false,
    "editable": false
   },
   "source": [
    "10\\. (0.6 pts) Calculate the dot product of `x_top_right` and `y_bottom_left` and then save the resulting array in the variable `dot_prod`. "
   ]
  },
  {
   "cell_type": "code",
   "execution_count": 80,
   "metadata": {
    "tags": []
   },
   "outputs": [],
   "source": [
    "# Your answer here \n",
    "dot_prod = np.dot(x_top_right, y_bottom_left)"
   ]
  },
  {
   "cell_type": "code",
   "execution_count": 81,
   "metadata": {
    "deletable": false,
    "editable": false
   },
   "outputs": [
    {
     "data": {
      "text/plain": [
       "array([[14980, 14603, 14226],\n",
       "       [13820, 13418, 13016],\n",
       "       [15810, 15397, 14984]])"
      ]
     },
     "execution_count": 81,
     "metadata": {},
     "output_type": "execute_result"
    }
   ],
   "source": [
    "# Check your answer here. (Do not make any change to this cell. Just run this cell.)\n",
    "dot_prod"
   ]
  },
  {
   "cell_type": "code",
   "execution_count": 82,
   "metadata": {
    "deletable": false,
    "editable": false
   },
   "outputs": [
    {
     "data": {
      "text/html": [
       "<p><strong><pre style='display: inline;'>Question10</pre></strong> passed! 🌈</p>"
      ],
      "text/plain": [
       "Question10 results: All test cases passed!"
      ]
     },
     "execution_count": 82,
     "metadata": {},
     "output_type": "execute_result"
    }
   ],
   "source": [
    "grader.check(\"Question10\")"
   ]
  },
  {
   "cell_type": "markdown",
   "metadata": {},
   "source": [
    "### Now that you have completed all the questions, click Kernel > Restart & Run All to creat a clean version of this notebook and check if all cells have run as expected. "
   ]
  }
 ],
 "metadata": {
  "kernelspec": {
   "display_name": "IDAS Python 3.11",
   "language": "python",
   "name": "python3"
  },
  "language_info": {
   "codemirror_mode": {
    "name": "ipython",
    "version": 3
   },
   "file_extension": ".py",
   "mimetype": "text/x-python",
   "name": "python",
   "nbconvert_exporter": "python",
   "pygments_lexer": "ipython3",
   "version": "3.12.6"
  },
  "otter": {
   "OK_FORMAT": true,
   "assignment_name": "Homework3",
   "tests": {
    "Question01": {
     "name": "Question01",
     "points": 0.6,
     "suites": [
      {
       "cases": [
        {
         "code": ">>> def test_get_stats():\n...     assert get_stats([1, 3, 2]) == (1, 3, 6), 'Test case 1 failed'\n...     assert get_stats([-1, 1, 0, 3, 2]) == (1, 3, 6), 'Test case 2 failed'\n...     assert get_stats([5, 10, 15]) == (5, 15, 30), 'Test case 3 failed'\n...     print('All test cases for get_stats passed!')\n>>> test_get_stats()\nAll test cases for get_stats passed!\n",
         "hidden": false,
         "locked": false
        }
       ],
       "scored": true,
       "setup": "",
       "teardown": "",
       "type": "doctest"
      }
     ]
    },
    "Question02": {
     "name": "Question02",
     "points": 0.6,
     "suites": [
      {
       "cases": [
        {
         "code": ">>> def test_get_stats2():\n...     assert get_stats2([-1, 1, 0, 3, 2]) == (1, 3, 6), 'Test case 1 failed'\n...     assert get_stats2([-1, 1, 0.0, 3, 2]) == 'Invalid value!', 'Test case 2 failed'\n...     assert get_stats2([-1, 1, '0', 3, 2]) == 'Invalid value!', 'Test case 3 failed'\n...     print('All test cases for get_stats2 passed!')\n>>> test_get_stats2()\nAll test cases for get_stats2 passed!\n",
         "hidden": false,
         "locked": false
        }
       ],
       "scored": true,
       "setup": "",
       "teardown": "",
       "type": "doctest"
      }
     ]
    },
    "Question03": {
     "name": "Question03",
     "points": 0.6,
     "suites": [
      {
       "cases": [
        {
         "code": ">>> def test_truncate():\n...     assert truncate(\"I'm learning Python data analytics.\", 100) == \"I'm learning Python data analytics.\", 'Test case 1 failed'\n...     assert truncate(\"I'm learning Python data analytics.\", 10) == \"I'm learni...\", 'Test case 2 failed'\n...     assert truncate('Short text', 50) == 'Short text', 'Test case 3 failed'\n...     assert truncate('This is a very long string that should be truncated.', 20) == 'This is a very long ...', 'Test case 4 failed'\n...     assert truncate('Exact length string.', 20) == 'Exact length string.', 'Test case 5 failed'\n...     assert truncate(\"I'm learning Python data analytics. Python is a general purpose programming language.\") == \"I'm learning Python data analytics. Python is a ge...\", 'Test case 6 failed'\n...     print('All test cases for truncate passed!')\n>>> test_truncate()\nAll test cases for truncate passed!\n",
         "hidden": false,
         "locked": false
        }
       ],
       "scored": true,
       "setup": "",
       "teardown": "",
       "type": "doctest"
      }
     ]
    },
    "Question04": {
     "name": "Question04",
     "points": 0.6,
     "suites": [
      {
       "cases": [
        {
         "code": ">>> def test_truncate_kwargs():\n...     try:\n...         assert 'kwargs' in globals(), \"The variable 'kwargs' is not defined.\"\n...     except AssertionError as e:\n...         print(e)\n...         return\n...     assert 's' in kwargs, \"The key 's' is not in kwargs.\"\n...     assert len(kwargs['s']) > 30, \"The value for key 's' is not longer than 30 characters.\"\n...     assert 'limit' in kwargs, \"The key 'limit' is not in kwargs.\"\n...     assert kwargs['limit'] == 30, \"The value for key 'limit' is not 30.\"\n...     s = kwargs['s']\n...     limit = kwargs['limit']\n...     if len(s) <= limit:\n...         expected_output = s\n...     else:\n...         expected_output = s[:limit] + '...'\n...     actual_output = truncate(**kwargs)\n...     print('Actual Output:', actual_output)\n...     print('Expected Output:', expected_output)\n...     assert actual_output == expected_output, 'The output of truncate(**kwargs) is incorrect.'\n...     print('All test cases for truncate with kwargs passed!')\n>>> test_truncate_kwargs()\nActual Output: I'm learning Python data analy...\nExpected Output: I'm learning Python data analy...\nAll test cases for truncate with kwargs passed!\n",
         "hidden": false,
         "locked": false
        }
       ],
       "scored": true,
       "setup": "",
       "teardown": "",
       "type": "doctest"
      }
     ]
    },
    "Question05": {
     "name": "Question05",
     "points": 0.6,
     "suites": [
      {
       "cases": [
        {
         "code": ">>> def test_import_numpy():\n...     try:\n...         assert 'np' in globals(), \"The package 'numpy' is not imported as 'np'.\"\n...     except AssertionError as e:\n...         print(e)\n...         return\n...     try:\n...         import numpy\n...         assert np is numpy, \"'np' is not the numpy package.\"\n...     except AssertionError as e:\n...         print(e)\n...         return\n...     print('All test cases for importing numpy passed!')\n>>> test_import_numpy()\nAll test cases for importing numpy passed!\n",
         "hidden": false,
         "locked": false
        }
       ],
       "scored": true,
       "setup": "",
       "teardown": "",
       "type": "doctest"
      }
     ]
    },
    "Question06": {
     "name": "Question06",
     "points": 0.6,
     "suites": [
      {
       "cases": [
        {
         "code": ">>> def test_random_array():\n...     np.random.seed(0)\n...     expected_x = np.random.randint(1, 101, (10, 10))\n...     try:\n...         assert 'x' in globals(), \"The variable 'x' is not defined.\"\n...     except AssertionError as e:\n...         print(e)\n...         return\n...     assert x.shape == (10, 10), \"The shape of 'x' is not (10, 10).\"\n...     assert np.all((x >= 1) & (x <= 100)), \"The values in 'x' are not all between 1 and 100 (inclusive).\"\n...     assert np.array_equal(x, expected_x), \"The values in 'x' do not match the expected values.\"\n...     print('All test cases for the random array passed!')\n>>> test_random_array()\nAll test cases for the random array passed!\n",
         "hidden": false,
         "locked": false
        }
       ],
       "scored": true,
       "setup": "",
       "teardown": "",
       "type": "doctest"
      }
     ]
    },
    "Question07": {
     "name": "Question07",
     "points": 0.6,
     "suites": [
      {
       "cases": [
        {
         "code": ">>> def test_array_y():\n...     try:\n...         assert 'y' in globals(), \"The variable 'y' is not defined.\"\n...     except AssertionError as e:\n...         print(e)\n...         return\n...     assert y.shape == (10, 10), \"The shape of 'y' is not (10, 10).\"\n...     expected_y = np.arange(100, 0, -1).reshape(10, 10)\n...     assert np.array_equal(y, expected_y), \"The values in 'y' do not match the expected values.\"\n...     print(\"All test cases for the array 'y' passed!\")\n>>> test_array_y()\nAll test cases for the array 'y' passed!\n",
         "hidden": false,
         "locked": false
        }
       ],
       "scored": true,
       "setup": "",
       "teardown": "",
       "type": "doctest"
      }
     ]
    },
    "Question08": {
     "name": "Question08",
     "points": 0.6,
     "suites": [
      {
       "cases": [
        {
         "code": ">>> def test_subarrays():\n...     try:\n...         assert 'x_top_right' in globals(), \"The variable 'x_top_right' is not defined.\"\n...     except AssertionError as e:\n...         print(e)\n...         return\n...     try:\n...         assert 'y_bottom_left' in globals(), \"The variable 'y_bottom_left' is not defined.\"\n...     except AssertionError as e:\n...         print(e)\n...         return\n...     expected_x_top_right = x[:3, -7:]\n...     assert np.array_equal(x_top_right, expected_x_top_right), \"The values in 'x_top_right' are not correct.\"\n...     expected_y_bottom_left = y[-7:, :3]\n...     assert np.array_equal(y_bottom_left, expected_y_bottom_left), \"The values in 'y_bottom_left' are not correct.\"\n...     print('All test cases for the subarrays passed!')\n>>> test_subarrays()\nAll test cases for the subarrays passed!\n",
         "hidden": false,
         "locked": false
        }
       ],
       "scored": true,
       "setup": "",
       "teardown": "",
       "type": "doctest"
      }
     ]
    },
    "Question09": {
     "name": "Question09",
     "points": 0.6,
     "suites": [
      {
       "cases": [
        {
         "code": ">>> def test_ans9():\n...     try:\n...         assert 'ans9' in globals(), \"The variable 'ans9' is not defined.\"\n...     except AssertionError as e:\n...         print(e)\n...         return\n...     assert isinstance(ans9, bool), \"The variable 'ans9' is not a boolean.\"\n...     expected_ans9 = x_top_right.shape[1] == y_bottom_left.shape[0]\n...     assert ans9 == expected_ans9, \"The value of 'ans9' is not correct.\"\n...     print('All test cases for ans9 passed!')\n>>> test_ans9()\nAll test cases for ans9 passed!\n",
         "hidden": false,
         "locked": false
        }
       ],
       "scored": true,
       "setup": "",
       "teardown": "",
       "type": "doctest"
      }
     ]
    },
    "Question10": {
     "name": "Question10",
     "points": 0.6,
     "suites": [
      {
       "cases": [
        {
         "code": ">>> def test_dot_product():\n...     try:\n...         assert 'dot_prod' in globals(), \"The variable 'dot_prod' is not defined.\"\n...     except AssertionError as e:\n...         print(e)\n...         return\n...     expected_dot_prod = np.dot(x_top_right, y_bottom_left)\n...     assert np.array_equal(dot_prod, expected_dot_prod), \"The values in 'dot_prod' are not correct.\"\n...     print('All test cases for dot_prod passed!')\n>>> test_dot_product()\nAll test cases for dot_prod passed!\n",
         "hidden": false,
         "locked": false
        }
       ],
       "scored": true,
       "setup": "",
       "teardown": "",
       "type": "doctest"
      }
     ]
    }
   }
  }
 },
 "nbformat": 4,
 "nbformat_minor": 4
}
